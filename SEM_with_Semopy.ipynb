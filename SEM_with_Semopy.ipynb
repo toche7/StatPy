{
  "nbformat": 4,
  "nbformat_minor": 0,
  "metadata": {
    "colab": {
      "provenance": [],
      "authorship_tag": "ABX9TyOwzr13HakYUUZl646rovld",
      "include_colab_link": true
    },
    "kernelspec": {
      "name": "python3",
      "display_name": "Python 3"
    },
    "language_info": {
      "name": "python"
    }
  },
  "cells": [
    {
      "cell_type": "markdown",
      "metadata": {
        "id": "view-in-github",
        "colab_type": "text"
      },
      "source": [
        "<a href=\"https://colab.research.google.com/github/toche7/StatPy/blob/main/SEM_with_Semopy.ipynb\" target=\"_parent\"><img src=\"https://colab.research.google.com/assets/colab-badge.svg\" alt=\"Open In Colab\"/></a>"
      ]
    },
    {
      "cell_type": "markdown",
      "source": [
        "# SEM with Semopy\n",
        "\n",
        "เอกสารนี้จะอธิบายการใช้งาน Library Sempoy สำหรับงานทางด้านการวิเคราะห์ SEM และ Model อื่นที่เกี่ยวข้องเช่น Regression, CFA เป็นต้น"
      ],
      "metadata": {
        "id": "STKGkR7aozzi"
      }
    },
    {
      "cell_type": "markdown",
      "source": [
        "https://cr-c.medium.com/analysis-and-visualisation-of-sem-using-python-semopy-structural-equation-modeling-bd6c3f463e33\n",
        "\n",
        "https://semopy.com/tutorial.html\n",
        "\n",
        "https://stats.oarc.ucla.edu/r/seminars/rsem/\n"
      ],
      "metadata": {
        "id": "EIqkEdc4fZ1C"
      }
    },
    {
      "cell_type": "code",
      "execution_count": null,
      "metadata": {
        "colab": {
          "base_uri": "https://localhost:8080/"
        },
        "id": "8fpygrmcclDV",
        "outputId": "52630f79-2fc4-4e41-83a6-b8ce9ded586a"
      },
      "outputs": [
        {
          "output_type": "stream",
          "name": "stdout",
          "text": [
            "Looking in indexes: https://pypi.org/simple, https://us-python.pkg.dev/colab-wheels/public/simple/\n",
            "Requirement already satisfied: semopy in /usr/local/lib/python3.10/dist-packages (2.3.9)\n",
            "Requirement already satisfied: numpy in /usr/local/lib/python3.10/dist-packages (from semopy) (1.22.4)\n",
            "Requirement already satisfied: scipy in /usr/local/lib/python3.10/dist-packages (from semopy) (1.10.1)\n",
            "Requirement already satisfied: pandas in /usr/local/lib/python3.10/dist-packages (from semopy) (1.5.3)\n",
            "Requirement already satisfied: sympy in /usr/local/lib/python3.10/dist-packages (from semopy) (1.11.1)\n",
            "Requirement already satisfied: statsmodels in /usr/local/lib/python3.10/dist-packages (from semopy) (0.13.5)\n",
            "Requirement already satisfied: sklearn in /usr/local/lib/python3.10/dist-packages (from semopy) (0.0.post4)\n",
            "Requirement already satisfied: pytz>=2020.1 in /usr/local/lib/python3.10/dist-packages (from pandas->semopy) (2022.7.1)\n",
            "Requirement already satisfied: python-dateutil>=2.8.1 in /usr/local/lib/python3.10/dist-packages (from pandas->semopy) (2.8.2)\n",
            "Requirement already satisfied: patsy>=0.5.2 in /usr/local/lib/python3.10/dist-packages (from statsmodels->semopy) (0.5.3)\n",
            "Requirement already satisfied: packaging>=21.3 in /usr/local/lib/python3.10/dist-packages (from statsmodels->semopy) (23.1)\n",
            "Requirement already satisfied: mpmath>=0.19 in /usr/local/lib/python3.10/dist-packages (from sympy->semopy) (1.3.0)\n",
            "Requirement already satisfied: six in /usr/local/lib/python3.10/dist-packages (from patsy>=0.5.2->statsmodels->semopy) (1.16.0)\n"
          ]
        }
      ],
      "source": [
        "!pip install semopy\n",
        "import semopy as sem\n",
        "import pandas as pd\n",
        "import numpy as np"
      ]
    },
    {
      "cell_type": "markdown",
      "source": [
        "#Univariate regression\n"
      ],
      "metadata": {
        "id": "mVhd7MhXBtfW"
      }
    },
    {
      "cell_type": "code",
      "source": [
        "from semopy import Model\n",
        "from semopy.examples import univariate_regression\n",
        "\n",
        "desc = univariate_regression.get_model()\n",
        "data = univariate_regression.get_data()\n",
        "print(desc)\n",
        "desc = \"y ~  x \""
      ],
      "metadata": {
        "colab": {
          "base_uri": "https://localhost:8080/"
        },
        "id": "YCyuDKJesYpS",
        "outputId": "3121744c-d3fb-48f6-cfcc-2f30c61d7959"
      },
      "execution_count": null,
      "outputs": [
        {
          "output_type": "stream",
          "name": "stdout",
          "text": [
            "y ~ x\n"
          ]
        }
      ]
    },
    {
      "cell_type": "code",
      "source": [
        "print(data)"
      ],
      "metadata": {
        "colab": {
          "base_uri": "https://localhost:8080/"
        },
        "id": "3VojKhrtsdsU",
        "outputId": "f8c47d8b-3e6d-49d7-925f-a0a5029ff63b"
      },
      "execution_count": null,
      "outputs": [
        {
          "output_type": "stream",
          "name": "stdout",
          "text": [
            "           y         x\n",
            "0  -4.745088  1.422056\n",
            "1  -0.157631 -1.088728\n",
            "2  -1.618658  0.556356\n",
            "3  -3.757160  2.115376\n",
            "4  -1.078432 -0.948421\n",
            "..       ...       ...\n",
            "95 -1.524276  1.046533\n",
            "96 -0.009116 -0.561601\n",
            "97 -1.988864  0.229442\n",
            "98 -0.387208 -1.597644\n",
            "99 -0.235465 -1.102361\n",
            "\n",
            "[100 rows x 2 columns]\n"
          ]
        }
      ]
    },
    {
      "cell_type": "code",
      "source": [
        "import matplotlib.pyplot as plt\n",
        "\n",
        "plt.scatter(data['x'],data['y'])"
      ],
      "metadata": {
        "colab": {
          "base_uri": "https://localhost:8080/",
          "height": 447
        },
        "id": "zthdqnz9sfz-",
        "outputId": "f4609f63-b8b7-4f0a-df6c-8283133ca2cd"
      },
      "execution_count": null,
      "outputs": [
        {
          "output_type": "execute_result",
          "data": {
            "text/plain": [
              "<matplotlib.collections.PathCollection at 0x7f71274b9ff0>"
            ]
          },
          "metadata": {},
          "execution_count": 216
        },
        {
          "output_type": "display_data",
          "data": {
            "text/plain": [
              "<Figure size 640x480 with 1 Axes>"
            ],
            "image/png": "[encoded data removed]"
          },
          "metadata": {}
        }
      ]
    },
    {
      "cell_type": "code",
      "source": [
        "mod = Model(desc)\n",
        "res_opt = mod.fit(data)\n",
        "estimates = mod.inspect()"
      ],
      "metadata": {
        "id": "nP8nz8aHsulC"
      },
      "execution_count": null,
      "outputs": []
    },
    {
      "cell_type": "code",
      "source": [
        "from semopy.means import estimate_means\n",
        "print(estimate_means(mod))"
      ],
      "metadata": {
        "colab": {
          "base_uri": "https://localhost:8080/"
        },
        "id": "bXk5619wJ_Po",
        "outputId": "2ded4d94-49f3-401b-d20b-b90cea6d6ced"
      },
      "execution_count": null,
      "outputs": [
        {
          "output_type": "stream",
          "name": "stdout",
          "text": [
            "  lval op rval  Estimate\n",
            "0    x  ~    1  0.080315\n",
            "1    y  ~    1 -1.421346\n"
          ]
        }
      ]
    },
    {
      "cell_type": "code",
      "source": [
        "print(res_opt)"
      ],
      "metadata": {
        "colab": {
          "base_uri": "https://localhost:8080/"
        },
        "id": "xsgy3B8xvDqh",
        "outputId": "f7f3140b-ea62-4310-81d2-cb241008cafa"
      },
      "execution_count": null,
      "outputs": [
        {
          "output_type": "stream",
          "name": "stdout",
          "text": [
            "Name of objective: MLW\n",
            "Optimization method: SLSQP\n",
            "Optimization successful.\n",
            "Optimization terminated successfully\n",
            "Objective value: 0.000\n",
            "Number of iterations: 11\n",
            "Params: -1.221 0.670\n"
          ]
        }
      ]
    },
    {
      "cell_type": "code",
      "source": [
        "b0 = -1.421346\n",
        "b1 = -1.221069\n",
        "x = 1.422056\n",
        "y =  b1*x + b0\n",
        "y"
      ],
      "metadata": {
        "colab": {
          "base_uri": "https://localhost:8080/"
        },
        "id": "hAt9vZXKGYtu",
        "outputId": "47946e05-4856-4a38-d0a8-cd7eafc0da32"
      },
      "execution_count": null,
      "outputs": [
        {
          "output_type": "execute_result",
          "data": {
            "text/plain": [
              "-3.1577744978639997"
            ]
          },
          "metadata": {},
          "execution_count": 197
        }
      ]
    },
    {
      "cell_type": "code",
      "source": [
        "print(estimates)"
      ],
      "metadata": {
        "colab": {
          "base_uri": "https://localhost:8080/"
        },
        "id": "lSARAvSwtjsj",
        "outputId": "9f3c8cdb-29d0-436b-b8b2-41dfd996ed0f"
      },
      "execution_count": null,
      "outputs": [
        {
          "output_type": "stream",
          "name": "stdout",
          "text": [
            "  lval  op rval  Estimate  Std. Err    z-value       p-value\n",
            "0    y   ~    x -1.221069  0.083165 -14.682538  0.000000e+00\n",
            "1    y  ~~    y  0.670367  0.094804   7.071068  1.537437e-12\n"
          ]
        }
      ]
    },
    {
      "cell_type": "code",
      "source": [
        "v = np.var(data['y'])\n",
        "np.sqrt(v)"
      ],
      "metadata": {
        "colab": {
          "base_uri": "https://localhost:8080/"
        },
        "id": "-hz8i70kK78i",
        "outputId": "1225b61e-acac-4354-f035-fcf570230355"
      },
      "execution_count": null,
      "outputs": [
        {
          "output_type": "execute_result",
          "data": {
            "text/plain": [
              "1.4546282346294959"
            ]
          },
          "metadata": {},
          "execution_count": 222
        }
      ]
    },
    {
      "cell_type": "code",
      "source": [
        "\n",
        "testData = pd.DataFrame(data['x'])\n",
        "print(testData)\n"
      ],
      "metadata": {
        "colab": {
          "base_uri": "https://localhost:8080/"
        },
        "id": "ll79kT5U5UzJ",
        "outputId": "30e0213c-8a6b-4157-c089-ddffb615c5e2"
      },
      "execution_count": null,
      "outputs": [
        {
          "output_type": "stream",
          "name": "stdout",
          "text": [
            "           x\n",
            "0   1.422056\n",
            "1  -1.088728\n",
            "2   0.556356\n",
            "3   2.115376\n",
            "4  -0.948421\n",
            "..       ...\n",
            "95  1.046533\n",
            "96 -0.561601\n",
            "97  0.229442\n",
            "98 -1.597644\n",
            "99 -1.102361\n",
            "\n",
            "[100 rows x 1 columns]\n"
          ]
        }
      ]
    },
    {
      "cell_type": "code",
      "source": [
        "type(data.drop('y', axis = 1))"
      ],
      "metadata": {
        "colab": {
          "base_uri": "https://localhost:8080/"
        },
        "id": "uMikhd--5oF9",
        "outputId": "a5f932fe-d6e6-4d97-aa65-825d49d9e2c3"
      },
      "execution_count": null,
      "outputs": [
        {
          "output_type": "execute_result",
          "data": {
            "text/plain": [
              "pandas.core.frame.DataFrame"
            ]
          },
          "metadata": {},
          "execution_count": 188
        }
      ]
    },
    {
      "cell_type": "code",
      "source": [
        "mod.predict(testData, intercepts= True)"
      ],
      "metadata": {
        "colab": {
          "base_uri": "https://localhost:8080/",
          "height": 419
        },
        "id": "lOKRu3hitoYu",
        "outputId": "7cf224a4-61fd-425e-98d3-0943e8fcc289"
      },
      "execution_count": null,
      "outputs": [
        {
          "output_type": "execute_result",
          "data": {
            "text/plain": [
              "           y         x\n",
              "0  -3.157774  1.422056\n",
              "1  -0.091935 -1.088728\n",
              "2  -2.100695  0.556356\n",
              "3  -4.004366  2.115376\n",
              "4  -0.263259 -0.948421\n",
              "..       ...       ...\n",
              "95 -2.699235  1.046533\n",
              "96 -0.735593 -0.561601\n",
              "97 -1.701510  0.229442\n",
              "98  0.529488 -1.597644\n",
              "99 -0.075287 -1.102361\n",
              "\n",
              "[100 rows x 2 columns]"
            ],
            "text/html": [
              "\n",
              "  <div id=\"df-1cb43761-53de-4b4f-b745-922f0803bff1\">\n",
              "    <div class=\"colab-df-container\">\n",
              "      <div>\n",
              "<style scoped>\n",
              "    .dataframe tbody tr th:only-of-type {\n",
              "        vertical-align: middle;\n",
              "    }\n",
              "\n",
              "    .dataframe tbody tr th {\n",
              "        vertical-align: top;\n",
              "    }\n",
              "\n",
              "    .dataframe thead th {\n",
              "        text-align: right;\n",
              "    }\n",
              "</style>\n",
              "<table border=\"1\" class=\"dataframe\">\n",
              "  <thead>\n",
              "    <tr style=\"text-align: right;\">\n",
              "      <th></th>\n",
              "      <th>y</th>\n",
              "      <th>x</th>\n",
              "    </tr>\n",
              "  </thead>\n",
              "  <tbody>\n",
              "    <tr>\n",
              "      <th>0</th>\n",
              "      <td>-3.157774</td>\n",
              "      <td>1.422056</td>\n",
              "    </tr>\n",
              "    <tr>\n",
              "      <th>1</th>\n",
              "      <td>-0.091935</td>\n",
              "      <td>-1.088728</td>\n",
              "    </tr>\n",
              "    <tr>\n",
              "      <th>2</th>\n",
              "      <td>-2.100695</td>\n",
              "      <td>0.556356</td>\n",
              "    </tr>\n",
              "    <tr>\n",
              "      <th>3</th>\n",
              "      <td>-4.004366</td>\n",
              "      <td>2.115376</td>\n",
              "    </tr>\n",
              "    <tr>\n",
              "      <th>4</th>\n",
              "      <td>-0.263259</td>\n",
              "      <td>-0.948421</td>\n",
              "    </tr>\n",
              "    <tr>\n",
              "      <th>...</th>\n",
              "      <td>...</td>\n",
              "      <td>...</td>\n",
              "    </tr>\n",
              "    <tr>\n",
              "      <th>95</th>\n",
              "      <td>-2.699235</td>\n",
              "      <td>1.046533</td>\n",
              "    </tr>\n",
              "    <tr>\n",
              "      <th>96</th>\n",
              "      <td>-0.735593</td>\n",
              "      <td>-0.561601</td>\n",
              "    </tr>\n",
              "    <tr>\n",
              "      <th>97</th>\n",
              "      <td>-1.701510</td>\n",
              "      <td>0.229442</td>\n",
              "    </tr>\n",
              "    <tr>\n",
              "      <th>98</th>\n",
              "      <td>0.529488</td>\n",
              "      <td>-1.597644</td>\n",
              "    </tr>\n",
              "    <tr>\n",
              "      <th>99</th>\n",
              "      <td>-0.075287</td>\n",
              "      <td>-1.102361</td>\n",
              "    </tr>\n",
              "  </tbody>\n",
              "</table>\n",
              "<p>100 rows × 2 columns</p>\n",
              "</div>\n",
              "      <button class=\"colab-df-convert\" onclick=\"convertToInteractive('df-1cb43761-53de-4b4f-b745-922f0803bff1')\"\n",
              "              title=\"Convert this dataframe to an interactive table.\"\n",
              "              style=\"display:none;\">\n",
              "        \n",
              "  <svg xmlns=\"http://www.w3.org/2000/svg\" height=\"24px\"viewBox=\"0 0 24 24\"\n",
              "       width=\"24px\">\n",
              "    <path d=\"M0 0h24v24H0V0z\" fill=\"none\"/>\n",
              "    <path d=\"M18.56 5.44l.94 2.06.94-2.06 2.06-.94-2.06-.94-.94-2.06-.94 2.06-2.06.94zm-11 1L8.5 8.5l.94-2.06 2.06-.94-2.06-.94L8.5 2.5l-.94 2.06-2.06.94zm10 10l.94 2.06.94-2.06 2.06-.94-2.06-.94-.94-2.06-.94 2.06-2.06.94z\"/><path d=\"M17.41 7.96l-1.37-1.37c-.4-.4-.92-.59-1.43-.59-.52 0-1.04.2-1.43.59L10.3 9.45l-7.72 7.72c-.78.78-.78 2.05 0 2.83L4 21.41c.39.39.9.59 1.41.59.51 0 1.02-.2 1.41-.59l7.78-7.78 2.81-2.81c.8-.78.8-2.07 0-2.86zM5.41 20L4 18.59l7.72-7.72 1.47 1.35L5.41 20z\"/>\n",
              "  </svg>\n",
              "      </button>\n",
              "      \n",
              "  <style>\n",
              "    .colab-df-container {\n",
              "      display:flex;\n",
              "      flex-wrap:wrap;\n",
              "      gap: 12px;\n",
              "    }\n",
              "\n",
              "    .colab-df-convert {\n",
              "      background-color: #E8F0FE;\n",
              "      border: none;\n",
              "      border-radius: 50%;\n",
              "      cursor: pointer;\n",
              "      display: none;\n",
              "      fill: #1967D2;\n",
              "      height: 32px;\n",
              "      padding: 0 0 0 0;\n",
              "      width: 32px;\n",
              "    }\n",
              "\n",
              "    .colab-df-convert:hover {\n",
              "      background-color: #E2EBFA;\n",
              "      box-shadow: 0px 1px 2px rgba(60, 64, 67, 0.3), 0px 1px 3px 1px rgba(60, 64, 67, 0.15);\n",
              "      fill: #174EA6;\n",
              "    }\n",
              "\n",
              "    [theme=dark] .colab-df-convert {\n",
              "      background-color: #3B4455;\n",
              "      fill: #D2E3FC;\n",
              "    }\n",
              "\n",
              "    [theme=dark] .colab-df-convert:hover {\n",
              "      background-color: #434B5C;\n",
              "      box-shadow: 0px 1px 3px 1px rgba(0, 0, 0, 0.15);\n",
              "      filter: drop-shadow(0px 1px 2px rgba(0, 0, 0, 0.3));\n",
              "      fill: #FFFFFF;\n",
              "    }\n",
              "  </style>\n",
              "\n",
              "      <script>\n",
              "        const buttonEl =\n",
              "          document.querySelector('#df-1cb43761-53de-4b4f-b745-922f0803bff1 button.colab-df-convert');\n",
              "        buttonEl.style.display =\n",
              "          google.colab.kernel.accessAllowed ? 'block' : 'none';\n",
              "\n",
              "        async function convertToInteractive(key) {\n",
              "          const element = document.querySelector('#df-1cb43761-53de-4b4f-b745-922f0803bff1');\n",
              "          const dataTable =\n",
              "            await google.colab.kernel.invokeFunction('convertToInteractive',\n",
              "                                                     [key], {});\n",
              "          if (!dataTable) return;\n",
              "\n",
              "          const docLinkHtml = 'Like what you see? Visit the ' +\n",
              "            '<a target=\"_blank\" href=https://colab.research.google.com/notebooks/data_table.ipynb>data table notebook</a>'\n",
              "            + ' to learn more about interactive tables.';\n",
              "          element.innerHTML = '';\n",
              "          dataTable['output_type'] = 'display_data';\n",
              "          await google.colab.output.renderOutput(dataTable, element);\n",
              "          const docLink = document.createElement('div');\n",
              "          docLink.innerHTML = docLinkHtml;\n",
              "          element.appendChild(docLink);\n",
              "        }\n",
              "      </script>\n",
              "    </div>\n",
              "  </div>\n",
              "  "
            ]
          },
          "metadata": {},
          "execution_count": 189
        }
      ]
    },
    {
      "cell_type": "code",
      "source": [
        "mod.predict(data.drop('y', axis = 1), intercepts=)"
      ],
      "metadata": {
        "colab": {
          "base_uri": "https://localhost:8080/",
          "height": 419
        },
        "id": "SbIhxR6B6cmc",
        "outputId": "2387dad3-7878-42ba-8d65-dad30502a761"
      },
      "execution_count": null,
      "outputs": [
        {
          "output_type": "execute_result",
          "data": {
            "text/plain": [
              "           y         x\n",
              "0  -1.736428  1.422056\n",
              "1   1.329412 -1.088728\n",
              "2  -0.679349  0.556356\n",
              "3  -2.583020  2.115376\n",
              "4   1.158087 -0.948421\n",
              "..       ...       ...\n",
              "95 -1.277889  1.046533\n",
              "96  0.685754 -0.561601\n",
              "97 -0.280164  0.229442\n",
              "98  1.950834 -1.597644\n",
              "99  1.346059 -1.102361\n",
              "\n",
              "[100 rows x 2 columns]"
            ],
            "text/html": [
              "\n",
              "  <div id=\"df-5e1170fe-a8c8-4109-9a56-05bac4c2c920\">\n",
              "    <div class=\"colab-df-container\">\n",
              "      <div>\n",
              "<style scoped>\n",
              "    .dataframe tbody tr th:only-of-type {\n",
              "        vertical-align: middle;\n",
              "    }\n",
              "\n",
              "    .dataframe tbody tr th {\n",
              "        vertical-align: top;\n",
              "    }\n",
              "\n",
              "    .dataframe thead th {\n",
              "        text-align: right;\n",
              "    }\n",
              "</style>\n",
              "<table border=\"1\" class=\"dataframe\">\n",
              "  <thead>\n",
              "    <tr style=\"text-align: right;\">\n",
              "      <th></th>\n",
              "      <th>y</th>\n",
              "      <th>x</th>\n",
              "    </tr>\n",
              "  </thead>\n",
              "  <tbody>\n",
              "    <tr>\n",
              "      <th>0</th>\n",
              "      <td>-1.736428</td>\n",
              "      <td>1.422056</td>\n",
              "    </tr>\n",
              "    <tr>\n",
              "      <th>1</th>\n",
              "      <td>1.329412</td>\n",
              "      <td>-1.088728</td>\n",
              "    </tr>\n",
              "    <tr>\n",
              "      <th>2</th>\n",
              "      <td>-0.679349</td>\n",
              "      <td>0.556356</td>\n",
              "    </tr>\n",
              "    <tr>\n",
              "      <th>3</th>\n",
              "      <td>-2.583020</td>\n",
              "      <td>2.115376</td>\n",
              "    </tr>\n",
              "    <tr>\n",
              "      <th>4</th>\n",
              "      <td>1.158087</td>\n",
              "      <td>-0.948421</td>\n",
              "    </tr>\n",
              "    <tr>\n",
              "      <th>...</th>\n",
              "      <td>...</td>\n",
              "      <td>...</td>\n",
              "    </tr>\n",
              "    <tr>\n",
              "      <th>95</th>\n",
              "      <td>-1.277889</td>\n",
              "      <td>1.046533</td>\n",
              "    </tr>\n",
              "    <tr>\n",
              "      <th>96</th>\n",
              "      <td>0.685754</td>\n",
              "      <td>-0.561601</td>\n",
              "    </tr>\n",
              "    <tr>\n",
              "      <th>97</th>\n",
              "      <td>-0.280164</td>\n",
              "      <td>0.229442</td>\n",
              "    </tr>\n",
              "    <tr>\n",
              "      <th>98</th>\n",
              "      <td>1.950834</td>\n",
              "      <td>-1.597644</td>\n",
              "    </tr>\n",
              "    <tr>\n",
              "      <th>99</th>\n",
              "      <td>1.346059</td>\n",
              "      <td>-1.102361</td>\n",
              "    </tr>\n",
              "  </tbody>\n",
              "</table>\n",
              "<p>100 rows × 2 columns</p>\n",
              "</div>\n",
              "      <button class=\"colab-df-convert\" onclick=\"convertToInteractive('df-5e1170fe-a8c8-4109-9a56-05bac4c2c920')\"\n",
              "              title=\"Convert this dataframe to an interactive table.\"\n",
              "              style=\"display:none;\">\n",
              "        \n",
              "  <svg xmlns=\"http://www.w3.org/2000/svg\" height=\"24px\"viewBox=\"0 0 24 24\"\n",
              "       width=\"24px\">\n",
              "    <path d=\"M0 0h24v24H0V0z\" fill=\"none\"/>\n",
              "    <path d=\"M18.56 5.44l.94 2.06.94-2.06 2.06-.94-2.06-.94-.94-2.06-.94 2.06-2.06.94zm-11 1L8.5 8.5l.94-2.06 2.06-.94-2.06-.94L8.5 2.5l-.94 2.06-2.06.94zm10 10l.94 2.06.94-2.06 2.06-.94-2.06-.94-.94-2.06-.94 2.06-2.06.94z\"/><path d=\"M17.41 7.96l-1.37-1.37c-.4-.4-.92-.59-1.43-.59-.52 0-1.04.2-1.43.59L10.3 9.45l-7.72 7.72c-.78.78-.78 2.05 0 2.83L4 21.41c.39.39.9.59 1.41.59.51 0 1.02-.2 1.41-.59l7.78-7.78 2.81-2.81c.8-.78.8-2.07 0-2.86zM5.41 20L4 18.59l7.72-7.72 1.47 1.35L5.41 20z\"/>\n",
              "  </svg>\n",
              "      </button>\n",
              "      \n",
              "  <style>\n",
              "    .colab-df-container {\n",
              "      display:flex;\n",
              "      flex-wrap:wrap;\n",
              "      gap: 12px;\n",
              "    }\n",
              "\n",
              "    .colab-df-convert {\n",
              "      background-color: #E8F0FE;\n",
              "      border: none;\n",
              "      border-radius: 50%;\n",
              "      cursor: pointer;\n",
              "      display: none;\n",
              "      fill: #1967D2;\n",
              "      height: 32px;\n",
              "      padding: 0 0 0 0;\n",
              "      width: 32px;\n",
              "    }\n",
              "\n",
              "    .colab-df-convert:hover {\n",
              "      background-color: #E2EBFA;\n",
              "      box-shadow: 0px 1px 2px rgba(60, 64, 67, 0.3), 0px 1px 3px 1px rgba(60, 64, 67, 0.15);\n",
              "      fill: #174EA6;\n",
              "    }\n",
              "\n",
              "    [theme=dark] .colab-df-convert {\n",
              "      background-color: #3B4455;\n",
              "      fill: #D2E3FC;\n",
              "    }\n",
              "\n",
              "    [theme=dark] .colab-df-convert:hover {\n",
              "      background-color: #434B5C;\n",
              "      box-shadow: 0px 1px 3px 1px rgba(0, 0, 0, 0.15);\n",
              "      filter: drop-shadow(0px 1px 2px rgba(0, 0, 0, 0.3));\n",
              "      fill: #FFFFFF;\n",
              "    }\n",
              "  </style>\n",
              "\n",
              "      <script>\n",
              "        const buttonEl =\n",
              "          document.querySelector('#df-5e1170fe-a8c8-4109-9a56-05bac4c2c920 button.colab-df-convert');\n",
              "        buttonEl.style.display =\n",
              "          google.colab.kernel.accessAllowed ? 'block' : 'none';\n",
              "\n",
              "        async function convertToInteractive(key) {\n",
              "          const element = document.querySelector('#df-5e1170fe-a8c8-4109-9a56-05bac4c2c920');\n",
              "          const dataTable =\n",
              "            await google.colab.kernel.invokeFunction('convertToInteractive',\n",
              "                                                     [key], {});\n",
              "          if (!dataTable) return;\n",
              "\n",
              "          const docLinkHtml = 'Like what you see? Visit the ' +\n",
              "            '<a target=\"_blank\" href=https://colab.research.google.com/notebooks/data_table.ipynb>data table notebook</a>'\n",
              "            + ' to learn more about interactive tables.';\n",
              "          element.innerHTML = '';\n",
              "          dataTable['output_type'] = 'display_data';\n",
              "          await google.colab.output.renderOutput(dataTable, element);\n",
              "          const docLink = document.createElement('div');\n",
              "          docLink.innerHTML = docLinkHtml;\n",
              "          element.appendChild(docLink);\n",
              "        }\n",
              "      </script>\n",
              "    </div>\n",
              "  </div>\n",
              "  "
            ]
          },
          "metadata": {},
          "execution_count": 190
        }
      ]
    },
    {
      "cell_type": "markdown",
      "source": [
        "# Univariate with multiple regression\n"
      ],
      "metadata": {
        "id": "f0wXba7uBYQY"
      }
    },
    {
      "cell_type": "code",
      "source": [
        "from semopy import Model\n",
        "from semopy.examples import univariate_regression_many\n",
        "\n",
        "desc = univariate_regression_many.get_model()\n",
        "data = univariate_regression_many.get_data()\n",
        "print(desc)"
      ],
      "metadata": {
        "colab": {
          "base_uri": "https://localhost:8080/"
        },
        "id": "-CY3_vT5zaYW",
        "outputId": "26aabe74-b8d6-4f6b-bfdb-c8f68cd93391"
      },
      "execution_count": null,
      "outputs": [
        {
          "output_type": "stream",
          "name": "stdout",
          "text": [
            "y ~ x1 + x2 + x3\n"
          ]
        }
      ]
    },
    {
      "cell_type": "code",
      "source": [
        "print(data)"
      ],
      "metadata": {
        "colab": {
          "base_uri": "https://localhost:8080/"
        },
        "id": "HyrZaRkR1t6H",
        "outputId": "e6645274-35c2-40bc-9d93-733333162687"
      },
      "execution_count": null,
      "outputs": [
        {
          "output_type": "stream",
          "name": "stdout",
          "text": [
            "           y        x1        x2        x3\n",
            "0   4.466367  0.797753  0.326897  1.782983\n",
            "1   1.572264  0.834132  0.455392  0.108099\n",
            "2   3.763429 -0.174042 -0.168266  1.575743\n",
            "3   5.756062  2.328577 -2.220830  1.189446\n",
            "4  -0.557716  0.472969 -1.726820 -0.183997\n",
            "..       ...       ...       ...       ...\n",
            "95  2.791669  0.358544  0.403812  0.086191\n",
            "96  0.149508 -0.035605 -0.649198 -0.211235\n",
            "97 -2.496238 -1.161007 -1.605433 -1.484321\n",
            "98 -0.456592 -0.260843  0.131655 -0.225028\n",
            "99 -1.975335 -0.173606 -2.370115 -1.236709\n",
            "\n",
            "[100 rows x 4 columns]\n"
          ]
        }
      ]
    },
    {
      "cell_type": "code",
      "source": [
        "mod = Model(desc)\n",
        "res_opt = mod.fit(data)\n",
        "estimates = mod.inspect()"
      ],
      "metadata": {
        "id": "Xc3Bb27P1vgZ"
      },
      "execution_count": null,
      "outputs": []
    },
    {
      "cell_type": "code",
      "source": [
        "print(estimates)"
      ],
      "metadata": {
        "colab": {
          "base_uri": "https://localhost:8080/"
        },
        "id": "JRAoNspX17FT",
        "outputId": "ff752f67-3533-455d-fd35-d3a905ce428c"
      },
      "execution_count": null,
      "outputs": [
        {
          "output_type": "stream",
          "name": "stdout",
          "text": [
            "  lval  op rval  Estimate  Std. Err    z-value       p-value\n",
            "0    y   ~   x1  1.399551  0.091138  15.356385  0.000000e+00\n",
            "1    y   ~   x2  0.450561  0.097883   4.603051  4.163465e-06\n",
            "2    y   ~   x3  1.190470  0.086499  13.762839  0.000000e+00\n",
            "3    y  ~~    y  0.878486  0.124237   7.071068  1.537437e-12\n"
          ]
        }
      ]
    },
    {
      "cell_type": "code",
      "source": [
        "print(res_opt)"
      ],
      "metadata": {
        "colab": {
          "base_uri": "https://localhost:8080/"
        },
        "id": "dJ3rZzaV8Bhz",
        "outputId": "fba9d687-ef30-4aec-d68d-699de18279d5"
      },
      "execution_count": null,
      "outputs": [
        {
          "output_type": "stream",
          "name": "stdout",
          "text": [
            "Name of objective: MLW\n",
            "Optimization method: SLSQP\n",
            "Optimization successful.\n",
            "Optimization terminated successfully\n",
            "Objective value: 0.000\n",
            "Number of iterations: 13\n",
            "Params: 1.400 0.451 1.190 0.878\n"
          ]
        }
      ]
    },
    {
      "cell_type": "code",
      "source": [
        "testData =  data.drop('y', axis= 1)\n",
        "print(testData)"
      ],
      "metadata": {
        "colab": {
          "base_uri": "https://localhost:8080/"
        },
        "id": "9OwoOmtC48fR",
        "outputId": "6b8c5740-49f0-47aa-fffa-d10c093e21cd"
      },
      "execution_count": null,
      "outputs": [
        {
          "output_type": "stream",
          "name": "stdout",
          "text": [
            "          x1        x2        x3\n",
            "0   0.797753  0.326897  1.782983\n",
            "1   0.834132  0.455392  0.108099\n",
            "2  -0.174042 -0.168266  1.575743\n",
            "3   2.328577 -2.220830  1.189446\n",
            "4   0.472969 -1.726820 -0.183997\n",
            "..       ...       ...       ...\n",
            "95  0.358544  0.403812  0.086191\n",
            "96 -0.035605 -0.649198 -0.211235\n",
            "97 -1.161007 -1.605433 -1.484321\n",
            "98 -0.260843  0.131655 -0.225028\n",
            "99 -0.173606 -2.370115 -1.236709\n",
            "\n",
            "[100 rows x 3 columns]\n"
          ]
        }
      ]
    },
    {
      "cell_type": "code",
      "source": [
        "mod.predict(testData)"
      ],
      "metadata": {
        "colab": {
          "base_uri": "https://localhost:8080/",
          "height": 419
        },
        "id": "sajOLQCP19UF",
        "outputId": "102f6cf7-3139-4aaf-9a78-ccf5e0846339"
      },
      "execution_count": null,
      "outputs": [
        {
          "output_type": "execute_result",
          "data": {
            "text/plain": [
              "           y        x1        x2        x3\n",
              "0   3.386370  0.797753  0.326897  1.782983\n",
              "1   1.501280  0.834132  0.455392  0.108099\n",
              "2   1.556480 -0.174042 -0.168266  1.575743\n",
              "3   3.674341  2.328577 -2.220830  1.189446\n",
              "4  -0.335137  0.472969 -1.726820 -0.183997\n",
              "..       ...       ...       ...       ...\n",
              "95  0.786350  0.358544  0.403812  0.086191\n",
              "96 -0.593803 -0.035605 -0.649198 -0.211235\n",
              "97 -4.115273 -1.161007 -1.605433 -1.484321\n",
              "98 -0.573634 -0.260843  0.131655 -0.225028\n",
              "99 -2.783117 -0.173606 -2.370115 -1.236709\n",
              "\n",
              "[100 rows x 4 columns]"
            ],
            "text/html": [
              "\n",
              "  <div id=\"df-11755008-21c1-4962-8dd2-2b37ad51df03\">\n",
              "    <div class=\"colab-df-container\">\n",
              "      <div>\n",
              "<style scoped>\n",
              "    .dataframe tbody tr th:only-of-type {\n",
              "        vertical-align: middle;\n",
              "    }\n",
              "\n",
              "    .dataframe tbody tr th {\n",
              "        vertical-align: top;\n",
              "    }\n",
              "\n",
              "    .dataframe thead th {\n",
              "        text-align: right;\n",
              "    }\n",
              "</style>\n",
              "<table border=\"1\" class=\"dataframe\">\n",
              "  <thead>\n",
              "    <tr style=\"text-align: right;\">\n",
              "      <th></th>\n",
              "      <th>y</th>\n",
              "      <th>x1</th>\n",
              "      <th>x2</th>\n",
              "      <th>x3</th>\n",
              "    </tr>\n",
              "  </thead>\n",
              "  <tbody>\n",
              "    <tr>\n",
              "      <th>0</th>\n",
              "      <td>3.386370</td>\n",
              "      <td>0.797753</td>\n",
              "      <td>0.326897</td>\n",
              "      <td>1.782983</td>\n",
              "    </tr>\n",
              "    <tr>\n",
              "      <th>1</th>\n",
              "      <td>1.501280</td>\n",
              "      <td>0.834132</td>\n",
              "      <td>0.455392</td>\n",
              "      <td>0.108099</td>\n",
              "    </tr>\n",
              "    <tr>\n",
              "      <th>2</th>\n",
              "      <td>1.556480</td>\n",
              "      <td>-0.174042</td>\n",
              "      <td>-0.168266</td>\n",
              "      <td>1.575743</td>\n",
              "    </tr>\n",
              "    <tr>\n",
              "      <th>3</th>\n",
              "      <td>3.674341</td>\n",
              "      <td>2.328577</td>\n",
              "      <td>-2.220830</td>\n",
              "      <td>1.189446</td>\n",
              "    </tr>\n",
              "    <tr>\n",
              "      <th>4</th>\n",
              "      <td>-0.335137</td>\n",
              "      <td>0.472969</td>\n",
              "      <td>-1.726820</td>\n",
              "      <td>-0.183997</td>\n",
              "    </tr>\n",
              "    <tr>\n",
              "      <th>...</th>\n",
              "      <td>...</td>\n",
              "      <td>...</td>\n",
              "      <td>...</td>\n",
              "      <td>...</td>\n",
              "    </tr>\n",
              "    <tr>\n",
              "      <th>95</th>\n",
              "      <td>0.786350</td>\n",
              "      <td>0.358544</td>\n",
              "      <td>0.403812</td>\n",
              "      <td>0.086191</td>\n",
              "    </tr>\n",
              "    <tr>\n",
              "      <th>96</th>\n",
              "      <td>-0.593803</td>\n",
              "      <td>-0.035605</td>\n",
              "      <td>-0.649198</td>\n",
              "      <td>-0.211235</td>\n",
              "    </tr>\n",
              "    <tr>\n",
              "      <th>97</th>\n",
              "      <td>-4.115273</td>\n",
              "      <td>-1.161007</td>\n",
              "      <td>-1.605433</td>\n",
              "      <td>-1.484321</td>\n",
              "    </tr>\n",
              "    <tr>\n",
              "      <th>98</th>\n",
              "      <td>-0.573634</td>\n",
              "      <td>-0.260843</td>\n",
              "      <td>0.131655</td>\n",
              "      <td>-0.225028</td>\n",
              "    </tr>\n",
              "    <tr>\n",
              "      <th>99</th>\n",
              "      <td>-2.783117</td>\n",
              "      <td>-0.173606</td>\n",
              "      <td>-2.370115</td>\n",
              "      <td>-1.236709</td>\n",
              "    </tr>\n",
              "  </tbody>\n",
              "</table>\n",
              "<p>100 rows × 4 columns</p>\n",
              "</div>\n",
              "      <button class=\"colab-df-convert\" onclick=\"convertToInteractive('df-11755008-21c1-4962-8dd2-2b37ad51df03')\"\n",
              "              title=\"Convert this dataframe to an interactive table.\"\n",
              "              style=\"display:none;\">\n",
              "        \n",
              "  <svg xmlns=\"http://www.w3.org/2000/svg\" height=\"24px\"viewBox=\"0 0 24 24\"\n",
              "       width=\"24px\">\n",
              "    <path d=\"M0 0h24v24H0V0z\" fill=\"none\"/>\n",
              "    <path d=\"M18.56 5.44l.94 2.06.94-2.06 2.06-.94-2.06-.94-.94-2.06-.94 2.06-2.06.94zm-11 1L8.5 8.5l.94-2.06 2.06-.94-2.06-.94L8.5 2.5l-.94 2.06-2.06.94zm10 10l.94 2.06.94-2.06 2.06-.94-2.06-.94-.94-2.06-.94 2.06-2.06.94z\"/><path d=\"M17.41 7.96l-1.37-1.37c-.4-.4-.92-.59-1.43-.59-.52 0-1.04.2-1.43.59L10.3 9.45l-7.72 7.72c-.78.78-.78 2.05 0 2.83L4 21.41c.39.39.9.59 1.41.59.51 0 1.02-.2 1.41-.59l7.78-7.78 2.81-2.81c.8-.78.8-2.07 0-2.86zM5.41 20L4 18.59l7.72-7.72 1.47 1.35L5.41 20z\"/>\n",
              "  </svg>\n",
              "      </button>\n",
              "      \n",
              "  <style>\n",
              "    .colab-df-container {\n",
              "      display:flex;\n",
              "      flex-wrap:wrap;\n",
              "      gap: 12px;\n",
              "    }\n",
              "\n",
              "    .colab-df-convert {\n",
              "      background-color: #E8F0FE;\n",
              "      border: none;\n",
              "      border-radius: 50%;\n",
              "      cursor: pointer;\n",
              "      display: none;\n",
              "      fill: #1967D2;\n",
              "      height: 32px;\n",
              "      padding: 0 0 0 0;\n",
              "      width: 32px;\n",
              "    }\n",
              "\n",
              "    .colab-df-convert:hover {\n",
              "      background-color: #E2EBFA;\n",
              "      box-shadow: 0px 1px 2px rgba(60, 64, 67, 0.3), 0px 1px 3px 1px rgba(60, 64, 67, 0.15);\n",
              "      fill: #174EA6;\n",
              "    }\n",
              "\n",
              "    [theme=dark] .colab-df-convert {\n",
              "      background-color: #3B4455;\n",
              "      fill: #D2E3FC;\n",
              "    }\n",
              "\n",
              "    [theme=dark] .colab-df-convert:hover {\n",
              "      background-color: #434B5C;\n",
              "      box-shadow: 0px 1px 3px 1px rgba(0, 0, 0, 0.15);\n",
              "      filter: drop-shadow(0px 1px 2px rgba(0, 0, 0, 0.3));\n",
              "      fill: #FFFFFF;\n",
              "    }\n",
              "  </style>\n",
              "\n",
              "      <script>\n",
              "        const buttonEl =\n",
              "          document.querySelector('#df-11755008-21c1-4962-8dd2-2b37ad51df03 button.colab-df-convert');\n",
              "        buttonEl.style.display =\n",
              "          google.colab.kernel.accessAllowed ? 'block' : 'none';\n",
              "\n",
              "        async function convertToInteractive(key) {\n",
              "          const element = document.querySelector('#df-11755008-21c1-4962-8dd2-2b37ad51df03');\n",
              "          const dataTable =\n",
              "            await google.colab.kernel.invokeFunction('convertToInteractive',\n",
              "                                                     [key], {});\n",
              "          if (!dataTable) return;\n",
              "\n",
              "          const docLinkHtml = 'Like what you see? Visit the ' +\n",
              "            '<a target=\"_blank\" href=https://colab.research.google.com/notebooks/data_table.ipynb>data table notebook</a>'\n",
              "            + ' to learn more about interactive tables.';\n",
              "          element.innerHTML = '';\n",
              "          dataTable['output_type'] = 'display_data';\n",
              "          await google.colab.output.renderOutput(dataTable, element);\n",
              "          const docLink = document.createElement('div');\n",
              "          docLink.innerHTML = docLinkHtml;\n",
              "          element.appendChild(docLink);\n",
              "        }\n",
              "      </script>\n",
              "    </div>\n",
              "  </div>\n",
              "  "
            ]
          },
          "metadata": {},
          "execution_count": 135
        }
      ]
    },
    {
      "cell_type": "markdown",
      "source": [
        "# Multivariate  Regression\n"
      ],
      "metadata": {
        "id": "afdfls1BANuF"
      }
    },
    {
      "cell_type": "code",
      "source": [
        "from semopy import Model\n",
        "from semopy.examples import multivariate_regression\n",
        "\n",
        "desc = multivariate_regression.get_model()\n",
        "data = multivariate_regression.get_data()\n",
        "print(desc)"
      ],
      "metadata": {
        "colab": {
          "base_uri": "https://localhost:8080/"
        },
        "id": "QFx4j0WYAZZn",
        "outputId": "44e4f57b-51b3-48b7-ca9d-27c8bd17c7c6"
      },
      "execution_count": null,
      "outputs": [
        {
          "output_type": "stream",
          "name": "stdout",
          "text": [
            "y1, y2, y3 ~ x1 + x2 + x3\n"
          ]
        }
      ]
    },
    {
      "cell_type": "code",
      "source": [
        "mod = Model(desc)\n",
        "res_opt = mod.fit(data)\n",
        "estimates = mod.inspect()"
      ],
      "metadata": {
        "id": "dF5so1O3AvLU"
      },
      "execution_count": null,
      "outputs": []
    },
    {
      "cell_type": "code",
      "source": [
        "print(res_opt)"
      ],
      "metadata": {
        "colab": {
          "base_uri": "https://localhost:8080/"
        },
        "id": "CqIfQ_WDAwk5",
        "outputId": "43666939-f844-44f8-a91a-91b9b6a37140"
      },
      "execution_count": null,
      "outputs": [
        {
          "output_type": "stream",
          "name": "stdout",
          "text": [
            "Name of objective: MLW\n",
            "Optimization method: SLSQP\n",
            "Optimization successful.\n",
            "Optimization terminated successfully\n",
            "Objective value: 0.068\n",
            "Number of iterations: 17\n",
            "Params: -1.390 -1.138 -0.318 -0.746 1.074 -1.131 0.703 1.235 -0.920 0.638 1.136 0.489\n"
          ]
        }
      ]
    },
    {
      "cell_type": "code",
      "source": [
        "print(estimates)"
      ],
      "metadata": {
        "colab": {
          "base_uri": "https://localhost:8080/"
        },
        "id": "stHvYFCTA5hy",
        "outputId": "b264b051-4945-4e06-9ff3-efa2acc19821"
      },
      "execution_count": null,
      "outputs": [
        {
          "output_type": "stream",
          "name": "stdout",
          "text": [
            "   lval  op rval  Estimate  Std. Err    z-value       p-value\n",
            "0    y1   ~   x1 -1.389754  0.073417 -18.929470  0.000000e+00\n",
            "1    y1   ~   x2 -1.138405  0.087966 -12.941462  0.000000e+00\n",
            "2    y1   ~   x3 -0.317893  0.072576  -4.380132  1.186073e-05\n",
            "3    y2   ~   x1 -0.745837  0.097974  -7.612623  2.686740e-14\n",
            "4    y2   ~   x2  1.074436  0.117388   9.152855  0.000000e+00\n",
            "5    y2   ~   x3 -1.130890  0.096851 -11.676597  0.000000e+00\n",
            "6    y3   ~   x1  0.702778  0.064270  10.934755  0.000000e+00\n",
            "7    y3   ~   x2  1.235044  0.077006  16.038334  0.000000e+00\n",
            "8    y3   ~   x3 -0.920469  0.063534 -14.487925  0.000000e+00\n",
            "9    y1  ~~   y1  0.637755  0.090192   7.071068  1.537437e-12\n",
            "10   y2  ~~   y2  1.135729  0.160616   7.071068  1.537437e-12\n",
            "11   y3  ~~   y3  0.488735  0.069118   7.071068  1.537437e-12\n"
          ]
        }
      ]
    },
    {
      "cell_type": "markdown",
      "source": [
        "# CFA"
      ],
      "metadata": {
        "id": "5kgSJaVqAJ4m"
      }
    },
    {
      "cell_type": "code",
      "source": [
        "from semopy import Model\n",
        "from semopy.examples import holzinger39\n",
        "\n",
        "desc = holzinger39.get_model()\n",
        "data = holzinger39.get_data()\n",
        "print(desc)"
      ],
      "metadata": {
        "colab": {
          "base_uri": "https://localhost:8080/"
        },
        "id": "54Y2ApOG3xph",
        "outputId": "b1503677-39ac-41bd-d41a-1c4828af03d6"
      },
      "execution_count": null,
      "outputs": [
        {
          "output_type": "stream",
          "name": "stdout",
          "text": [
            "visual =~ x1 + x2 + x3\n",
            "textual =~ x4 + x5 + x6\n",
            "speed =~ x7 + x8 + x9\n"
          ]
        }
      ]
    },
    {
      "cell_type": "code",
      "source": [
        "desc = ''' visual =~ x1 + x2 + x3\n",
        "textual =~ x4 + x5 + x6\n",
        "speed =~ x7 + x8 + x9\n",
        "'''"
      ],
      "metadata": {
        "id": "mVs48GAC9aOx"
      },
      "execution_count": null,
      "outputs": []
    },
    {
      "cell_type": "code",
      "source": [
        "mod = Model(desc)\n",
        "res_opt = mod.fit(data)\n",
        "estimates = mod.inspect()"
      ],
      "metadata": {
        "id": "qKu9ZX6X7Rhm"
      },
      "execution_count": null,
      "outputs": []
    },
    {
      "cell_type": "code",
      "source": [
        "print(res_opt)"
      ],
      "metadata": {
        "colab": {
          "base_uri": "https://localhost:8080/"
        },
        "id": "jzB5QeRg7YcP",
        "outputId": "0bd243e8-6c0e-4f41-d8ba-73cf61c0e8b0"
      },
      "execution_count": null,
      "outputs": [
        {
          "output_type": "stream",
          "name": "stdout",
          "text": [
            "Name of objective: MLW\n",
            "Optimization method: SLSQP\n",
            "Optimization successful.\n",
            "Optimization terminated successfully\n",
            "Objective value: 0.283\n",
            "Number of iterations: 28\n",
            "Params: 0.554 0.731 1.113 0.926 1.180 1.083 0.371 1.133 0.566 0.550 0.356 0.800 0.446 0.488 0.844 0.980 0.408 0.174 0.808 0.262 0.383\n"
          ]
        }
      ]
    },
    {
      "cell_type": "code",
      "source": [
        "print(estimates)"
      ],
      "metadata": {
        "colab": {
          "base_uri": "https://localhost:8080/"
        },
        "id": "Ie_O-lME7pda",
        "outputId": "f1bedf1e-750a-4117-c425-fb30092bf7cf"
      },
      "execution_count": null,
      "outputs": [
        {
          "output_type": "stream",
          "name": "stdout",
          "text": [
            "       lval  op     rval  Estimate  Std. Err    z-value   p-value\n",
            "0        x1   ~   visual  1.000000         -          -         -\n",
            "1        x2   ~   visual  0.554421  0.099727   5.559413       0.0\n",
            "2        x3   ~   visual  0.730526   0.10918   6.691009       0.0\n",
            "3        x4   ~  textual  1.000000         -          -         -\n",
            "4        x5   ~  textual  1.113076  0.065392  17.021522       0.0\n",
            "5        x6   ~  textual  0.926120  0.055425  16.709493       0.0\n",
            "6        x7   ~    speed  1.000000         -          -         -\n",
            "7        x8   ~    speed  1.179980  0.165045   7.149459       0.0\n",
            "8        x9   ~    speed  1.082517  0.151354   7.152197       0.0\n",
            "9   textual  ~~  textual  0.980034  0.112145   8.739002       0.0\n",
            "10  textual  ~~   visual  0.408277  0.073527    5.55273       0.0\n",
            "11  textual  ~~    speed  0.173603  0.049316   3.520223  0.000431\n",
            "12   visual  ~~   visual  0.808310  0.145287   5.563548       0.0\n",
            "13   visual  ~~    speed  0.262135  0.056252   4.659977  0.000003\n",
            "14    speed  ~~    speed  0.383377  0.086171   4.449045  0.000009\n",
            "15       x4  ~~       x4  0.371117  0.047712   7.778264       0.0\n",
            "16       x2  ~~       x2  1.133391  0.101711  11.143202       0.0\n",
            "17       x9  ~~       x9  0.565804  0.070757   7.996483       0.0\n",
            "18       x1  ~~       x1  0.550161  0.113439    4.84983  0.000001\n",
            "19       x6  ~~       x6  0.356171   0.04303   8.277334       0.0\n",
            "20       x7  ~~       x7  0.799708  0.081387   9.825966       0.0\n",
            "21       x5  ~~       x5  0.446208  0.058387   7.642264       0.0\n",
            "22       x8  ~~       x8  0.487934  0.074167   6.578856       0.0\n",
            "23       x3  ~~       x3  0.843731  0.090625    9.31016       0.0\n"
          ]
        }
      ]
    },
    {
      "cell_type": "code",
      "source": [
        "sem.semplot(mod,'test.png')"
      ],
      "metadata": {
        "colab": {
          "base_uri": "https://localhost:8080/",
          "height": 254
        },
        "id": "mfTcVt0C7xix",
        "outputId": "fa2748cb-8452-46b2-c1aa-7f17c8b0bcc8"
      },
      "execution_count": null,
      "outputs": [
        {
          "output_type": "execute_result",
          "data": {
            "image/svg+xml": "<?xml version=\"1.0\" encoding=\"UTF-8\" standalone=\"no\"?>\n<!DOCTYPE svg PUBLIC \"-//W3C//DTD SVG 1.1//EN\"\n \"http://www.w3.org/Graphics/SVG/1.1/DTD/svg11.dtd\">\n<!-- Generated by graphviz version 2.43.0 (0)\n -->\n<!-- Title: G Pages: 1 -->\n<svg width=\"668pt\" height=\"175pt\"\n viewBox=\"0.00 0.00 668.00 174.89\" xmlns=\"http://www.w3.org/2000/svg\" xmlns:xlink=\"http://www.w3.org/1999/xlink\">\n<g id=\"graph0\" class=\"graph\" transform=\"scale(1 1) rotate(0) translate(4 170.89)\">\n<title>G</title>\n<polygon fill=\"white\" stroke=\"transparent\" points=\"-4,4 -4,-170.89 664,-170.89 664,4 -4,4\"/>\n<!-- textual -->\n<g id=\"node1\" class=\"node\">\n<title>textual</title>\n<ellipse fill=\"#cae6df\" stroke=\"black\" cx=\"99\" cy=\"-132.45\" rx=\"34.39\" ry=\"34.39\"/>\n<text text-anchor=\"middle\" x=\"99\" y=\"-128.75\" font-family=\"Times,serif\" font-size=\"14.00\">textual</text>\n</g>\n<!-- x4 -->\n<g id=\"node7\" class=\"node\">\n<title>x4</title>\n<polygon fill=\"none\" stroke=\"black\" points=\"54,-36 0,-36 0,0 54,0 54,-36\"/>\n<text text-anchor=\"middle\" x=\"27\" y=\"-14.3\" font-family=\"Times,serif\" font-size=\"14.00\">x4</text>\n</g>\n<!-- textual&#45;&gt;x4 -->\n<g id=\"edge4\" class=\"edge\">\n<title>textual&#45;&gt;x4</title>\n<path fill=\"none\" stroke=\"black\" d=\"M80.83,-103.07C69.34,-85.12 54.6,-62.1 43.45,-44.69\"/>\n<polygon fill=\"black\" stroke=\"black\" points=\"46.32,-42.69 37.98,-36.15 40.43,-46.46 46.32,-42.69\"/>\n<text text-anchor=\"middle\" x=\"80\" y=\"-63.9\" font-family=\"Times,serif\" font-size=\"12.00\">1.000</text>\n</g>\n<!-- x5 -->\n<g id=\"node8\" class=\"node\">\n<title>x5</title>\n<polygon fill=\"none\" stroke=\"black\" points=\"126,-36 72,-36 72,0 126,0 126,-36\"/>\n<text text-anchor=\"middle\" x=\"99\" y=\"-14.3\" font-family=\"Times,serif\" font-size=\"14.00\">x5</text>\n</g>\n<!-- textual&#45;&gt;x5 -->\n<g id=\"edge5\" class=\"edge\">\n<title>textual&#45;&gt;x5</title>\n<path fill=\"none\" stroke=\"black\" d=\"M99,-97.71C99,-81.36 99,-61.98 99,-46.54\"/>\n<polygon fill=\"black\" stroke=\"black\" points=\"102.5,-46.1 99,-36.1 95.5,-46.1 102.5,-46.1\"/>\n<text text-anchor=\"middle\" x=\"125\" y=\"-70.4\" font-family=\"Times,serif\" font-size=\"12.00\">1.113</text>\n<text text-anchor=\"middle\" x=\"125\" y=\"-57.4\" font-family=\"Times,serif\" font-size=\"12.00\">p&#45;val: 0.00</text>\n</g>\n<!-- x6 -->\n<g id=\"node9\" class=\"node\">\n<title>x6</title>\n<polygon fill=\"none\" stroke=\"black\" points=\"201,-36 147,-36 147,0 201,0 201,-36\"/>\n<text text-anchor=\"middle\" x=\"174\" y=\"-14.3\" font-family=\"Times,serif\" font-size=\"14.00\">x6</text>\n</g>\n<!-- textual&#45;&gt;x6 -->\n<g id=\"edge6\" class=\"edge\">\n<title>textual&#45;&gt;x6</title>\n<path fill=\"none\" stroke=\"black\" d=\"M125.49,-110.17C134.86,-101.59 144.84,-91.1 152,-80 158.68,-69.64 163.68,-56.99 167.2,-45.9\"/>\n<polygon fill=\"black\" stroke=\"black\" points=\"170.57,-46.84 170.03,-36.26 163.85,-44.87 170.57,-46.84\"/>\n<text text-anchor=\"middle\" x=\"190\" y=\"-70.4\" font-family=\"Times,serif\" font-size=\"12.00\">0.926</text>\n<text text-anchor=\"middle\" x=\"190\" y=\"-57.4\" font-family=\"Times,serif\" font-size=\"12.00\">p&#45;val: 0.00</text>\n</g>\n<!-- visual -->\n<g id=\"node2\" class=\"node\">\n<title>visual</title>\n<ellipse fill=\"#cae6df\" stroke=\"black\" cx=\"321\" cy=\"-132.45\" rx=\"31.7\" ry=\"31.7\"/>\n<text text-anchor=\"middle\" x=\"321\" y=\"-128.75\" font-family=\"Times,serif\" font-size=\"14.00\">visual</text>\n</g>\n<!-- x1 -->\n<g id=\"node4\" class=\"node\">\n<title>x1</title>\n<polygon fill=\"none\" stroke=\"black\" points=\"276,-36 222,-36 222,0 276,0 276,-36\"/>\n<text text-anchor=\"middle\" x=\"249\" y=\"-14.3\" font-family=\"Times,serif\" font-size=\"14.00\">x1</text>\n</g>\n<!-- visual&#45;&gt;x1 -->\n<g id=\"edge1\" class=\"edge\">\n<title>visual&#45;&gt;x1</title>\n<path fill=\"none\" stroke=\"black\" d=\"M304.12,-105.08C292.51,-86.95 277.16,-62.98 265.61,-44.94\"/>\n<polygon fill=\"black\" stroke=\"black\" points=\"268.3,-42.65 259.96,-36.11 262.4,-46.42 268.3,-42.65\"/>\n<text text-anchor=\"middle\" x=\"301\" y=\"-63.9\" font-family=\"Times,serif\" font-size=\"12.00\">1.000</text>\n</g>\n<!-- x2 -->\n<g id=\"node5\" class=\"node\">\n<title>x2</title>\n<polygon fill=\"none\" stroke=\"black\" points=\"348,-36 294,-36 294,0 348,0 348,-36\"/>\n<text text-anchor=\"middle\" x=\"321\" y=\"-14.3\" font-family=\"Times,serif\" font-size=\"14.00\">x2</text>\n</g>\n<!-- visual&#45;&gt;x2 -->\n<g id=\"edge2\" class=\"edge\">\n<title>visual&#45;&gt;x2</title>\n<path fill=\"none\" stroke=\"black\" d=\"M321,-100.42C321,-83.46 321,-62.65 321,-46.31\"/>\n<polygon fill=\"black\" stroke=\"black\" points=\"324.5,-46.31 321,-36.31 317.5,-46.31 324.5,-46.31\"/>\n<text text-anchor=\"middle\" x=\"347\" y=\"-70.4\" font-family=\"Times,serif\" font-size=\"12.00\">0.554</text>\n<text text-anchor=\"middle\" x=\"347\" y=\"-57.4\" font-family=\"Times,serif\" font-size=\"12.00\">p&#45;val: 0.00</text>\n</g>\n<!-- x3 -->\n<g id=\"node6\" class=\"node\">\n<title>x3</title>\n<polygon fill=\"none\" stroke=\"black\" points=\"423,-36 369,-36 369,0 423,0 423,-36\"/>\n<text text-anchor=\"middle\" x=\"396\" y=\"-14.3\" font-family=\"Times,serif\" font-size=\"14.00\">x3</text>\n</g>\n<!-- visual&#45;&gt;x3 -->\n<g id=\"edge3\" class=\"edge\">\n<title>visual&#45;&gt;x3</title>\n<path fill=\"none\" stroke=\"black\" d=\"M345.59,-111.9C355.49,-103.02 366.35,-91.85 374,-80 380.68,-69.64 385.68,-56.99 389.2,-45.9\"/>\n<polygon fill=\"black\" stroke=\"black\" points=\"392.57,-46.84 392.03,-36.26 385.85,-44.87 392.57,-46.84\"/>\n<text text-anchor=\"middle\" x=\"412\" y=\"-70.4\" font-family=\"Times,serif\" font-size=\"12.00\">0.731</text>\n<text text-anchor=\"middle\" x=\"412\" y=\"-57.4\" font-family=\"Times,serif\" font-size=\"12.00\">p&#45;val: 0.00</text>\n</g>\n<!-- speed -->\n<g id=\"node3\" class=\"node\">\n<title>speed</title>\n<ellipse fill=\"#cae6df\" stroke=\"black\" cx=\"543\" cy=\"-132.45\" rx=\"30.59\" ry=\"30.59\"/>\n<text text-anchor=\"middle\" x=\"543\" y=\"-128.75\" font-family=\"Times,serif\" font-size=\"14.00\">speed</text>\n</g>\n<!-- x7 -->\n<g id=\"node10\" class=\"node\">\n<title>x7</title>\n<polygon fill=\"none\" stroke=\"black\" points=\"498,-36 444,-36 444,0 498,0 498,-36\"/>\n<text text-anchor=\"middle\" x=\"471\" y=\"-14.3\" font-family=\"Times,serif\" font-size=\"14.00\">x7</text>\n</g>\n<!-- speed&#45;&gt;x7 -->\n<g id=\"edge7\" class=\"edge\">\n<title>speed&#45;&gt;x7</title>\n<path fill=\"none\" stroke=\"black\" d=\"M526.84,-106.21C515.08,-87.85 499.22,-63.07 487.4,-44.62\"/>\n<polygon fill=\"black\" stroke=\"black\" points=\"490.31,-42.66 481.97,-36.13 484.41,-46.43 490.31,-42.66\"/>\n<text text-anchor=\"middle\" x=\"523\" y=\"-63.9\" font-family=\"Times,serif\" font-size=\"12.00\">1.000</text>\n</g>\n<!-- x8 -->\n<g id=\"node11\" class=\"node\">\n<title>x8</title>\n<polygon fill=\"none\" stroke=\"black\" points=\"570,-36 516,-36 516,0 570,0 570,-36\"/>\n<text text-anchor=\"middle\" x=\"543\" y=\"-14.3\" font-family=\"Times,serif\" font-size=\"14.00\">x8</text>\n</g>\n<!-- speed&#45;&gt;x8 -->\n<g id=\"edge8\" class=\"edge\">\n<title>speed&#45;&gt;x8</title>\n<path fill=\"none\" stroke=\"black\" d=\"M543,-101.61C543,-84.42 543,-62.98 543,-46.25\"/>\n<polygon fill=\"black\" stroke=\"black\" points=\"546.5,-46.03 543,-36.03 539.5,-46.03 546.5,-46.03\"/>\n<text text-anchor=\"middle\" x=\"569\" y=\"-70.4\" font-family=\"Times,serif\" font-size=\"12.00\">1.180</text>\n<text text-anchor=\"middle\" x=\"569\" y=\"-57.4\" font-family=\"Times,serif\" font-size=\"12.00\">p&#45;val: 0.00</text>\n</g>\n<!-- x9 -->\n<g id=\"node12\" class=\"node\">\n<title>x9</title>\n<polygon fill=\"none\" stroke=\"black\" points=\"645,-36 591,-36 591,0 645,0 645,-36\"/>\n<text text-anchor=\"middle\" x=\"618\" y=\"-14.3\" font-family=\"Times,serif\" font-size=\"14.00\">x9</text>\n</g>\n<!-- speed&#45;&gt;x9 -->\n<g id=\"edge9\" class=\"edge\">\n<title>speed&#45;&gt;x9</title>\n<path fill=\"none\" stroke=\"black\" d=\"M566.51,-112.86C576.69,-103.83 588.07,-92.28 596,-80 602.68,-69.64 607.68,-56.99 611.2,-45.9\"/>\n<polygon fill=\"black\" stroke=\"black\" points=\"614.57,-46.84 614.03,-36.26 607.85,-44.87 614.57,-46.84\"/>\n<text text-anchor=\"middle\" x=\"634\" y=\"-70.4\" font-family=\"Times,serif\" font-size=\"12.00\">1.083</text>\n<text text-anchor=\"middle\" x=\"634\" y=\"-57.4\" font-family=\"Times,serif\" font-size=\"12.00\">p&#45;val: 0.00</text>\n</g>\n</g>\n</svg>\n",
            "text/plain": [
              "<graphviz.graphs.Digraph at 0x7f7128079750>"
            ]
          },
          "metadata": {},
          "execution_count": 151
        }
      ]
    },
    {
      "cell_type": "code",
      "source": [],
      "metadata": {
        "id": "r6RNqNXs8u9W"
      },
      "execution_count": null,
      "outputs": []
    },
    {
      "cell_type": "markdown",
      "source": [
        "# SEM\n",
        "Political Democracy"
      ],
      "metadata": {
        "id": "xHYP1qsgCDvr"
      }
    },
    {
      "cell_type": "code",
      "source": [
        "from semopy import Model\n",
        "from semopy.examples import political_democracy\n",
        "\n",
        "desc = political_democracy.get_model()\n",
        "data = political_democracy.get_data()\n",
        "print(desc)"
      ],
      "metadata": {
        "colab": {
          "base_uri": "https://localhost:8080/"
        },
        "id": "-aYkHLMSCKBr",
        "outputId": "fd9a15aa-cb3c-4ab8-ae76-311f4006221a"
      },
      "execution_count": null,
      "outputs": [
        {
          "output_type": "stream",
          "name": "stdout",
          "text": [
            "# measurement model\n",
            "ind60 =~ x1 + x2 + x3\n",
            "dem60 =~ y1 + y2 + y3 + y4\n",
            "dem65 =~ y5 + y6 + y7 + y8\n",
            "# regressions\n",
            "dem60 ~ ind60\n",
            "dem65 ~ ind60 + dem60\n",
            "# residual correlations\n",
            "y1 ~~ y5\n",
            "y2 ~~ y4 + y6\n",
            "y3 ~~ y7\n",
            "y4 ~~ y8\n",
            "y6 ~~ y8\n"
          ]
        }
      ]
    },
    {
      "cell_type": "code",
      "source": [
        "mod = Model(desc)\n",
        "fit_result = mod.fit(data)\n",
        "inspect_result =mod.inspect()"
      ],
      "metadata": {
        "id": "NNuWWoWPCT6T"
      },
      "execution_count": null,
      "outputs": []
    },
    {
      "cell_type": "code",
      "source": [
        "print(fit_result)"
      ],
      "metadata": {
        "colab": {
          "base_uri": "https://localhost:8080/"
        },
        "id": "RqVrJPKVCz6W",
        "outputId": "4cb2c786-5046-47c1-d79d-7ea3f6cdf927"
      },
      "execution_count": null,
      "outputs": [
        {
          "output_type": "stream",
          "name": "stdout",
          "text": [
            "Name of objective: MLW\n",
            "Optimization method: SLSQP\n",
            "Optimization successful.\n",
            "Optimization terminated successfully\n",
            "Objective value: 0.508\n",
            "Number of iterations: 52\n",
            "Params: 2.180 1.819 1.257 1.058 1.265 1.186 1.280 1.266 1.482 0.572 0.838 0.624 1.893 1.320 2.156 7.385 0.793 5.067 0.347 3.148 1.357 4.954 3.951 3.256 0.120 0.082 0.172 0.467 2.352 3.430 0.448\n"
          ]
        }
      ]
    },
    {
      "cell_type": "code",
      "source": [
        "print(inspect_result)"
      ],
      "metadata": {
        "colab": {
          "base_uri": "https://localhost:8080/"
        },
        "id": "O1GkD4m1C44O",
        "outputId": "ba7c3a63-1c54-4268-b23c-c4bd220ca7d5"
      },
      "execution_count": null,
      "outputs": [
        {
          "output_type": "stream",
          "name": "stdout",
          "text": [
            "     lval  op   rval  Estimate  Std. Err    z-value   p-value\n",
            "0   dem60   ~  ind60  1.482379  0.399024   3.715017  0.000203\n",
            "1   dem65   ~  ind60  0.571912  0.221383   2.583364  0.009784\n",
            "2   dem65   ~  dem60  0.837574  0.098446   8.507992       0.0\n",
            "3      x1   ~  ind60  1.000000         -          -         -\n",
            "4      x2   ~  ind60  2.180494  0.138565  15.736254       0.0\n",
            "5      x3   ~  ind60  1.818546  0.151993   11.96465       0.0\n",
            "6      y1   ~  dem60  1.000000         -          -         -\n",
            "7      y2   ~  dem60  1.256819  0.182687   6.879647       0.0\n",
            "8      y3   ~  dem60  1.058174  0.151521   6.983699       0.0\n",
            "9      y4   ~  dem60  1.265186  0.145151   8.716344       0.0\n",
            "10     y5   ~  dem65  1.000000         -          -         -\n",
            "11     y6   ~  dem65  1.185743  0.168908   7.020032       0.0\n",
            "12     y7   ~  dem65  1.279717  0.159996    7.99841       0.0\n",
            "13     y8   ~  dem65  1.266084  0.158238   8.001141       0.0\n",
            "14  dem60  ~~  dem60  3.950849  0.920451   4.292296  0.000018\n",
            "15  dem65  ~~  dem65  0.172210  0.214861   0.801494  0.422846\n",
            "16  ind60  ~~  ind60  0.448321  0.086677   5.172345       0.0\n",
            "17     y1  ~~     y5  0.624423  0.358435   1.742083  0.081494\n",
            "18     y1  ~~     y1  1.892743   0.44456   4.257565  0.000021\n",
            "19     y2  ~~     y4  1.319589   0.70268   1.877937   0.06039\n",
            "20     y2  ~~     y6  2.156164  0.734155   2.936934  0.003315\n",
            "21     y2  ~~     y2  7.385292  1.375671   5.368501       0.0\n",
            "22     y3  ~~     y7  0.793329  0.607642   1.305585  0.191694\n",
            "23     y3  ~~     y3  5.066628  0.951722   5.323646       0.0\n",
            "24     y4  ~~     y8  0.347222  0.442234   0.785154  0.432363\n",
            "25     y4  ~~     y4  3.147911  0.738841   4.260605   0.00002\n",
            "26     y6  ~~     y8  1.357037    0.5685   2.387047  0.016984\n",
            "27     y6  ~~     y6  4.954364  0.914284   5.418843       0.0\n",
            "28     y8  ~~     y8  3.256389   0.69504   4.685182  0.000003\n",
            "29     x2  ~~     x2  0.119894  0.069747   1.718973  0.085619\n",
            "30     x1  ~~     x1  0.081573  0.019495   4.184317  0.000029\n",
            "31     x3  ~~     x3  0.466732  0.090168   5.176276       0.0\n",
            "32     y5  ~~     y5  2.351910  0.480369   4.896044  0.000001\n",
            "33     y7  ~~     y7  3.430032  0.712732   4.812512  0.000001\n"
          ]
        }
      ]
    },
    {
      "cell_type": "code",
      "source": [
        "stats = sem.calc_stats(mod)\n",
        "print(stats.T)"
      ],
      "metadata": {
        "colab": {
          "base_uri": "https://localhost:8080/"
        },
        "id": "vdkfDqbVXkRs",
        "outputId": "69bee027-da2f-4b15-8a29-adf8b0017b5e"
      },
      "execution_count": null,
      "outputs": [
        {
          "output_type": "stream",
          "name": "stdout",
          "text": [
            "                    Value\n",
            "DoF             35.000000\n",
            "DoF Baseline    55.000000\n",
            "chi2            38.125446\n",
            "chi2 p-value     0.329171\n",
            "chi2 Baseline  730.654577\n",
            "CFI              0.995374\n",
            "GFI              0.947820\n",
            "AGFI             0.918003\n",
            "NFI              0.947820\n",
            "TLI              0.992731\n",
            "RMSEA            0.034738\n",
            "AIC             60.983321\n",
            "BIC            132.825453\n",
            "LogLik           0.508339\n"
          ]
        }
      ]
    },
    {
      "cell_type": "code",
      "source": [
        "sem.semplot(mod,'test1.png')"
      ],
      "metadata": {
        "colab": {
          "base_uri": "https://localhost:8080/",
          "height": 596
        },
        "id": "rZNYl_mWDABH",
        "outputId": "ecdd2684-2699-4b98-bee6-ec122042c2b7"
      },
      "execution_count": null,
      "outputs": [
        {
          "output_type": "execute_result",
          "data": {
            "image/svg+xml": "<?xml version=\"1.0\" encoding=\"UTF-8\" standalone=\"no\"?>\n<!DOCTYPE svg PUBLIC \"-//W3C//DTD SVG 1.1//EN\"\n \"http://www.w3.org/Graphics/SVG/1.1/DTD/svg11.dtd\">\n<!-- Generated by graphviz version 2.43.0 (0)\n -->\n<!-- Title: G Pages: 1 -->\n<svg width=\"669pt\" height=\"431pt\"\n viewBox=\"0.00 0.00 669.00 431.48\" xmlns=\"http://www.w3.org/2000/svg\" xmlns:xlink=\"http://www.w3.org/1999/xlink\">\n<g id=\"graph0\" class=\"graph\" transform=\"scale(1 1) rotate(0) translate(4 427.48)\">\n<title>G</title>\n<polygon fill=\"white\" stroke=\"transparent\" points=\"-4,4 -4,-427.48 665,-427.48 665,4 -4,4\"/>\n<!-- ind60 -->\n<g id=\"node1\" class=\"node\">\n<title>ind60</title>\n<ellipse fill=\"#cae6df\" stroke=\"black\" cx=\"488\" cy=\"-392.93\" rx=\"30.59\" ry=\"30.59\"/>\n<text text-anchor=\"middle\" x=\"488\" y=\"-389.23\" font-family=\"Times,serif\" font-size=\"14.00\">ind60</text>\n</g>\n<!-- dem60 -->\n<g id=\"node2\" class=\"node\">\n<title>dem60</title>\n<ellipse fill=\"#cae6df\" stroke=\"black\" cx=\"212\" cy=\"-265.29\" rx=\"35.19\" ry=\"35.19\"/>\n<text text-anchor=\"middle\" x=\"212\" y=\"-261.59\" font-family=\"Times,serif\" font-size=\"14.00\">dem60</text>\n</g>\n<!-- ind60&#45;&gt;dem60 -->\n<g id=\"edge1\" class=\"edge\">\n<title>ind60&#45;&gt;dem60</title>\n<path fill=\"none\" stroke=\"black\" d=\"M458.11,-386.24C424.6,-379.17 369.18,-365.42 325,-344.39 297.06,-331.09 268.41,-311.2 246.95,-294.83\"/>\n<polygon fill=\"black\" stroke=\"black\" points=\"248.85,-291.87 238.8,-288.51 244.56,-297.41 248.85,-291.87\"/>\n<text text-anchor=\"middle\" x=\"351\" y=\"-334.79\" font-family=\"Times,serif\" font-size=\"12.00\">1.482</text>\n<text text-anchor=\"middle\" x=\"351\" y=\"-321.79\" font-family=\"Times,serif\" font-size=\"12.00\">p&#45;val: 0.00</text>\n</g>\n<!-- dem65 -->\n<g id=\"node3\" class=\"node\">\n<title>dem65</title>\n<ellipse fill=\"#cae6df\" stroke=\"black\" cx=\"360\" cy=\"-133.1\" rx=\"35.19\" ry=\"35.19\"/>\n<text text-anchor=\"middle\" x=\"360\" y=\"-129.4\" font-family=\"Times,serif\" font-size=\"14.00\">dem65</text>\n</g>\n<!-- ind60&#45;&gt;dem65 -->\n<g id=\"edge2\" class=\"edge\">\n<title>ind60&#45;&gt;dem65</title>\n<path fill=\"none\" stroke=\"black\" d=\"M464.2,-373.44C444.1,-356.54 416.09,-329.78 400,-300.39 398.49,-297.63 381.45,-225.67 370.11,-177.32\"/>\n<polygon fill=\"black\" stroke=\"black\" points=\"373.47,-176.34 367.78,-167.4 366.66,-177.93 373.47,-176.34\"/>\n<text text-anchor=\"middle\" x=\"426\" y=\"-268.69\" font-family=\"Times,serif\" font-size=\"12.00\">0.572</text>\n<text text-anchor=\"middle\" x=\"426\" y=\"-255.69\" font-family=\"Times,serif\" font-size=\"12.00\">p&#45;val: 0.01</text>\n</g>\n<!-- x1 -->\n<g id=\"node4\" class=\"node\">\n<title>x1</title>\n<polygon fill=\"none\" stroke=\"black\" points=\"515,-283.29 461,-283.29 461,-247.29 515,-247.29 515,-283.29\"/>\n<text text-anchor=\"middle\" x=\"488\" y=\"-261.59\" font-family=\"Times,serif\" font-size=\"14.00\">x1</text>\n</g>\n<!-- ind60&#45;&gt;x1 -->\n<g id=\"edge4\" class=\"edge\">\n<title>ind60&#45;&gt;x1</title>\n<path fill=\"none\" stroke=\"black\" d=\"M488,-362.16C488,-341.37 488,-313.83 488,-293.6\"/>\n<polygon fill=\"black\" stroke=\"black\" points=\"491.5,-293.48 488,-283.48 484.5,-293.48 491.5,-293.48\"/>\n<text text-anchor=\"middle\" x=\"502\" y=\"-328.29\" font-family=\"Times,serif\" font-size=\"12.00\">1.000</text>\n</g>\n<!-- x2 -->\n<g id=\"node5\" class=\"node\">\n<title>x2</title>\n<polygon fill=\"none\" stroke=\"black\" points=\"587,-283.29 533,-283.29 533,-247.29 587,-247.29 587,-283.29\"/>\n<text text-anchor=\"middle\" x=\"560\" y=\"-261.59\" font-family=\"Times,serif\" font-size=\"14.00\">x2</text>\n</g>\n<!-- ind60&#45;&gt;x2 -->\n<g id=\"edge5\" class=\"edge\">\n<title>ind60&#45;&gt;x2</title>\n<path fill=\"none\" stroke=\"black\" d=\"M505.18,-367.62C510.15,-360.27 515.45,-352.1 520,-344.39 529.9,-327.6 539.9,-308.08 547.42,-292.75\"/>\n<polygon fill=\"black\" stroke=\"black\" points=\"550.77,-293.89 551.98,-283.36 544.47,-290.83 550.77,-293.89\"/>\n<text text-anchor=\"middle\" x=\"560\" y=\"-334.79\" font-family=\"Times,serif\" font-size=\"12.00\">2.180</text>\n<text text-anchor=\"middle\" x=\"560\" y=\"-321.79\" font-family=\"Times,serif\" font-size=\"12.00\">p&#45;val: 0.00</text>\n</g>\n<!-- x3 -->\n<g id=\"node6\" class=\"node\">\n<title>x3</title>\n<polygon fill=\"none\" stroke=\"black\" points=\"660,-283.29 606,-283.29 606,-247.29 660,-247.29 660,-283.29\"/>\n<text text-anchor=\"middle\" x=\"633\" y=\"-261.59\" font-family=\"Times,serif\" font-size=\"14.00\">x3</text>\n</g>\n<!-- ind60&#45;&gt;x3 -->\n<g id=\"edge6\" class=\"edge\">\n<title>ind60&#45;&gt;x3</title>\n<path fill=\"none\" stroke=\"black\" d=\"M517.23,-383.78C539.33,-376.42 569.31,-363.74 590,-344.39 605.07,-330.29 616.11,-309.7 623.23,-293.19\"/>\n<polygon fill=\"black\" stroke=\"black\" points=\"626.63,-294.12 627.15,-283.54 620.14,-291.49 626.63,-294.12\"/>\n<text text-anchor=\"middle\" x=\"635\" y=\"-334.79\" font-family=\"Times,serif\" font-size=\"12.00\">1.819</text>\n<text text-anchor=\"middle\" x=\"635\" y=\"-321.79\" font-family=\"Times,serif\" font-size=\"12.00\">p&#45;val: 0.00</text>\n</g>\n<!-- dem60&#45;&gt;dem65 -->\n<g id=\"edge3\" class=\"edge\">\n<title>dem60&#45;&gt;dem65</title>\n<path fill=\"none\" stroke=\"black\" d=\"M242.21,-246.98C257.52,-237.58 275.99,-225.23 291,-212.19 305.73,-199.4 320.29,-183.53 332.22,-169.44\"/>\n<polygon fill=\"black\" stroke=\"black\" points=\"335.21,-171.32 338.92,-161.39 329.83,-166.84 335.21,-171.32\"/>\n<text text-anchor=\"middle\" x=\"342\" y=\"-202.59\" font-family=\"Times,serif\" font-size=\"12.00\">0.838</text>\n<text text-anchor=\"middle\" x=\"342\" y=\"-189.59\" font-family=\"Times,serif\" font-size=\"12.00\">p&#45;val: 0.00</text>\n</g>\n<!-- y1 -->\n<g id=\"node7\" class=\"node\">\n<title>y1</title>\n<polygon fill=\"none\" stroke=\"black\" points=\"54,-151.1 0,-151.1 0,-115.1 54,-115.1 54,-151.1\"/>\n<text text-anchor=\"middle\" x=\"27\" y=\"-129.4\" font-family=\"Times,serif\" font-size=\"14.00\">y1</text>\n</g>\n<!-- dem60&#45;&gt;y1 -->\n<g id=\"edge7\" class=\"edge\">\n<title>dem60&#45;&gt;y1</title>\n<path fill=\"none\" stroke=\"black\" d=\"M177.25,-258.88C145.86,-252.44 99.97,-238.99 69,-212.19 53.38,-198.68 42.6,-177.88 35.87,-161.15\"/>\n<polygon fill=\"black\" stroke=\"black\" points=\"38.99,-159.49 32.2,-151.35 32.43,-161.94 38.99,-159.49\"/>\n<text text-anchor=\"middle\" x=\"83\" y=\"-196.09\" font-family=\"Times,serif\" font-size=\"12.00\">1.000</text>\n</g>\n<!-- y2 -->\n<g id=\"node8\" class=\"node\">\n<title>y2</title>\n<polygon fill=\"none\" stroke=\"black\" points=\"126,-151.1 72,-151.1 72,-115.1 126,-115.1 126,-151.1\"/>\n<text text-anchor=\"middle\" x=\"99\" y=\"-129.4\" font-family=\"Times,serif\" font-size=\"14.00\">y2</text>\n</g>\n<!-- dem60&#45;&gt;y2 -->\n<g id=\"edge8\" class=\"edge\">\n<title>dem60&#45;&gt;y2</title>\n<path fill=\"none\" stroke=\"black\" d=\"M178.03,-255.54C155.41,-247.9 127.01,-234.46 111,-212.19 100.59,-197.72 97.66,-177.8 97.29,-161.71\"/>\n<polygon fill=\"black\" stroke=\"black\" points=\"100.8,-161.32 97.39,-151.29 93.8,-161.26 100.8,-161.32\"/>\n<text text-anchor=\"middle\" x=\"137\" y=\"-202.59\" font-family=\"Times,serif\" font-size=\"12.00\">1.257</text>\n<text text-anchor=\"middle\" x=\"137\" y=\"-189.59\" font-family=\"Times,serif\" font-size=\"12.00\">p&#45;val: 0.00</text>\n</g>\n<!-- y3 -->\n<g id=\"node9\" class=\"node\">\n<title>y3</title>\n<polygon fill=\"none\" stroke=\"black\" points=\"201,-151.1 147,-151.1 147,-115.1 201,-115.1 201,-151.1\"/>\n<text text-anchor=\"middle\" x=\"174\" y=\"-129.4\" font-family=\"Times,serif\" font-size=\"14.00\">y3</text>\n</g>\n<!-- dem60&#45;&gt;y3 -->\n<g id=\"edge9\" class=\"edge\">\n<title>dem60&#45;&gt;y3</title>\n<path fill=\"none\" stroke=\"black\" d=\"M187.35,-239.86C180.73,-231.74 174.47,-222.2 171,-212.19 165.37,-195.94 166.05,-176.64 168.17,-161.29\"/>\n<polygon fill=\"black\" stroke=\"black\" points=\"171.63,-161.82 169.81,-151.38 164.73,-160.68 171.63,-161.82\"/>\n<text text-anchor=\"middle\" x=\"197\" y=\"-202.59\" font-family=\"Times,serif\" font-size=\"12.00\">1.058</text>\n<text text-anchor=\"middle\" x=\"197\" y=\"-189.59\" font-family=\"Times,serif\" font-size=\"12.00\">p&#45;val: 0.00</text>\n</g>\n<!-- y4 -->\n<g id=\"node10\" class=\"node\">\n<title>y4</title>\n<polygon fill=\"none\" stroke=\"black\" points=\"276,-151.1 222,-151.1 222,-115.1 276,-115.1 276,-151.1\"/>\n<text text-anchor=\"middle\" x=\"249\" y=\"-129.4\" font-family=\"Times,serif\" font-size=\"14.00\">y4</text>\n</g>\n<!-- dem60&#45;&gt;y4 -->\n<g id=\"edge10\" class=\"edge\">\n<title>dem60&#45;&gt;y4</title>\n<path fill=\"none\" stroke=\"black\" d=\"M221.55,-231.23C223.37,-224.91 225.25,-218.35 227,-212.19 231.86,-195.13 237.26,-175.96 241.5,-160.88\"/>\n<polygon fill=\"black\" stroke=\"black\" points=\"244.89,-161.74 244.22,-151.17 238.15,-159.85 244.89,-161.74\"/>\n<text text-anchor=\"middle\" x=\"261\" y=\"-202.59\" font-family=\"Times,serif\" font-size=\"12.00\">1.265</text>\n<text text-anchor=\"middle\" x=\"261\" y=\"-189.59\" font-family=\"Times,serif\" font-size=\"12.00\">p&#45;val: 0.00</text>\n</g>\n<!-- y5 -->\n<g id=\"node11\" class=\"node\">\n<title>y5</title>\n<polygon fill=\"none\" stroke=\"black\" points=\"277,-36 223,-36 223,0 277,0 277,-36\"/>\n<text text-anchor=\"middle\" x=\"250\" y=\"-14.3\" font-family=\"Times,serif\" font-size=\"14.00\">y5</text>\n</g>\n<!-- dem65&#45;&gt;y5 -->\n<g id=\"edge11\" class=\"edge\">\n<title>dem65&#45;&gt;y5</title>\n<path fill=\"none\" stroke=\"black\" d=\"M329.77,-114.51C315.7,-105.38 299.39,-93.35 287,-80 277.46,-69.72 269.11,-56.59 262.78,-45.15\"/>\n<polygon fill=\"black\" stroke=\"black\" points=\"265.72,-43.23 257.95,-36.03 259.54,-46.51 265.72,-43.23\"/>\n<text text-anchor=\"middle\" x=\"301\" y=\"-63.9\" font-family=\"Times,serif\" font-size=\"12.00\">1.000</text>\n</g>\n<!-- y6 -->\n<g id=\"node12\" class=\"node\">\n<title>y6</title>\n<polygon fill=\"none\" stroke=\"black\" points=\"349,-36 295,-36 295,0 349,0 349,-36\"/>\n<text text-anchor=\"middle\" x=\"322\" y=\"-14.3\" font-family=\"Times,serif\" font-size=\"14.00\">y6</text>\n</g>\n<!-- dem65&#45;&gt;y6 -->\n<g id=\"edge12\" class=\"edge\">\n<title>dem65&#45;&gt;y6</title>\n<path fill=\"none\" stroke=\"black\" d=\"M336.53,-106.61C330.62,-98.66 325.09,-89.47 322,-80 318.5,-69.28 317.92,-56.92 318.42,-46.14\"/>\n<polygon fill=\"black\" stroke=\"black\" points=\"321.93,-46.26 319.23,-36.01 314.95,-45.7 321.93,-46.26\"/>\n<text text-anchor=\"middle\" x=\"348\" y=\"-70.4\" font-family=\"Times,serif\" font-size=\"12.00\">1.186</text>\n<text text-anchor=\"middle\" x=\"348\" y=\"-57.4\" font-family=\"Times,serif\" font-size=\"12.00\">p&#45;val: 0.00</text>\n</g>\n<!-- y7 -->\n<g id=\"node13\" class=\"node\">\n<title>y7</title>\n<polygon fill=\"none\" stroke=\"black\" points=\"424,-36 370,-36 370,0 424,0 424,-36\"/>\n<text text-anchor=\"middle\" x=\"397\" y=\"-14.3\" font-family=\"Times,serif\" font-size=\"14.00\">y7</text>\n</g>\n<!-- dem65&#45;&gt;y7 -->\n<g id=\"edge13\" class=\"edge\">\n<title>dem65&#45;&gt;y7</title>\n<path fill=\"none\" stroke=\"black\" d=\"M370.7,-99.38C376.23,-82.47 382.91,-62.08 388.14,-46.07\"/>\n<polygon fill=\"black\" stroke=\"black\" points=\"391.57,-46.85 391.35,-36.26 384.92,-44.67 391.57,-46.85\"/>\n<text text-anchor=\"middle\" x=\"412\" y=\"-70.4\" font-family=\"Times,serif\" font-size=\"12.00\">1.280</text>\n<text text-anchor=\"middle\" x=\"412\" y=\"-57.4\" font-family=\"Times,serif\" font-size=\"12.00\">p&#45;val: 0.00</text>\n</g>\n<!-- y8 -->\n<g id=\"node14\" class=\"node\">\n<title>y8</title>\n<polygon fill=\"none\" stroke=\"black\" points=\"499,-36 445,-36 445,0 499,0 499,-36\"/>\n<text text-anchor=\"middle\" x=\"472\" y=\"-14.3\" font-family=\"Times,serif\" font-size=\"14.00\">y8</text>\n</g>\n<!-- dem65&#45;&gt;y8 -->\n<g id=\"edge14\" class=\"edge\">\n<title>dem65&#45;&gt;y8</title>\n<path fill=\"none\" stroke=\"black\" d=\"M391.79,-117.25C408.36,-108.28 428.04,-95.57 442,-80 450.9,-70.08 457.78,-57.04 462.7,-45.57\"/>\n<polygon fill=\"black\" stroke=\"black\" points=\"466.06,-46.59 466.51,-36 459.56,-43.99 466.06,-46.59\"/>\n<text text-anchor=\"middle\" x=\"485\" y=\"-70.4\" font-family=\"Times,serif\" font-size=\"12.00\">1.266</text>\n<text text-anchor=\"middle\" x=\"485\" y=\"-57.4\" font-family=\"Times,serif\" font-size=\"12.00\">p&#45;val: 0.00</text>\n</g>\n</g>\n</svg>\n",
            "text/plain": [
              "<graphviz.graphs.Digraph at 0x7f7127ea4430>"
            ]
          },
          "metadata": {},
          "execution_count": 161
        }
      ]
    },
    {
      "cell_type": "code",
      "source": [],
      "metadata": {
        "id": "hwt8jJWLEZFW"
      },
      "execution_count": null,
      "outputs": []
    }
  ]
}