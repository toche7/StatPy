{
  "nbformat": 4,
  "nbformat_minor": 0,
  "metadata": {
    "colab": {
      "provenance": [],
      "authorship_tag": "ABX9TyNo3JVg0HOc2A1uTJCzqeJ/",
      "include_colab_link": true
    },
    "kernelspec": {
      "name": "python3",
      "display_name": "Python 3"
    },
    "language_info": {
      "name": "python"
    }
  },
  "cells": [
    {
      "cell_type": "markdown",
      "metadata": {
        "id": "view-in-github",
        "colab_type": "text"
      },
      "source": [
        "<a href=\"https://colab.research.google.com/github/toche7/StatPy/blob/main/BasicDataAnalysis.ipynb\" target=\"_parent\"><img src=\"https://colab.research.google.com/assets/colab-badge.svg\" alt=\"Open In Colab\"/></a>"
      ]
    },
    {
      "cell_type": "markdown",
      "metadata": {
        "id": "NsDEbQ7VULyt"
      },
      "source": [
        "##Correlatoin (ความสัมพันธ์)\n",
        "การหาความสัมพันธ์ของข้อมูลว่ามีลักษณะที่เป็นแบบแปรผันตรงหรือแปรผันผกผันนั้นสามารถทำได้ด้วยวิธีการที่เรียกว่าการหาค่า Correlation \n",
        "\n",
        "โดยสามารถแสดงได้ดังตัวอย่างต่อไปนี้\n"
      ]
    },
    {
      "cell_type": "code",
      "metadata": {
        "id": "sr8TXUhzBh_E",
        "colab": {
          "base_uri": "https://localhost:8080/",
          "height": 314
        },
        "outputId": "c6c5fad1-1d59-465f-8f61-cf09e8605f1c"
      },
      "source": [
        "import numpy as np\n",
        "import matplotlib.pyplot as plt\n",
        "x = np.array([61, 63, 67, 69, 70, 74, 76, 81, 86, 91,95,97])\n",
        "y = np.array([4.28, 4.08, 4.42, 4.17, 4.48, 4.3, 4.82, 4.7, 5.11, 5.13, 5.64, 5.56])\n",
        "plt.scatter(x, y, c = 'red')\n",
        "plt.xlabel('Passengers')\n",
        "plt.ylabel('Fuel Cost') \n",
        "plt.show()\n",
        "r = np.corrcoef(x, y)\n",
        "print(r)"
      ],
      "execution_count": null,
      "outputs": [
        {
          "output_type": "display_data",
          "data": {
            "text/plain": [
              "<Figure size 432x288 with 1 Axes>"
            ],
            "image/png": "[encoded data removed]"
          },
          "metadata": {
            "needs_background": "light"
          }
        },
        {
          "output_type": "stream",
          "name": "stdout",
          "text": [
            "[[1.         0.94820033]\n",
            " [0.94820033 1.        ]]\n"
          ]
        }
      ]
    },
    {
      "cell_type": "markdown",
      "metadata": {
        "id": "vWtIGCsHU_Eu"
      },
      "source": [
        "##Regression Analysis (การวิเคราะห์ถดถอย)\n",
        "การสร้างสมการที่แสดงถึงความสัมพันธ์ของข้อมูลสามารถใช้เทคนิคที่เรียกว่าการวิเคราะห์ถดถอยหรือ Regression Analysis โดยสามารถแสดงได้ดังตัวอย่างต่อไปนี้"
      ]
    },
    {
      "cell_type": "code",
      "metadata": {
        "id": "q1bkVtTOAYLL",
        "colab": {
          "base_uri": "https://localhost:8080/",
          "height": 297
        },
        "outputId": "e57cc8c3-d09a-4bd6-da67-1c398e1bc4f4"
      },
      "source": [
        "import numpy as np\n",
        "import matplotlib.pyplot as plt\n",
        "x = np.array([61, 63, 67, 69, 70, 74, 76, 81, 86, 91,95,97])\n",
        "y = np.array([4.28, 4.08, 4.42, 4.17, 4.48, 4.3, 4.82, 4.7, 5.11, 5.13, 5.64, 5.56])\n",
        "plt.scatter(x, y, c = 'red')\n",
        "plt.xlabel('Passengers')\n",
        "plt.ylabel('Fuel Cost') \n",
        "z = x*y\n",
        "sumXY =  sum(z)\n",
        "sumX2 = sum(x**2)\n",
        "b1 = (sumXY - len(x)*np.mean(x)*np.mean(y))/(sumX2 - len(x)*np.mean(x)**2)\n",
        "b0 = np.mean(y) - b1*np.mean(x)\n",
        "yhat = b0 + b1*x\n",
        "plt.plot(x,yhat,'go--')\n",
        "plt.show()\n",
        "print(\"b0 = \", b0, \" b1 = \", b1)"
      ],
      "execution_count": null,
      "outputs": [
        {
          "output_type": "display_data",
          "data": {
            "image/png": "[encoded data removed]",
            "text/plain": [
              "<Figure size 432x288 with 1 Axes>"
            ]
          },
          "metadata": {
            "tags": [],
            "needs_background": "light"
          }
        },
        {
          "output_type": "stream",
          "text": [
            "b0 =  1.5697927767910476  b1 =  0.04070159857904025\n"
          ],
          "name": "stdout"
        }
      ]
    },
    {
      "cell_type": "code",
      "metadata": {
        "id": "jnH90S8OHaNj",
        "colab": {
          "base_uri": "https://localhost:8080/",
          "height": 296
        },
        "outputId": "3263028c-13d7-4e1d-8b6e-9d04c7619655"
      },
      "source": [
        "import numpy as np\n",
        "import matplotlib.pyplot as plt\n",
        "x = np.array([61, 63, 67, 69, 70, 74, 76, 81, 86, 91,95,97])\n",
        "y = np.array([4.28, 4.08, 4.42, 4.17, 4.48, 4.3, 4.82, 4.7, 5.11, 5.13, 5.64, 5.56])\n",
        "plt.scatter(x, y, c = 'red')\n",
        "plt.xlabel('Passengers')\n",
        "plt.ylabel('Fuel Cost') \n",
        "cov = np.cov(x, y, bias = True)\n",
        "var = np.var(x)\n",
        "b1 = cov[0,1]/var\n",
        "b0 = np.mean(y) - b1*np.mean(x)\n",
        "yhat = b0 + b1*x\n",
        "plt.plot(x,yhat,'go--')\n",
        "plt.show()\n",
        "print(\"b0 = \", b0, \" b1 = \", b1)"
      ],
      "execution_count": null,
      "outputs": [
        {
          "output_type": "display_data",
          "data": {
            "image/png": "[encoded data removed]",
            "text/plain": [
              "<Figure size 432x288 with 1 Axes>"
            ]
          },
          "metadata": {
            "needs_background": "light"
          }
        },
        {
          "output_type": "stream",
          "name": "stdout",
          "text": [
            "b0 =  1.5697927767910018  b1 =  0.04070159857904084\n"
          ]
        }
      ]
    },
    {
      "cell_type": "code",
      "source": [
        "b0\n",
        "print(b0)\n",
        "b1\n",
        "print(b1)"
      ],
      "metadata": {
        "colab": {
          "base_uri": "https://localhost:8080/"
        },
        "id": "XntjZNitZC0y",
        "outputId": "23d775fa-e529-4a5f-9d5b-281ba3d8fbfe"
      },
      "execution_count": null,
      "outputs": [
        {
          "output_type": "stream",
          "name": "stdout",
          "text": [
            "1.5697927767910018\n",
            "0.04070159857904084\n"
          ]
        }
      ]
    },
    {
      "cell_type": "code",
      "source": [
        "yy = b0 + b1*500\n",
        "print(yy)"
      ],
      "metadata": {
        "colab": {
          "base_uri": "https://localhost:8080/"
        },
        "id": "JNpkLbCAZSQ3",
        "outputId": "95f49f2a-035c-422b-b3cb-facd46dba006"
      },
      "execution_count": null,
      "outputs": [
        {
          "output_type": "stream",
          "name": "stdout",
          "text": [
            "21.92059206631142\n"
          ]
        }
      ]
    }
  ]
}