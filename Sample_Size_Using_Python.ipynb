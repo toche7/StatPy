{
  "nbformat": 4,
  "nbformat_minor": 0,
  "metadata": {
    "colab": {
      "provenance": [],
      "collapsed_sections": [
        "2H9euGCzWQoh",
        "g4YoQGygRITh"
      ],
      "include_colab_link": true
    },
    "kernelspec": {
      "name": "python3",
      "display_name": "Python 3"
    },
    "language_info": {
      "name": "python"
    }
  },
  "cells": [
    {
      "cell_type": "markdown",
      "metadata": {
        "id": "view-in-github",
        "colab_type": "text"
      },
      "source": [
        "<a href=\"https://colab.research.google.com/github/toche7/StatPy/blob/main/Sample_Size_Using_Python.ipynb\" target=\"_parent\"><img src=\"https://colab.research.google.com/assets/colab-badge.svg\" alt=\"Open In Colab\"/></a>"
      ]
    },
    {
      "cell_type": "markdown",
      "source": [
        "# Sample Size\n",
        "\n",
        "Taweesak Samanchuen <br>\n",
        "Apr 27, 2023\n",
        "\n",
        "การกำหนดหรือคำนวณหาค่า ​Sample Size จัดว่าเป็นปัญหาหนึ่งที่เกิดขึ้นบ่อยครั้งในการทำวิจัย ไม่ว่าจะเป็นทางด้านสังคมศาสตร์ หรืองานทางด้านวิทยาศาสตร์หรือวิศวกรรมศาสตร์ก็ตาม ในเอกสารนี้จะเป็นการอธิบายหลักการและที่มาของการคำนวณค่า Sample Size  ว่ามีหลักการอย่างไร ทั้งนี้การกำหนดค่านี้เอกสารนี้จะมุ่งเน้นไปในงานเชิงปริมาณเป็นหลัก สำหรับงานวิจัยเชิงคุณภาพการกำหนดขนาดของ Sample Size จะใช้ไ่ม่ใช้แนวคิดเชิงสถิติซึ่งจะนอกเหนือจากเอกสารนี้  "
      ],
      "metadata": {
        "id": "n_ZM6PSEyyOj"
      }
    },
    {
      "cell_type": "markdown",
      "source": [
        "## Install Importand Libraries"
      ],
      "metadata": {
        "id": "RfCxAhuHO1ZY"
      }
    },
    {
      "cell_type": "code",
      "source": [
        "# install related library for Latex\n",
        "!sudo apt install cm-super dvipng texlive-latex-extra texlive-latex-recommended"
      ],
      "metadata": {
        "colab": {
          "base_uri": "https://localhost:8080/"
        },
        "id": "nVXP5mRlfn6d",
        "outputId": "f53485b6-89d3-4fe3-fc58-a700c9b071b4"
      },
      "execution_count": null,
      "outputs": [
        {
          "output_type": "stream",
          "name": "stdout",
          "text": [
            "Reading package lists... Done\n",
            "Building dependency tree       \n",
            "Reading state information... Done\n",
            "The following additional packages will be installed:\n",
            "  cm-super-minimal dvisvgm fonts-droid-fallback fonts-lato fonts-lmodern\n",
            "  fonts-noto-mono fonts-texgyre fonts-urw-base35 ghostscript javascript-common\n",
            "  libapache-pom-java libcommons-logging-java libcommons-parent-java\n",
            "  libfontbox-java libfontenc1 libgs9 libgs9-common libharfbuzz-icu0 libidn11\n",
            "  libijs-0.35 libjbig2dec0 libjs-jquery libkpathsea6 libpdfbox-java\n",
            "  libptexenc1 libruby2.7 libsynctex2 libteckit0 libtexlua53 libtexluajit2\n",
            "  libwoff1 libzzip-0-13 lmodern pfb2t1c2pfb poppler-data preview-latex-style\n",
            "  rake ruby ruby-minitest ruby-net-telnet ruby-power-assert ruby-test-unit\n",
            "  ruby-xmlrpc ruby2.7 rubygems-integration t1utils tex-common tex-gyre\n",
            "  texlive-base texlive-binaries texlive-fonts-recommended texlive-latex-base\n",
            "  texlive-pictures texlive-plain-generic tipa xfonts-encodings xfonts-utils\n",
            "Suggested packages:\n",
            "  fonts-noto fonts-freefont-otf | fonts-freefont-ttf ghostscript-x apache2\n",
            "  | lighttpd | httpd libavalon-framework-java libcommons-logging-java-doc\n",
            "  libexcalibur-logkit-java liblog4j1.2-java poppler-utils\n",
            "  fonts-japanese-mincho | fonts-ipafont-mincho fonts-japanese-gothic\n",
            "  | fonts-ipafont-gothic fonts-arphic-ukai fonts-arphic-uming fonts-nanum ri\n",
            "  ruby-dev bundler debhelper perl-tk xpdf | pdf-viewer xzdec\n",
            "  texlive-fonts-recommended-doc texlive-latex-base-doc python3-pygments\n",
            "  icc-profiles libfile-which-perl libspreadsheet-parseexcel-perl\n",
            "  texlive-latex-extra-doc texlive-latex-recommended-doc texlive-luatex\n",
            "  texlive-pstricks dot2tex prerex ruby-tcltk | libtcltk-ruby\n",
            "  texlive-pictures-doc vprerex default-jre-headless\n",
            "The following NEW packages will be installed:\n",
            "  cm-super cm-super-minimal dvipng dvisvgm fonts-droid-fallback fonts-lato\n",
            "  fonts-lmodern fonts-noto-mono fonts-texgyre fonts-urw-base35 ghostscript\n",
            "  javascript-common libapache-pom-java libcommons-logging-java\n",
            "  libcommons-parent-java libfontbox-java libfontenc1 libgs9 libgs9-common\n",
            "  libharfbuzz-icu0 libidn11 libijs-0.35 libjbig2dec0 libjs-jquery libkpathsea6\n",
            "  libpdfbox-java libptexenc1 libruby2.7 libsynctex2 libteckit0 libtexlua53\n",
            "  libtexluajit2 libwoff1 libzzip-0-13 lmodern pfb2t1c2pfb poppler-data\n",
            "  preview-latex-style rake ruby ruby-minitest ruby-net-telnet\n",
            "  ruby-power-assert ruby-test-unit ruby-xmlrpc ruby2.7 rubygems-integration\n",
            "  t1utils tex-common tex-gyre texlive-base texlive-binaries\n",
            "  texlive-fonts-recommended texlive-latex-base texlive-latex-extra\n",
            "  texlive-latex-recommended texlive-pictures texlive-plain-generic tipa\n",
            "  xfonts-encodings xfonts-utils\n",
            "0 upgraded, 61 newly installed, 0 to remove and 24 not upgraded.\n",
            "Need to get 178 MB of archives.\n",
            "After this operation, 565 MB of additional disk space will be used.\n",
            "Get:1 http://archive.ubuntu.com/ubuntu focal/main amd64 fonts-droid-fallback all 1:6.0.1r16-1.1 [1,805 kB]\n",
            "Get:2 http://archive.ubuntu.com/ubuntu focal/main amd64 fonts-lato all 2.0-2 [2,698 kB]\n",
            "Get:3 http://archive.ubuntu.com/ubuntu focal/main amd64 poppler-data all 0.4.9-2 [1,475 kB]\n",
            "Get:4 http://archive.ubuntu.com/ubuntu focal/universe amd64 tex-common all 6.13 [32.7 kB]\n",
            "Get:5 http://archive.ubuntu.com/ubuntu focal/main amd64 libkpathsea6 amd64 2019.20190605.51237-3build2 [57.0 kB]\n",
            "Get:6 http://archive.ubuntu.com/ubuntu focal/main amd64 libptexenc1 amd64 2019.20190605.51237-3build2 [35.5 kB]\n",
            "Get:7 http://archive.ubuntu.com/ubuntu focal/main amd64 libsynctex2 amd64 2019.20190605.51237-3build2 [55.0 kB]\n",
            "Get:8 http://archive.ubuntu.com/ubuntu focal/main amd64 libtexlua53 amd64 2019.20190605.51237-3build2 [105 kB]\n",
            "Get:9 http://archive.ubuntu.com/ubuntu focal/main amd64 libtexluajit2 amd64 2019.20190605.51237-3build2 [235 kB]\n",
            "Get:10 http://archive.ubuntu.com/ubuntu focal/main amd64 t1utils amd64 1.41-3 [56.1 kB]\n",
            "Get:11 http://archive.ubuntu.com/ubuntu focal-updates/main amd64 libharfbuzz-icu0 amd64 2.6.4-1ubuntu4.2 [5,580 B]\n",
            "Get:12 http://archive.ubuntu.com/ubuntu focal/universe amd64 libteckit0 amd64 2.5.8+ds2-5ubuntu2 [320 kB]\n",
            "Get:13 http://archive.ubuntu.com/ubuntu focal/universe amd64 libzzip-0-13 amd64 0.13.62-3.2ubuntu1 [26.2 kB]\n",
            "Get:14 http://archive.ubuntu.com/ubuntu focal/universe amd64 texlive-binaries amd64 2019.20190605.51237-3build2 [8,041 kB]\n",
            "Get:15 http://archive.ubuntu.com/ubuntu focal/universe amd64 texlive-base all 2019.20200218-1 [20.8 MB]\n",
            "Get:16 http://archive.ubuntu.com/ubuntu focal/universe amd64 fonts-lmodern all 2.004.5-6 [4,532 kB]\n",
            "Get:17 http://archive.ubuntu.com/ubuntu focal/universe amd64 texlive-latex-base all 2019.20200218-1 [990 kB]\n",
            "Get:18 http://archive.ubuntu.com/ubuntu focal/universe amd64 texlive-latex-recommended all 2019.20200218-1 [15.7 MB]\n",
            "Get:19 http://archive.ubuntu.com/ubuntu focal/universe amd64 cm-super-minimal all 0.3.4-15 [5,811 kB]\n",
            "Get:20 http://archive.ubuntu.com/ubuntu focal/universe amd64 pfb2t1c2pfb amd64 0.3-11 [9,342 B]\n",
            "Get:21 http://archive.ubuntu.com/ubuntu focal/universe amd64 cm-super all 0.3.4-15 [18.7 MB]\n",
            "Get:22 http://archive.ubuntu.com/ubuntu focal/main amd64 fonts-urw-base35 all 20170801.1-3 [6,333 kB]\n",
            "Get:23 http://archive.ubuntu.com/ubuntu focal-updates/main amd64 libgs9-common all 9.50~dfsg-5ubuntu4.7 [681 kB]\n",
            "Get:24 http://archive.ubuntu.com/ubuntu focal/main amd64 libidn11 amd64 1.33-2.2ubuntu2 [46.2 kB]\n",
            "Get:25 http://archive.ubuntu.com/ubuntu focal/main amd64 libijs-0.35 amd64 0.35-15 [15.7 kB]\n",
            "Get:26 http://archive.ubuntu.com/ubuntu focal/main amd64 libjbig2dec0 amd64 0.18-1ubuntu1 [60.0 kB]\n",
            "Get:27 http://archive.ubuntu.com/ubuntu focal-updates/main amd64 libgs9 amd64 9.50~dfsg-5ubuntu4.7 [2,173 kB]\n",
            "Get:28 http://archive.ubuntu.com/ubuntu focal-updates/main amd64 ghostscript amd64 9.50~dfsg-5ubuntu4.7 [51.9 kB]\n",
            "Get:29 http://archive.ubuntu.com/ubuntu focal/universe amd64 dvipng amd64 1.15-1.1 [78.9 kB]\n",
            "Get:30 http://archive.ubuntu.com/ubuntu focal/main amd64 libwoff1 amd64 1.0.2-1build2 [42.0 kB]\n",
            "Get:31 http://archive.ubuntu.com/ubuntu focal/universe amd64 dvisvgm amd64 2.8.1-1build1 [1,048 kB]\n",
            "Get:32 http://archive.ubuntu.com/ubuntu focal-updates/main amd64 fonts-noto-mono all 20200323-1build1~ubuntu20.04.1 [80.6 kB]\n",
            "Get:33 http://archive.ubuntu.com/ubuntu focal/universe amd64 fonts-texgyre all 20180621-3 [10.2 MB]\n",
            "Get:34 http://archive.ubuntu.com/ubuntu focal/main amd64 javascript-common all 11 [6,066 B]\n",
            "Get:35 http://archive.ubuntu.com/ubuntu focal/universe amd64 libapache-pom-java all 18-1 [4,720 B]\n",
            "Get:36 http://archive.ubuntu.com/ubuntu focal/universe amd64 libcommons-parent-java all 43-1 [10.8 kB]\n",
            "Get:37 http://archive.ubuntu.com/ubuntu focal/universe amd64 libcommons-logging-java all 1.2-2 [60.3 kB]\n",
            "Get:38 http://archive.ubuntu.com/ubuntu focal/main amd64 libfontenc1 amd64 1:1.1.4-0ubuntu1 [14.0 kB]\n",
            "Get:39 http://archive.ubuntu.com/ubuntu focal/main amd64 libjs-jquery all 3.3.1~dfsg-3 [329 kB]\n",
            "Get:40 http://archive.ubuntu.com/ubuntu focal/main amd64 rubygems-integration all 1.16 [5,092 B]\n",
            "Get:41 http://archive.ubuntu.com/ubuntu focal-updates/main amd64 ruby2.7 amd64 2.7.0-5ubuntu1.8 [95.6 kB]\n",
            "Get:42 http://archive.ubuntu.com/ubuntu focal/main amd64 ruby amd64 1:2.7+1 [5,412 B]\n",
            "Get:43 http://archive.ubuntu.com/ubuntu focal/main amd64 rake all 13.0.1-4 [61.6 kB]\n",
            "Get:44 http://archive.ubuntu.com/ubuntu focal/main amd64 ruby-minitest all 5.13.0-1 [40.9 kB]\n",
            "Get:45 http://archive.ubuntu.com/ubuntu focal/main amd64 ruby-net-telnet all 0.1.1-2 [12.6 kB]\n",
            "Get:46 http://archive.ubuntu.com/ubuntu focal/main amd64 ruby-power-assert all 1.1.7-1 [11.4 kB]\n",
            "Get:47 http://archive.ubuntu.com/ubuntu focal/main amd64 ruby-test-unit all 3.3.5-1 [73.2 kB]\n",
            "Get:48 http://archive.ubuntu.com/ubuntu focal/main amd64 ruby-xmlrpc all 0.3.0-2 [23.8 kB]\n",
            "Get:49 http://archive.ubuntu.com/ubuntu focal-updates/main amd64 libruby2.7 amd64 2.7.0-5ubuntu1.8 [3,532 kB]\n",
            "Get:50 http://archive.ubuntu.com/ubuntu focal/main amd64 xfonts-encodings all 1:1.0.5-0ubuntu1 [573 kB]\n",
            "Get:51 http://archive.ubuntu.com/ubuntu focal/main amd64 xfonts-utils amd64 1:7.7+6 [91.5 kB]\n",
            "Get:52 http://archive.ubuntu.com/ubuntu focal/universe amd64 lmodern all 2.004.5-6 [9,474 kB]\n",
            "Get:53 http://archive.ubuntu.com/ubuntu focal/universe amd64 preview-latex-style all 11.91-2ubuntu2 [184 kB]\n",
            "Get:54 http://archive.ubuntu.com/ubuntu focal/universe amd64 tex-gyre all 20180621-3 [6,209 kB]\n",
            "Get:55 http://archive.ubuntu.com/ubuntu focal/universe amd64 texlive-fonts-recommended all 2019.20200218-1 [4,972 kB]\n",
            "Get:56 http://archive.ubuntu.com/ubuntu focal/universe amd64 libfontbox-java all 1:1.8.16-2 [207 kB]\n",
            "Get:57 http://archive.ubuntu.com/ubuntu focal/universe amd64 libpdfbox-java all 1:1.8.16-2 [5,199 kB]\n",
            "Get:58 http://archive.ubuntu.com/ubuntu focal/universe amd64 texlive-pictures all 2019.20200218-1 [4,492 kB]\n",
            "Get:59 http://archive.ubuntu.com/ubuntu focal/universe amd64 texlive-latex-extra all 2019.202000218-1 [12.5 MB]\n",
            "Get:60 http://archive.ubuntu.com/ubuntu focal/universe amd64 texlive-plain-generic all 2019.202000218-1 [24.6 MB]\n",
            "Get:61 http://archive.ubuntu.com/ubuntu focal/universe amd64 tipa all 2:1.3-20 [2,978 kB]\n",
            "Fetched 178 MB in 11s (16.2 MB/s)\n",
            "debconf: unable to initialize frontend: Dialog\n",
            "debconf: (No usable dialog-like program is installed, so the dialog based frontend cannot be used. at /usr/share/perl5/Debconf/FrontEnd/Dialog.pm line 76, <> line 61.)\n",
            "debconf: falling back to frontend: Readline\n",
            "debconf: unable to initialize frontend: Readline\n",
            "debconf: (This frontend requires a controlling tty.)\n",
            "debconf: falling back to frontend: Teletype\n",
            "dpkg-preconfigure: unable to re-open stdin: \n",
            "Selecting previously unselected package fonts-droid-fallback.\n",
            "(Reading database ... 122519 files and directories currently installed.)\n",
            "Preparing to unpack .../00-fonts-droid-fallback_1%3a6.0.1r16-1.1_all.deb ...\n",
            "Unpacking fonts-droid-fallback (1:6.0.1r16-1.1) ...\n",
            "Selecting previously unselected package fonts-lato.\n",
            "Preparing to unpack .../01-fonts-lato_2.0-2_all.deb ...\n",
            "Unpacking fonts-lato (2.0-2) ...\n",
            "Selecting previously unselected package poppler-data.\n",
            "Preparing to unpack .../02-poppler-data_0.4.9-2_all.deb ...\n",
            "Unpacking poppler-data (0.4.9-2) ...\n",
            "Selecting previously unselected package tex-common.\n",
            "Preparing to unpack .../03-tex-common_6.13_all.deb ...\n",
            "Unpacking tex-common (6.13) ...\n",
            "Selecting previously unselected package libkpathsea6:amd64.\n",
            "Preparing to unpack .../04-libkpathsea6_2019.20190605.51237-3build2_amd64.deb ...\n",
            "Unpacking libkpathsea6:amd64 (2019.20190605.51237-3build2) ...\n",
            "Selecting previously unselected package libptexenc1:amd64.\n",
            "Preparing to unpack .../05-libptexenc1_2019.20190605.51237-3build2_amd64.deb ...\n",
            "Unpacking libptexenc1:amd64 (2019.20190605.51237-3build2) ...\n",
            "Selecting previously unselected package libsynctex2:amd64.\n",
            "Preparing to unpack .../06-libsynctex2_2019.20190605.51237-3build2_amd64.deb ...\n",
            "Unpacking libsynctex2:amd64 (2019.20190605.51237-3build2) ...\n",
            "Selecting previously unselected package libtexlua53:amd64.\n",
            "Preparing to unpack .../07-libtexlua53_2019.20190605.51237-3build2_amd64.deb ...\n",
            "Unpacking libtexlua53:amd64 (2019.20190605.51237-3build2) ...\n",
            "Selecting previously unselected package libtexluajit2:amd64.\n",
            "Preparing to unpack .../08-libtexluajit2_2019.20190605.51237-3build2_amd64.deb ...\n",
            "Unpacking libtexluajit2:amd64 (2019.20190605.51237-3build2) ...\n",
            "Selecting previously unselected package t1utils.\n",
            "Preparing to unpack .../09-t1utils_1.41-3_amd64.deb ...\n",
            "Unpacking t1utils (1.41-3) ...\n",
            "Selecting previously unselected package libharfbuzz-icu0:amd64.\n",
            "Preparing to unpack .../10-libharfbuzz-icu0_2.6.4-1ubuntu4.2_amd64.deb ...\n",
            "Unpacking libharfbuzz-icu0:amd64 (2.6.4-1ubuntu4.2) ...\n",
            "Selecting previously unselected package libteckit0:amd64.\n",
            "Preparing to unpack .../11-libteckit0_2.5.8+ds2-5ubuntu2_amd64.deb ...\n",
            "Unpacking libteckit0:amd64 (2.5.8+ds2-5ubuntu2) ...\n",
            "Selecting previously unselected package libzzip-0-13:amd64.\n",
            "Preparing to unpack .../12-libzzip-0-13_0.13.62-3.2ubuntu1_amd64.deb ...\n",
            "Unpacking libzzip-0-13:amd64 (0.13.62-3.2ubuntu1) ...\n",
            "Selecting previously unselected package texlive-binaries.\n",
            "Preparing to unpack .../13-texlive-binaries_2019.20190605.51237-3build2_amd64.deb ...\n",
            "Unpacking texlive-binaries (2019.20190605.51237-3build2) ...\n",
            "Selecting previously unselected package texlive-base.\n",
            "Preparing to unpack .../14-texlive-base_2019.20200218-1_all.deb ...\n",
            "Unpacking texlive-base (2019.20200218-1) ...\n",
            "Selecting previously unselected package fonts-lmodern.\n",
            "Preparing to unpack .../15-fonts-lmodern_2.004.5-6_all.deb ...\n",
            "Unpacking fonts-lmodern (2.004.5-6) ...\n",
            "Selecting previously unselected package texlive-latex-base.\n",
            "Preparing to unpack .../16-texlive-latex-base_2019.20200218-1_all.deb ...\n",
            "Unpacking texlive-latex-base (2019.20200218-1) ...\n",
            "Selecting previously unselected package texlive-latex-recommended.\n",
            "Preparing to unpack .../17-texlive-latex-recommended_2019.20200218-1_all.deb ...\n",
            "Unpacking texlive-latex-recommended (2019.20200218-1) ...\n",
            "Selecting previously unselected package cm-super-minimal.\n",
            "Preparing to unpack .../18-cm-super-minimal_0.3.4-15_all.deb ...\n",
            "Unpacking cm-super-minimal (0.3.4-15) ...\n",
            "Selecting previously unselected package pfb2t1c2pfb.\n",
            "Preparing to unpack .../19-pfb2t1c2pfb_0.3-11_amd64.deb ...\n",
            "Unpacking pfb2t1c2pfb (0.3-11) ...\n",
            "Selecting previously unselected package cm-super.\n",
            "Preparing to unpack .../20-cm-super_0.3.4-15_all.deb ...\n",
            "Unpacking cm-super (0.3.4-15) ...\n",
            "Selecting previously unselected package fonts-urw-base35.\n",
            "Preparing to unpack .../21-fonts-urw-base35_20170801.1-3_all.deb ...\n",
            "Unpacking fonts-urw-base35 (20170801.1-3) ...\n",
            "Selecting previously unselected package libgs9-common.\n",
            "Preparing to unpack .../22-libgs9-common_9.50~dfsg-5ubuntu4.7_all.deb ...\n",
            "Unpacking libgs9-common (9.50~dfsg-5ubuntu4.7) ...\n",
            "Selecting previously unselected package libidn11:amd64.\n",
            "Preparing to unpack .../23-libidn11_1.33-2.2ubuntu2_amd64.deb ...\n",
            "Unpacking libidn11:amd64 (1.33-2.2ubuntu2) ...\n",
            "Selecting previously unselected package libijs-0.35:amd64.\n",
            "Preparing to unpack .../24-libijs-0.35_0.35-15_amd64.deb ...\n",
            "Unpacking libijs-0.35:amd64 (0.35-15) ...\n",
            "Selecting previously unselected package libjbig2dec0:amd64.\n",
            "Preparing to unpack .../25-libjbig2dec0_0.18-1ubuntu1_amd64.deb ...\n",
            "Unpacking libjbig2dec0:amd64 (0.18-1ubuntu1) ...\n",
            "Selecting previously unselected package libgs9:amd64.\n",
            "Preparing to unpack .../26-libgs9_9.50~dfsg-5ubuntu4.7_amd64.deb ...\n",
            "Unpacking libgs9:amd64 (9.50~dfsg-5ubuntu4.7) ...\n",
            "Selecting previously unselected package ghostscript.\n",
            "Preparing to unpack .../27-ghostscript_9.50~dfsg-5ubuntu4.7_amd64.deb ...\n",
            "Unpacking ghostscript (9.50~dfsg-5ubuntu4.7) ...\n",
            "Selecting previously unselected package dvipng.\n",
            "Preparing to unpack .../28-dvipng_1.15-1.1_amd64.deb ...\n",
            "Unpacking dvipng (1.15-1.1) ...\n",
            "Selecting previously unselected package libwoff1:amd64.\n",
            "Preparing to unpack .../29-libwoff1_1.0.2-1build2_amd64.deb ...\n",
            "Unpacking libwoff1:amd64 (1.0.2-1build2) ...\n",
            "Selecting previously unselected package dvisvgm.\n",
            "Preparing to unpack .../30-dvisvgm_2.8.1-1build1_amd64.deb ...\n",
            "Unpacking dvisvgm (2.8.1-1build1) ...\n",
            "Selecting previously unselected package fonts-noto-mono.\n",
            "Preparing to unpack .../31-fonts-noto-mono_20200323-1build1~ubuntu20.04.1_all.deb ...\n",
            "Unpacking fonts-noto-mono (20200323-1build1~ubuntu20.04.1) ...\n",
            "Selecting previously unselected package fonts-texgyre.\n",
            "Preparing to unpack .../32-fonts-texgyre_20180621-3_all.deb ...\n",
            "Unpacking fonts-texgyre (20180621-3) ...\n",
            "Selecting previously unselected package javascript-common.\n",
            "Preparing to unpack .../33-javascript-common_11_all.deb ...\n",
            "Unpacking javascript-common (11) ...\n",
            "Selecting previously unselected package libapache-pom-java.\n",
            "Preparing to unpack .../34-libapache-pom-java_18-1_all.deb ...\n",
            "Unpacking libapache-pom-java (18-1) ...\n",
            "Selecting previously unselected package libcommons-parent-java.\n",
            "Preparing to unpack .../35-libcommons-parent-java_43-1_all.deb ...\n",
            "Unpacking libcommons-parent-java (43-1) ...\n",
            "Selecting previously unselected package libcommons-logging-java.\n",
            "Preparing to unpack .../36-libcommons-logging-java_1.2-2_all.deb ...\n",
            "Unpacking libcommons-logging-java (1.2-2) ...\n",
            "Selecting previously unselected package libfontenc1:amd64.\n",
            "Preparing to unpack .../37-libfontenc1_1%3a1.1.4-0ubuntu1_amd64.deb ...\n",
            "Unpacking libfontenc1:amd64 (1:1.1.4-0ubuntu1) ...\n",
            "Selecting previously unselected package libjs-jquery.\n",
            "Preparing to unpack .../38-libjs-jquery_3.3.1~dfsg-3_all.deb ...\n",
            "Unpacking libjs-jquery (3.3.1~dfsg-3) ...\n",
            "Selecting previously unselected package rubygems-integration.\n",
            "Preparing to unpack .../39-rubygems-integration_1.16_all.deb ...\n",
            "Unpacking rubygems-integration (1.16) ...\n",
            "Selecting previously unselected package ruby2.7.\n",
            "Preparing to unpack .../40-ruby2.7_2.7.0-5ubuntu1.8_amd64.deb ...\n",
            "Unpacking ruby2.7 (2.7.0-5ubuntu1.8) ...\n",
            "Selecting previously unselected package ruby.\n",
            "Preparing to unpack .../41-ruby_1%3a2.7+1_amd64.deb ...\n",
            "Unpacking ruby (1:2.7+1) ...\n",
            "Selecting previously unselected package rake.\n",
            "Preparing to unpack .../42-rake_13.0.1-4_all.deb ...\n",
            "Unpacking rake (13.0.1-4) ...\n",
            "Selecting previously unselected package ruby-minitest.\n",
            "Preparing to unpack .../43-ruby-minitest_5.13.0-1_all.deb ...\n",
            "Unpacking ruby-minitest (5.13.0-1) ...\n",
            "Selecting previously unselected package ruby-net-telnet.\n",
            "Preparing to unpack .../44-ruby-net-telnet_0.1.1-2_all.deb ...\n",
            "Unpacking ruby-net-telnet (0.1.1-2) ...\n",
            "Selecting previously unselected package ruby-power-assert.\n",
            "Preparing to unpack .../45-ruby-power-assert_1.1.7-1_all.deb ...\n",
            "Unpacking ruby-power-assert (1.1.7-1) ...\n",
            "Selecting previously unselected package ruby-test-unit.\n",
            "Preparing to unpack .../46-ruby-test-unit_3.3.5-1_all.deb ...\n",
            "Unpacking ruby-test-unit (3.3.5-1) ...\n",
            "Selecting previously unselected package ruby-xmlrpc.\n",
            "Preparing to unpack .../47-ruby-xmlrpc_0.3.0-2_all.deb ...\n",
            "Unpacking ruby-xmlrpc (0.3.0-2) ...\n",
            "Selecting previously unselected package libruby2.7:amd64.\n",
            "Preparing to unpack .../48-libruby2.7_2.7.0-5ubuntu1.8_amd64.deb ...\n",
            "Unpacking libruby2.7:amd64 (2.7.0-5ubuntu1.8) ...\n",
            "Selecting previously unselected package xfonts-encodings.\n",
            "Preparing to unpack .../49-xfonts-encodings_1%3a1.0.5-0ubuntu1_all.deb ...\n",
            "Unpacking xfonts-encodings (1:1.0.5-0ubuntu1) ...\n",
            "Selecting previously unselected package xfonts-utils.\n",
            "Preparing to unpack .../50-xfonts-utils_1%3a7.7+6_amd64.deb ...\n",
            "Unpacking xfonts-utils (1:7.7+6) ...\n",
            "Selecting previously unselected package lmodern.\n",
            "Preparing to unpack .../51-lmodern_2.004.5-6_all.deb ...\n",
            "Unpacking lmodern (2.004.5-6) ...\n",
            "Selecting previously unselected package preview-latex-style.\n",
            "Preparing to unpack .../52-preview-latex-style_11.91-2ubuntu2_all.deb ...\n",
            "Unpacking preview-latex-style (11.91-2ubuntu2) ...\n",
            "Selecting previously unselected package tex-gyre.\n",
            "Preparing to unpack .../53-tex-gyre_20180621-3_all.deb ...\n",
            "Unpacking tex-gyre (20180621-3) ...\n",
            "Selecting previously unselected package texlive-fonts-recommended.\n",
            "Preparing to unpack .../54-texlive-fonts-recommended_2019.20200218-1_all.deb ...\n",
            "Unpacking texlive-fonts-recommended (2019.20200218-1) ...\n",
            "Selecting previously unselected package libfontbox-java.\n",
            "Preparing to unpack .../55-libfontbox-java_1%3a1.8.16-2_all.deb ...\n",
            "Unpacking libfontbox-java (1:1.8.16-2) ...\n",
            "Selecting previously unselected package libpdfbox-java.\n",
            "Preparing to unpack .../56-libpdfbox-java_1%3a1.8.16-2_all.deb ...\n",
            "Unpacking libpdfbox-java (1:1.8.16-2) ...\n",
            "Selecting previously unselected package texlive-pictures.\n",
            "Preparing to unpack .../57-texlive-pictures_2019.20200218-1_all.deb ...\n",
            "Unpacking texlive-pictures (2019.20200218-1) ...\n",
            "Selecting previously unselected package texlive-latex-extra.\n",
            "Preparing to unpack .../58-texlive-latex-extra_2019.202000218-1_all.deb ...\n",
            "Unpacking texlive-latex-extra (2019.202000218-1) ...\n",
            "Selecting previously unselected package texlive-plain-generic.\n",
            "Preparing to unpack .../59-texlive-plain-generic_2019.202000218-1_all.deb ...\n",
            "Unpacking texlive-plain-generic (2019.202000218-1) ...\n",
            "Selecting previously unselected package tipa.\n",
            "Preparing to unpack .../60-tipa_2%3a1.3-20_all.deb ...\n",
            "Unpacking tipa (2:1.3-20) ...\n",
            "Setting up pfb2t1c2pfb (0.3-11) ...\n",
            "Setting up javascript-common (11) ...\n",
            "Setting up libharfbuzz-icu0:amd64 (2.6.4-1ubuntu4.2) ...\n",
            "Setting up fonts-lato (2.0-2) ...\n",
            "Setting up fonts-noto-mono (20200323-1build1~ubuntu20.04.1) ...\n",
            "Setting up libwoff1:amd64 (1.0.2-1build2) ...\n",
            "Setting up ruby-power-assert (1.1.7-1) ...\n",
            "Setting up libtexlua53:amd64 (2019.20190605.51237-3build2) ...\n",
            "Setting up libijs-0.35:amd64 (0.35-15) ...\n",
            "Setting up libtexluajit2:amd64 (2019.20190605.51237-3build2) ...\n",
            "Setting up libfontbox-java (1:1.8.16-2) ...\n",
            "Setting up rubygems-integration (1.16) ...\n",
            "Setting up libzzip-0-13:amd64 (0.13.62-3.2ubuntu1) ...\n",
            "Setting up fonts-urw-base35 (20170801.1-3) ...\n",
            "Setting up poppler-data (0.4.9-2) ...\n",
            "Setting up ruby-minitest (5.13.0-1) ...\n",
            "Setting up tex-common (6.13) ...\n",
            "debconf: unable to initialize frontend: Dialog\n",
            "debconf: (No usable dialog-like program is installed, so the dialog based frontend cannot be used. at /usr/share/perl5/Debconf/FrontEnd/Dialog.pm line 76.)\n",
            "debconf: falling back to frontend: Readline\n",
            "update-language: texlive-base not installed and configured, doing nothing!\n",
            "Setting up libfontenc1:amd64 (1:1.1.4-0ubuntu1) ...\n",
            "Setting up ruby-test-unit (3.3.5-1) ...\n",
            "Setting up libjbig2dec0:amd64 (0.18-1ubuntu1) ...\n",
            "Setting up libidn11:amd64 (1.33-2.2ubuntu2) ...\n",
            "Setting up libteckit0:amd64 (2.5.8+ds2-5ubuntu2) ...\n",
            "Setting up libapache-pom-java (18-1) ...\n",
            "Setting up ruby-net-telnet (0.1.1-2) ...\n",
            "Setting up xfonts-encodings (1:1.0.5-0ubuntu1) ...\n",
            "Setting up t1utils (1.41-3) ...\n",
            "Setting up fonts-texgyre (20180621-3) ...\n",
            "Setting up libkpathsea6:amd64 (2019.20190605.51237-3build2) ...\n",
            "Setting up fonts-lmodern (2.004.5-6) ...\n",
            "Setting up fonts-droid-fallback (1:6.0.1r16-1.1) ...\n",
            "Setting up libjs-jquery (3.3.1~dfsg-3) ...\n",
            "Setting up ruby-xmlrpc (0.3.0-2) ...\n",
            "Setting up libsynctex2:amd64 (2019.20190605.51237-3build2) ...\n",
            "Setting up libgs9-common (9.50~dfsg-5ubuntu4.7) ...\n",
            "Setting up libpdfbox-java (1:1.8.16-2) ...\n",
            "Setting up libgs9:amd64 (9.50~dfsg-5ubuntu4.7) ...\n",
            "Setting up preview-latex-style (11.91-2ubuntu2) ...\n",
            "Setting up libcommons-parent-java (43-1) ...\n",
            "Setting up dvisvgm (2.8.1-1build1) ...\n",
            "Setting up libcommons-logging-java (1.2-2) ...\n",
            "Setting up ghostscript (9.50~dfsg-5ubuntu4.7) ...\n",
            "Setting up xfonts-utils (1:7.7+6) ...\n",
            "Setting up libptexenc1:amd64 (2019.20190605.51237-3build2) ...\n",
            "Setting up texlive-binaries (2019.20190605.51237-3build2) ...\n",
            "update-alternatives: using /usr/bin/xdvi-xaw to provide /usr/bin/xdvi.bin (xdvi.bin) in auto mode\n",
            "update-alternatives: using /usr/bin/bibtex.original to provide /usr/bin/bibtex (bibtex) in auto mode\n",
            "Setting up lmodern (2.004.5-6) ...\n",
            "Setting up texlive-base (2019.20200218-1) ...\n",
            "mktexlsr: Updating /var/lib/texmf/ls-R-TEXLIVEDIST... \n",
            "mktexlsr: Updating /var/lib/texmf/ls-R-TEXMFMAIN... \n",
            "mktexlsr: Updating /var/lib/texmf/ls-R... \n",
            "mktexlsr: Done.\n",
            "tl-paper: setting paper size for dvips to a4: /var/lib/texmf/dvips/config/config-paper.ps\n",
            "tl-paper: setting paper size for dvipdfmx to a4: /var/lib/texmf/dvipdfmx/dvipdfmx-paper.cfg\n",
            "tl-paper: setting paper size for xdvi to a4: /var/lib/texmf/xdvi/XDvi-paper\n",
            "tl-paper: setting paper size for pdftex to a4: /var/lib/texmf/tex/generic/config/pdftexconfig.tex\n",
            "debconf: unable to initialize frontend: Dialog\n",
            "debconf: (No usable dialog-like program is installed, so the dialog based frontend cannot be used. at /usr/share/perl5/Debconf/FrontEnd/Dialog.pm line 76.)\n",
            "debconf: falling back to frontend: Readline\n",
            "Setting up tex-gyre (20180621-3) ...\n",
            "Setting up dvipng (1.15-1.1) ...\n",
            "Setting up texlive-plain-generic (2019.202000218-1) ...\n",
            "Setting up texlive-latex-base (2019.20200218-1) ...\n",
            "Setting up texlive-latex-recommended (2019.20200218-1) ...\n",
            "Setting up texlive-pictures (2019.20200218-1) ...\n",
            "Setting up texlive-fonts-recommended (2019.20200218-1) ...\n",
            "Setting up tipa (2:1.3-20) ...\n",
            "Regenerating '/var/lib/texmf/fmtutil.cnf-DEBIAN'... done.\n",
            "Regenerating '/var/lib/texmf/fmtutil.cnf-TEXLIVEDIST'... done.\n",
            "update-fmtutil has updated the following file(s):\n",
            "\t/var/lib/texmf/fmtutil.cnf-DEBIAN\n",
            "\t/var/lib/texmf/fmtutil.cnf-TEXLIVEDIST\n",
            "If you want to activate the changes in the above file(s),\n",
            "you should run fmtutil-sys or fmtutil.\n",
            "Setting up cm-super-minimal (0.3.4-15) ...\n",
            "Setting up texlive-latex-extra (2019.202000218-1) ...\n",
            "Setting up cm-super (0.3.4-15) ...\n",
            "Creating fonts. This may take some time... done.\n",
            "Setting up rake (13.0.1-4) ...\n",
            "Setting up libruby2.7:amd64 (2.7.0-5ubuntu1.8) ...\n",
            "Setting up ruby2.7 (2.7.0-5ubuntu1.8) ...\n",
            "Setting up ruby (1:2.7+1) ...\n",
            "Processing triggers for fontconfig (2.13.1-2ubuntu3) ...\n",
            "Processing triggers for mime-support (3.64ubuntu1) ...\n",
            "Processing triggers for libc-bin (2.31-0ubuntu9.9) ...\n",
            "Processing triggers for man-db (2.9.1-1) ...\n",
            "Processing triggers for tex-common (6.13) ...\n",
            "debconf: unable to initialize frontend: Dialog\n",
            "debconf: (No usable dialog-like program is installed, so the dialog based frontend cannot be used. at /usr/share/perl5/Debconf/FrontEnd/Dialog.pm line 76.)\n",
            "debconf: falling back to frontend: Readline\n",
            "Running updmap-sys. This may take some time... done.\n",
            "Running mktexlsr /var/lib/texmf ... done.\n",
            "Building format(s) --all.\n",
            "\tThis may take some time... done.\n"
          ]
        }
      ]
    },
    {
      "cell_type": "code",
      "source": [
        "# Data calculation\n",
        "import numpy as np\n",
        "# Power analysis\n",
        "from statsmodels.stats.power import  TTestIndPower \n",
        "# Visualization\n",
        "import matplotlib.pyplot as plt\n",
        "from scipy.stats import t, norm"
      ],
      "metadata": {
        "id": "cGQU9oLwfqB7"
      },
      "execution_count": null,
      "outputs": []
    },
    {
      "cell_type": "markdown",
      "source": [
        "# 1. Variance of Sample Mean\n"
      ],
      "metadata": {
        "id": "azSV7xrrkpW8"
      }
    },
    {
      "cell_type": "markdown",
      "source": [
        "คุณสมบัติทางสถิติที่เกี่ยวของกับการคำนวณขนาดของ Sample Size คือค่ากระจาย โดยค่าการกระจายหรือ variance ของการทำ sampling จะมีขนาดลดลงตามขนาดของการ sampline size โดยสามารถเขียนเป็นสมการได้ดังนี้\n",
        "\n",
        "\\begin{equation}\n",
        "\\sigma_\\bar{x} = \\frac{\\sigma}{\\sqrt{n}} \\tag{1}\n",
        "\\end{equation}\n",
        "\n",
        "เราสามารถแสดงเป็นกราฟความสัมพันธ์ได้ดังนี้"
      ],
      "metadata": {
        "id": "Dr6TVAOHR-89"
      }
    },
    {
      "cell_type": "code",
      "source": [
        "x = np.arange(-15,15,0.1)\n",
        "n = 20\n",
        "s = 4\n",
        "N0 = norm(0,s)\n",
        "y0 = N0.pdf(x)\n",
        "N1 = norm(0,s/np.sqrt(n))\n",
        "ys = N1.pdf(x)\n",
        "plt.rcParams['text.usetex'] = True\n",
        "plt.rcParams[\"font.family\"] = \"Times New Roman\"\n",
        "\n",
        "plt.plot(x,y0,'b')\n",
        "plt.plot(x,ys,'r')"
      ],
      "metadata": {
        "colab": {
          "base_uri": "https://localhost:8080/",
          "height": 445
        },
        "id": "H0DFQi1akhjQ",
        "outputId": "e76994b6-b602-4946-ec62-53ccf769a24e"
      },
      "execution_count": null,
      "outputs": [
        {
          "output_type": "execute_result",
          "data": {
            "text/plain": [
              "[<matplotlib.lines.Line2D at 0x7fccf140c070>]"
            ]
          },
          "metadata": {},
          "execution_count": 42
        },
        {
          "output_type": "display_data",
          "data": {
            "text/plain": [
              "<Figure size 640x480 with 1 Axes>"
            ],
            "image/png": "[encoded data removed]"
          },
          "metadata": {}
        }
      ]
    },
    {
      "cell_type": "markdown",
      "source": [
        "จากความสัมพันธ์ข้างต้นเราสามารถ สร้างความสัมพันธ์ในรูปแบบอื่น ๆ ได้อีกคือ\n",
        "\n",
        "* จำนวนของ sample การทำ normalize เพื่อให้ได้ variance ที่ต้องการ\n",
        "\n",
        "\\begin{equation}\n",
        "n = \\left(\\frac{\\sigma}{\\sigma_\\bar{x}}\\right)^2 \\tag{2}\n",
        "\\end{equation}\n",
        "\n",
        "* หากต้องทำเป็น Standard Normal Distribution\n",
        "\\begin{equation}\n",
        "n = \\sigma^2 \\tag{3}\n",
        "\\end{equation}\n",
        "\n",
        "* ค่า Critical Value หรือ Theshold ที่จะตัดสินใจตามค่า $\\alpha$ ที่กำหนด\n",
        "$$\n",
        "T = z_\\alpha \\sigma = z_\\alpha \\sqrt{n} \\tag{4}\n",
        "$$ "
      ],
      "metadata": {
        "id": "JjHVfreNwnuK"
      }
    },
    {
      "cell_type": "code",
      "source": [
        "#s = 1\n",
        "alph = 0.05\n",
        "Nz = norm(0,1)\n",
        "z_a = Nz.ppf(1 - alph)\n",
        "print('z_a = %f' %z_a)\n",
        "\n",
        "N0 = norm(0,s)\n",
        "y0 = N0.pdf(x)\n",
        "\n",
        "plt.plot(x,y0,'r')\n",
        "N0.cdf(z_a*s)\n",
        "plt.axvline(x = z_a*s, color = 'k', linestyle='dashed', label = 'axvline - full height')\n",
        "#plt.#adding text inside the plot\n",
        "plt.text(7.5, 0.008, r'$\\alpha $', fontsize = 12)\n",
        "plt.axhline(y =0, color = 'k')\n",
        "plt.show()\n"
      ],
      "metadata": {
        "colab": {
          "base_uri": "https://localhost:8080/",
          "height": 445
        },
        "id": "DJtAVBVPc8j4",
        "outputId": "50de3262-cade-47f6-92ff-7f69c91b5c90"
      },
      "execution_count": null,
      "outputs": [
        {
          "output_type": "stream",
          "name": "stdout",
          "text": [
            "z_a = 1.644854\n"
          ]
        },
        {
          "output_type": "display_data",
          "data": {
            "text/plain": [
              "<Figure size 640x480 with 1 Axes>"
            ],
            "image/png": "[encoded data removed]"
          },
          "metadata": {}
        }
      ]
    },
    {
      "cell_type": "code",
      "source": [
        "N0.cdf(z_a*s)"
      ],
      "metadata": {
        "colab": {
          "base_uri": "https://localhost:8080/"
        },
        "id": "f_LAShqOOCkh",
        "outputId": "0f9debd2-69c6-4351-cbbd-71fa091e8bb0"
      },
      "execution_count": null,
      "outputs": [
        {
          "output_type": "execute_result",
          "data": {
            "text/plain": [
              "0.95"
            ]
          },
          "metadata": {},
          "execution_count": 6
        }
      ]
    },
    {
      "cell_type": "markdown",
      "source": [
        "# 2. Sample Size of Mean Estimation\n"
      ],
      "metadata": {
        "id": "w5ubzZbrc8_r"
      }
    },
    {
      "cell_type": "markdown",
      "source": [
        "\n",
        "### 2.1 One Sample\n",
        "จากเรื่องของการทำ Interval Estimation (IE) จากค่า Sampling Mean [Ref XXX]\n",
        "\n",
        "$$\n",
        "\\text{IE} =\\bar{x} \\pm \\frac{z_\\alpha\\sigma}{\\sqrt{n}} = \\bar{x} \\pm z_\\alpha SE \\tag{5}\n",
        "$$ \n",
        "\n",
        "โดย SE คือค่า Standard Error มีค่าเท่ากับ\n",
        "$$\n",
        "SE = \\frac{\\sigma}{\\sqrt{n}} \\tag{6}\n",
        "$$ \n",
        "\n",
        "ค่า margin of error ในการทำ IE นี้จะมีค่าเท่ากับ\n",
        "$$\n",
        "E = \\frac{z_\\alpha\\sigma}{\\sqrt{n}} \\tag{7}\n",
        "$$\n",
        "เป้าหมายของเราคือ การทำให้แน่ใจว่าค่า margin of error (E) มันไม่มีค่าไม่เกินที่กำหนดไว้ โดยเราสามารถทำได้จากการปรับค่า $n$ นั้นคือเราจะได้ดังนี้  \n",
        "\n",
        "\\begin{equation}\n",
        "n = \\left( \\frac{z_\\alpha\\sigma}{E} \\right)^2 \\tag{8}\n",
        "\\end{equation}"
      ],
      "metadata": {
        "id": "k54rHcBgR0v3"
      }
    },
    {
      "cell_type": "markdown",
      "source": [
        "### Example 1:\n",
        "An investigator wants to estimate the mean systolic blood pressure in children with congenital heart disease who are between the ages of 3 and 5. How many children should be enrolled in the study? The investigator plans on using a 95% confidence interval (so Z=1.96) and wants a margin of error of 5 units. The standard deviation of systolic blood pressure is unknown, but the investigators conduct a literature search and find that the standard deviation of systolic blood pressures in children with other cardiac defects is between 15 and 20. To estimate the sample size, we consider the larger standard deviation in order to obtain the most conservative (largest) sample size. \n",
        "\n",
        "CI = 95% => z = 1.96 <br>\n",
        "E = 5<br>\n",
        "SD = 15-20\n",
        "\n"
      ],
      "metadata": {
        "id": "e7gUEch-HgEQ"
      }
    },
    {
      "cell_type": "code",
      "source": [
        "z_a = Nz.ppf(1 - alph/2)"
      ],
      "metadata": {
        "id": "Aue_C5jxPxkO"
      },
      "execution_count": null,
      "outputs": []
    },
    {
      "cell_type": "code",
      "source": [
        "print(z_a)"
      ],
      "metadata": {
        "colab": {
          "base_uri": "https://localhost:8080/"
        },
        "id": "yfgzTuG1PpBH",
        "outputId": "bb6c7686-17d6-4634-bf2c-b0538b42f781"
      },
      "execution_count": null,
      "outputs": [
        {
          "output_type": "stream",
          "name": "stdout",
          "text": [
            "1.959963984540054\n"
          ]
        }
      ]
    },
    {
      "cell_type": "code",
      "source": [
        "z = 1.96\n",
        "E = 5\n",
        "SD = 20 #select max\n",
        "n = (z*SD/E)**2\n",
        "print('number of sample = %d' % np.ceil(n))"
      ],
      "metadata": {
        "id": "zGBXr6RZeX9c",
        "colab": {
          "base_uri": "https://localhost:8080/"
        },
        "outputId": "f36c654a-a694-4734-c42a-039581585597"
      },
      "execution_count": null,
      "outputs": [
        {
          "output_type": "stream",
          "name": "stdout",
          "text": [
            "number of sample = 62\n"
          ]
        }
      ]
    },
    {
      "cell_type": "markdown",
      "source": [
        "### 2.2 Two Independent Population\n",
        "ในกรณีที่เราต้องการตรวจสอบค่าความแตกต่างของค่า mean จากประชากรสองกลุ่มว่ามีความแตกต่างกันหรือไม่  เราสามารถคำนวณค่าประชากรที่ต้องการได้ดังนี้\n",
        "\\begin{equation}\n",
        "n_i = 2\\left( \\frac{z_\\alpha s_p}{E} \\right)^2 \\tag{9}\n",
        "\\end{equation}\n",
        "\n",
        "เมื่อ $n_i$ มีค่าเป็น ​ Sample Size ของ $i \\in \\{1,2 \\}$ และ $s_p$  เป็นค่า SD ร่วมของสองกลุ่มประชากร (pooled estimated of commond SD) ที่สามารคำนวณได้จาก\n",
        "\n",
        "\\begin{equation}\n",
        "s_p = \\sqrt{\\frac{(n_1 -1)s_1^2 + (n_2 -1)s_2^2}{(n_1 + n_2 - 2)}} \\tag{10}\n",
        "\\end{equation}\n",
        "\n",
        "กรณีที่ $s_1 = s_2$ เราจะได้ว่า \n",
        "\\begin{equation}\n",
        "s_p =  s_1  \\tag{11}\n",
        "\\end{equation}\n",
        "\n"
      ],
      "metadata": {
        "id": "Lwt5s8ZnebAp"
      }
    },
    {
      "cell_type": "markdown",
      "source": [
        "### Example 2:\n",
        "An investigator wants to plan a clinical trial to evaluate the efficacy of a new drug designed to increase HDL cholesterol (the \"good\" cholesterol). The plan is to enroll participants and to randomly assign them to receive either the new drug or a placebo. HDL cholesterol will be measured in each participant after 12 weeks on the assigned treatment. Based on prior experience with similar trials, the investigator expects that 10% of all participants will be lost to follow up or will drop out of the study over 12 weeks. A 95% confidence interval will be estimated to quantify the difference in mean HDL levels between patients taking the new drug as compared to placebo. The investigator would like the margin of error to be no more than 3 units. How many patients should be recruited into the study?\n",
        "\n",
        "A major issue is determining the variability in the outcome of interest (σ), here the standard deviation of HDL cholesterol. To plan this study, we can use data from the Framingham Heart Study. In participants who attended the seventh examination of the Offspring Study and were not on treatment for high cholesterol, the standard deviation of HDL cholesterol is 17.1.\n",
        "\n",
        "z = 1.96 <br>\n",
        "E = 3 <br>\n",
        "s = 17.1\n"
      ],
      "metadata": {
        "id": "Yz80QmJWPlX5"
      }
    },
    {
      "cell_type": "code",
      "source": [
        "z = 1.96\n",
        "E = 3\n",
        "SD = 17.1 #select max\n",
        "n = 2*(z*SD/E)**2\n",
        "print('number of sample = %d' % np.ceil(n))"
      ],
      "metadata": {
        "id": "q6EylzUgPkhv"
      },
      "execution_count": null,
      "outputs": []
    },
    {
      "cell_type": "markdown",
      "source": [
        "ในกรณีนี้จำเป็นจะต้องแยกทำการทดลองสองกลุ่ม โดยกลุ่มละ 250 คน ดังนั้นเราจะต้องเก็บข้อมูลทั้งหมด 500 คน โดยจะต้องเผื่อ margin ด้วยอีก 10% คิดเป็น 500/0.9 = 556 คน "
      ],
      "metadata": {
        "id": "-wV3yzDnQi1j"
      }
    },
    {
      "cell_type": "code",
      "source": [],
      "metadata": {
        "id": "rYQwDnyQkagA"
      },
      "execution_count": null,
      "outputs": []
    },
    {
      "cell_type": "markdown",
      "source": [
        "# 3. Sample Size for Hypothesis Testing"
      ],
      "metadata": {
        "id": "nBvwK_l-Rpf-"
      }
    },
    {
      "cell_type": "markdown",
      "source": [
        "ก่อนอื่นต้องมาทบทวนเรื่องของการทดสอบสมมุติฐานกันก่อน สมมุติเราต้องการทดสอบสมมุติฐานว่า\n",
        "$$\n",
        "H_0 : \\mu_0 = \\mu_1\n",
        "$$\n",
        "$$\n",
        "H_1 : \\mu_0 \\ne \\mu_1 \n",
        "$$\n",
        "เราสามารถทำการวิเคราะห์ได้โดยแยกเป็นกรณีดังนี้\n"
      ],
      "metadata": {
        "id": "026H7X02Rw9j"
      }
    },
    {
      "cell_type": "markdown",
      "source": [
        "\n",
        "### กรณีที่ 1: $H_0$เป็นจริง \n",
        "\n",
        "โดยกำหนดให้ค่า  mean เป็น 90 เราจะสามารถแสดงเป็นสมการได้ดังนี้ \n",
        "$$\n",
        "\\mu_\\bar{x} = \\mu = 90\n",
        "$$ \n",
        "โดยค่า Standard Deviation จะมีค่าเท่ากับ \n",
        "$$\n",
        "SD = \\sigma_\\bar{x} = \\frac{\\sigma}{\\sqrt{n}}\n",
        "$$\n",
        "หากกำหนดให้ $\\sigma = 20$ และ $n = 100$\n",
        "$$\n",
        "SD = \\frac{20}{\\sqrt{100}} = 2.0\n",
        "$$\n",
        "เราสามารถแสดงเป็นกราฟได้ดังนี้\n"
      ],
      "metadata": {
        "id": "2H9euGCzWQoh"
      }
    },
    {
      "cell_type": "code",
      "source": [
        "mu = 90\n",
        "n = 100\n",
        "sd = 20\n",
        "sdz = sd/np.sqrt(n)\n",
        "N = norm(mu,sdz)\n",
        "x = np.arange(80,100,0.2)\n",
        "y = N.pdf(x)\n",
        "\n",
        "plt.rcParams['text.usetex'] = True\n",
        "plt.rcParams[\"font.family\"] = \"Times New Roman\"\n",
        "\n",
        "plt.plot(x,y,'b')\n",
        "plt.title(r'Distribution of $\\bar{x}$ under $H_0: \\mu = 90$');\n",
        "plt.axhline(y =0, color = 'k')\n",
        "plt.show()\n"
      ],
      "metadata": {
        "colab": {
          "base_uri": "https://localhost:8080/",
          "height": 448
        },
        "id": "qXtarsGgXFj0",
        "outputId": "9254d975-144e-4264-c371-d3b226caab35"
      },
      "execution_count": null,
      "outputs": [
        {
          "output_type": "display_data",
          "data": {
            "text/plain": [
              "<Figure size 640x480 with 1 Axes>"
            ],
            "image/png": "[encoded data removed]"
          },
          "metadata": {}
        }
      ]
    },
    {
      "cell_type": "markdown",
      "source": [
        "\n",
        "กำหนดความเชื่อมั่น ที่ 95% เราสามารถกำหนดได้ดังนี้"
      ],
      "metadata": {
        "id": "zCQT4ReOlZP1"
      }
    },
    {
      "cell_type": "code",
      "source": [
        "\n",
        "x = np.arange(83,98,0.2)\n",
        "y = N.pdf(x)\n",
        "z_a = norm.ppf(.975)\n",
        "Tu = mu + z_a*sdz\n",
        "Tl = mu - z_a*sdz\n",
        "plt.rcParams['text.usetex'] = True\n",
        "plt.rcParams[\"font.family\"] = \"Times New Roman\"\n",
        "\n",
        "plt.plot(x,y,'b')\n",
        "plt.title(r'Rejection Region for Test $H_0: \\mu = 90$ versus $H_1: \\mu \\ne 90$ at $\\alpha =0.05$');\n",
        "plt.plot([Tu,Tu],[0,N.pdf(Tu)],linestyle='dashed',color = 'k')\n",
        "plt.plot([Tl,Tl],[0,N.pdf(Tl)],linestyle='dashed',color = 'k')\n",
        "plt.text(Tl - 1.2, 0.008, r'$\\alpha/2 $', fontsize = 12)\n",
        "plt.text(Tu + 0.2, 0.008, r'$\\alpha/2 $', fontsize = 12)\n",
        "plt.axhline(y =0, color = 'k')\n",
        "plt.show()"
      ],
      "metadata": {
        "colab": {
          "base_uri": "https://localhost:8080/",
          "height": 448
        },
        "id": "_NAdOnAMW_9M",
        "outputId": "c670083d-aa15-4aa0-9f64-c39ca61c692f"
      },
      "execution_count": null,
      "outputs": [
        {
          "output_type": "display_data",
          "data": {
            "text/plain": [
              "<Figure size 640x480 with 1 Axes>"
            ],
            "image/png": "[encoded data removed]"
          },
          "metadata": {}
        }
      ]
    },
    {
      "cell_type": "markdown",
      "source": [
        "โดยมีความหมายว่า ในช่วงความเชื่อมั่นตั้งแต่ Tl (86.71) ไปถึง Tu (93.29) จะมีพื้นที่ใต้กราฟอยู่ 0.95 ซึ่งจะหมายถึงความน่าจะเป็นที่จะมีค่า mean อยู่ในช่วงนี้ถึง 95% นั้นเอง พื้นที่ที่เกินตำแหน่ง critical value จะมีพื้นที่ 2 ส่วนด้วยกันโดยแต่ละส่วนจะมีขนาดพื้นที่เท่ากับ $\\alpha/2$ ซึ่งในที่นี้จะมีค่าเท่ากับ 0.025"
      ],
      "metadata": {
        "id": "mhkJ9ZrmP5fJ"
      }
    },
    {
      "cell_type": "markdown",
      "source": [
        "### กรณีที่ 2: $H_1$ เป็นจริง\n",
        "แต่ถ้าหากเป็นกรณีที่ mean ของการทดสอบมีความแตกต่างกันเช่น 90 และ 94 จริงการกระจายก็จะเปลี่ยนไป เราสามารถแสดงการกระจายได้ดังนี้ เมื่อกำหนดค่าอื่นๆ ให้คงเดิม"
      ],
      "metadata": {
        "id": "g4YoQGygRITh"
      }
    },
    {
      "cell_type": "code",
      "source": [
        "mu0 = 90\n",
        "mu1 = 94\n",
        "n = 100\n",
        "sd = 20\n",
        "sdz = sd/np.sqrt(n)\n",
        "N0 = norm(mu0,sdz)\n",
        "N1 = norm(mu1,sdz)\n",
        "\n",
        "x = np.arange(83,98 + 4,0.2)\n",
        "y0 = N0.pdf(x)\n",
        "y1 = N1.pdf(x)\n",
        "z_a = norm.ppf(.975)\n",
        "Tu = mu0 + z_a*sdz\n",
        "Tl = mu0 - z_a*sdz\n",
        "plt.rcParams['text.usetex'] = True\n",
        "plt.rcParams[\"font.family\"] = \"Times New Roman\"\n",
        "\n",
        "plt.plot(x,y0,'b')\n",
        "plt.plot(x,y1,'r')\n",
        "\n",
        "\n",
        "plt.title(r'Distribution of Under $H_0: \\mu = 90$ and Under $H_1: \\mu = 94$');\n",
        "plt.plot([Tu,Tu],[-0.02,N1.pdf(Tu)], linestyle='dashed', color = 'k')\n",
        "#plt.axvline(x = Tu,  ymin=0, ymax = 0.5, color = 'k')\n",
        "#plt.plot([Tl,Tl],[0,N1.pdf(Tl)],color = 'k')\n",
        "plt.text(Tu + 0.2, 0.008, r'$\\alpha/2 $', fontsize = 12)\n",
        "plt.text(Tu - 1.5, 0.025, r'$\\beta$', fontsize = 12)\n",
        "plt.text(Tu + 1, 0.075, r'Power', fontsize = 12)\n",
        "plt.text(Tu + 1, -0.025, r'Reject $H_0$', fontsize = 12)\n",
        "plt.text(Tu - 6, -0.025, r'Do not reject $H_0$', fontsize = 12)\n",
        "plt.axhline(y =0, color = 'k')\n",
        "plt.legend(['$f_0(x),\\mu_0 = 90$', '$f_1(x), \\mu_1 = 91$'])\n",
        "plt.show()"
      ],
      "metadata": {
        "colab": {
          "base_uri": "https://localhost:8080/",
          "height": 448
        },
        "id": "XNR7Mw6jn31F",
        "outputId": "af7dcdfc-0fef-442e-9e6e-344ca8f7177e"
      },
      "execution_count": null,
      "outputs": [
        {
          "output_type": "display_data",
          "data": {
            "text/plain": [
              "<Figure size 640x480 with 1 Axes>"
            ],
            "image/png": "[encoded data removed]"
          },
          "metadata": {}
        }
      ]
    },
    {
      "cell_type": "markdown",
      "source": [
        "จากรูปจะเห็นว่ากราฟประกอบไปด้วยกราฟสองเส้นคือ $f_0(x)$ และ $f_1(x)$ โดยจะเป็นฟังก์ชันการกระจายที่มีค่ากลางอยู่ที่ $\\mu_0$ และ $\\mu_1$ ตามลำดับ \n",
        "\n",
        "หากเรายังกำหนดให้ความเชื่อมันของการทดสอบ $H_0$ ยังคงเป็น 0.95 อยู่  เราจะยังคงได้แนว critical value หรือแนวของการัดสินใจอยู่ที่ตำแหน่ง Tu เช่นเดียวกับก่อนหน้านี้ นั้นคือค่า $\\alpha/2$ ยังคงเท่าเดิมที่ 0.025 เราจะต้องใช้เป็น Two-Tailed Test สำหรับ $H_0$ เนื่องจากจะเป็นค่าตั้งต้นในการศึกษา โดยที่การซุ่มค่าข้อมูลมาทดสอบนี้ก็จะหนดความมีความเชื่อมันว่าจะเกิดในบริเวณที่เชื่อมั่นนี้ 0.95 ตามที่ได้อธิบายไปก่อนหน้านี้ \n",
        "\n",
        "การตัดสินใจปฏิเสธ $H_0$ จะเป็นการตัดสินใจที่ผิดเมื่อ $H_0$ เป็นจริง แต่จะเป็นการตัดสินใจที่ถูกเมื่อ $H_1$ เป็นจริงถูกเรียกว่า Power หรือ Detection Probability นั้นเอง โดยสามารถคำนวณได้จากพื้นที่ใต้กราฟได้ดังนี้\n"
      ],
      "metadata": {
        "id": "hOQeYrB0RirF"
      }
    },
    {
      "cell_type": "code",
      "source": [
        "p = 1 - N1.cdf(Tu)\n",
        "print('Power = %0.2f' %p)"
      ],
      "metadata": {
        "colab": {
          "base_uri": "https://localhost:8080/"
        },
        "id": "RcX2FMtmRiOX",
        "outputId": "79ee028c-6215-4801-8498-e40694ddd60d"
      },
      "execution_count": null,
      "outputs": [
        {
          "output_type": "stream",
          "name": "stdout",
          "text": [
            "Power = 0.52\n"
          ]
        }
      ]
    },
    {
      "cell_type": "code",
      "source": [
        "beta = N1.cdf(Tu)\n",
        "print('Beta = %0.2f' %beta)"
      ],
      "metadata": {
        "colab": {
          "base_uri": "https://localhost:8080/"
        },
        "id": "cEuXgYB_T5ws",
        "outputId": "f963eea9-c72c-48fd-c30e-e1ebf823a64e"
      },
      "execution_count": null,
      "outputs": [
        {
          "output_type": "stream",
          "name": "stdout",
          "text": [
            "Beta = 0.48\n"
          ]
        }
      ]
    },
    {
      "cell_type": "markdown",
      "source": [
        "ปัจจัยที่จะทำให้ค่า power นี้มีค่ามากน้อยแค่ไหนมี 2 ปัจจัยด้วยกันคือค่า critical value ที่เราใช้ในการตัดสินใจ \n",
        "\n",
        "ส่วนอีกกรณีอีกค่าหนึ่งก็คือระยะห่างของการกระจายของ $f_0(x)$ และ $f_1(x)$ อย่างเช่นตัวอย่างด้านล่างนี้เราจะทำให้การกระจายของ $f_0(x)$ และ $f_1(x)$ ห่างขึ้นโดยการเปลี่ยนค่า $\\mu_1$ ไปเป็น 98 "
      ],
      "metadata": {
        "id": "WUdVRcuibni4"
      }
    },
    {
      "cell_type": "code",
      "source": [
        "mu0 = 90\n",
        "mu1 = 98\n",
        "n = 100\n",
        "sd = 20\n",
        "sdz = sd/np.sqrt(n)\n",
        "N0 = norm(mu0,sdz)\n",
        "N1 = norm(mu1,sdz)\n",
        "\n",
        "x = np.arange(83,98 + 8,0.2)\n",
        "y0 = N0.pdf(x)\n",
        "y1 = N1.pdf(x)\n",
        "z_a = norm.ppf(.95)\n",
        "Tu = mu0 + z_a*sdz\n",
        "Tl = mu0 - z_a*sdz\n",
        "plt.rcParams['text.usetex'] = True\n",
        "plt.rcParams[\"font.family\"] = \"Times New Roman\"\n",
        "\n",
        "plt.plot(x,y0,'b')\n",
        "plt.plot(x,y1,'r')\n",
        "\n",
        "\n",
        "plt.title(r'Distribution of Under $H_0: \\mu = 90$ and Under $H_1: \\mu = 98$');\n",
        "plt.plot([Tu,Tu],[-0.02,N0.pdf(Tu)], linestyle='dashed', color = 'k')\n",
        "#plt.axvline(x = Tu,  ymin=0, ymax = 0.5, color = 'k')\n",
        "#plt.plot([Tl,Tl],[0,N1.pdf(Tl)],color = 'k')\n",
        "plt.text(Tu + 0.2, 0.008, r'$\\alpha/2 $', fontsize = 12)\n",
        "plt.text(Tu - 1.5, 0.025, r'$\\beta$', fontsize = 12)\n",
        "plt.text(Tu + 4, 0.075, r'Power', fontsize = 12)\n",
        "plt.text(Tu + 2, -0.025, r'Reject $H_0$', fontsize = 12)\n",
        "plt.text(Tu - 8, -0.025, r'Do not reject $H_0$', fontsize = 12)\n",
        "plt.axhline(y =0, color = 'k')\n",
        "\n",
        "plt.show()"
      ],
      "metadata": {
        "colab": {
          "base_uri": "https://localhost:8080/",
          "height": 448
        },
        "id": "URDR5BkV66YI",
        "outputId": "53dd85fe-bdbb-4ac9-88df-b9ea67f6f938"
      },
      "execution_count": null,
      "outputs": [
        {
          "output_type": "display_data",
          "data": {
            "text/plain": [
              "<Figure size 640x480 with 1 Axes>"
            ],
            "image/png": "[encoded data removed]"
          },
          "metadata": {}
        }
      ]
    },
    {
      "cell_type": "code",
      "source": [
        "p = 1 - N1.cdf(Tu)\n",
        "print('Power = %0.2f' %p)"
      ],
      "metadata": {
        "colab": {
          "base_uri": "https://localhost:8080/"
        },
        "id": "YmHq3C7ZczgR",
        "outputId": "62487ff1-2611-447e-e532-19eaec454ce3"
      },
      "execution_count": null,
      "outputs": [
        {
          "output_type": "stream",
          "name": "stdout",
          "text": [
            "Power = 0.99\n"
          ]
        }
      ]
    },
    {
      "cell_type": "markdown",
      "source": [
        "### Estimating Sample Size for Hypothesis Testing of One Independent Population\n",
        "\n",
        "ดังนั้นจากก่อนหน้านี้ เราสามารถประมาณค่า Sample Size ในกรณีของการทำ Hypothesis Test ได้ดังนี้\n",
        "\n",
        "\\begin{equation}\n",
        "n = \\left( \\frac{z_{1-\\alpha/2} + z_{1-\\beta}} {ES} \\right)^2 \\tag{12}\n",
        "\\end{equation}\n",
        "\n",
        "$ES$ = Effect Size \n",
        "\\begin{equation}\n",
        "ES = \\frac{|\\mu_1 - \\mu_0|}{\\sigma} \\tag{13}\n",
        "\\end{equation}"
      ],
      "metadata": {
        "id": "j95SG7KSjH9V"
      }
    },
    {
      "cell_type": "code",
      "source": [
        "z_1a = norm.ppf(0.975)\n",
        "z_1b = norm.ppf(0.8)\n",
        "print('z_1a = %f, z_1a = %f' %(z_1a, z_1b))\n",
        "\n",
        "ES = np.abs(mu0 - mu1)/sd\n",
        "\n",
        "n = ((z_1a + z_1b)/ES)**2\n",
        "print('Sample Size = %f' %n)"
      ],
      "metadata": {
        "id": "0cq5ztVajHdu",
        "colab": {
          "base_uri": "https://localhost:8080/"
        },
        "outputId": "f2d395d9-7766-402d-c404-5abca94d74ca"
      },
      "execution_count": null,
      "outputs": [
        {
          "output_type": "stream",
          "name": "stdout",
          "text": [
            "z_1a = 1.959964, z_1a = 0.841621\n",
            "Sample Size = 49.055498\n"
          ]
        }
      ]
    },
    {
      "cell_type": "markdown",
      "source": [
        "### Estimating Sample Size for Hypothesis Testing of Two Independent Population\n",
        "\n",
        "ดังนั้นจากก่อนหน้านี้ เราสามารถประมาณค่า Sample Size ในกรณีของการทำ Hypothesis Test ได้ดังนี้\n",
        "\n",
        "\\begin{equation}\n",
        "n = 2\\left( \\frac{z_{1-\\alpha/2} + z_{1-\\beta}} {ES} \\right)^2 \\tag{14}\n",
        "\\end{equation}\n",
        "\n",
        "$ES$ = Effect Size \n",
        "\\begin{equation}\n",
        "ES = \\frac{|\\mu_1 - \\mu_0|}{\\sigma} \\tag{15}\n",
        "\\end{equation}"
      ],
      "metadata": {
        "id": "l8BypnudmUOo"
      }
    },
    {
      "cell_type": "code",
      "source": [
        "z_1a = norm.ppf(1-0.05/2)\n",
        "z_1b = norm.ppf(0.8)\n",
        "print('z_1a = %f, z_1a = %f' %(z_1a, z_1b))\n",
        "ES = 0.2\n",
        "\n",
        "n = 2*((z_1a + z_1b)/ES)**2\n",
        "print('Sample Size = %f' %n)"
      ],
      "metadata": {
        "colab": {
          "base_uri": "https://localhost:8080/"
        },
        "id": "gyNuaLJsnIuA",
        "outputId": "37a3380a-a25a-4159-f58a-159826e54f01"
      },
      "execution_count": null,
      "outputs": [
        {
          "output_type": "stream",
          "name": "stdout",
          "text": [
            "z_1a = 1.959964, z_1a = 0.841621\n",
            "Sample Size = 392.443987\n"
          ]
        }
      ]
    },
    {
      "cell_type": "markdown",
      "metadata": {
        "id": "8joJcizD2ObX"
      },
      "source": [
        "# 4.Power Analysis with Python\n"
      ]
    },
    {
      "cell_type": "markdown",
      "source": [
        "เนื่องจาก Python ได้มีการเตรียมไลบรารี่ที่สามารถทำให้เราคำนวณในเรื่องของ Power Analysis ไว้ซึ่งค่อนข้างที่จะสะดวกเป็นอย่างมากในการศึกษาเรื่องนี้  ทั้งนี้เราจะเอาความรู้ที่ได้มาจาก่อนหน้านี้มาดำเนินการด้วยไลบรารี่นี้ "
      ],
      "metadata": {
        "id": "8X_dgU_ReSmC"
      }
    },
    {
      "cell_type": "markdown",
      "metadata": {
        "id": "pESFWUbO8fMv"
      },
      "source": [
        "## Step 0: ตัวแปรที่เกี่ยวข้อง"
      ]
    },
    {
      "cell_type": "markdown",
      "metadata": {
        "id": "7Di8ZPEsDXL-"
      },
      "source": [
        "Power Analysis นี้ปกติจะใช้เพื่อวิเคราะห์หาจำนวนของ sample size ในการทดสอบ Hypothesis Test โดยจะประกอบด้วย 4 ตัวแปรด้วยกันคือ $\\alpha$, Effect Size, Statistical Power และ Sample Size โดยมีรายละเอียดดังนี้\n",
        "\n",
        "1. $\\alpha$ หรือค่า error type I คือค่าความน่าจะเป็นที่ reject $H_0$  เมื่อ $H_{0}$ เป็นจริง (False Alarm Probability $P_{fa}$)\n",
        "2. Statistical Power คือค่าความน่าจะเป็นในการ Detection $H_1$ หรือ ได้อย่างถูกต้อง (Detection Proability, $P_d$)\n",
        "3. Effect size คือค่าระยะห่างระหว่าง ค่า magnitude ของ distribution ที่ทำการทดสอบ Cohen ได้กำหนดค่า Effect Size ไว้ที่ 3 ระดับด้วยกันคือ 0.2, 0.5 และ 0.8\n",
        "4. $n$ คือ sample size\n",
        "\n",
        "\n",
        "\n"
      ]
    },
    {
      "cell_type": "markdown",
      "metadata": {
        "id": "lOs4VgcWb6Pw"
      },
      "source": [
        "## Step 1: Import Libraries"
      ]
    },
    {
      "cell_type": "markdown",
      "metadata": {
        "id": "LDlcg57Lh611"
      },
      "source": [
        "สำหรับไลบรารี่ที่ใช้ในการดำเนินการเรื่องนี้คือ statsmodels โดยเราจะทำการ import เอา TTestIndPower มาใช้ในการวิเคราะห์เรื่องนี้ \n"
      ]
    },
    {
      "cell_type": "code",
      "metadata": {
        "id": "IFL3LKhuytgG"
      },
      "source": [
        "# Data calculation\n",
        "import numpy as np\n",
        "\n",
        "# Power analysis\n",
        "from statsmodels.stats.power import  TTestIndPower \n",
        "\n",
        "# Visualization\n",
        "import matplotlib.pyplot as plt"
      ],
      "execution_count": null,
      "outputs": []
    },
    {
      "cell_type": "markdown",
      "metadata": {
        "id": "yDkSfY2KeNcI"
      },
      "source": [
        "## Step 2: Calculate Sample Size"
      ]
    },
    {
      "cell_type": "markdown",
      "metadata": {
        "id": "zpooeckfjTpJ"
      },
      "source": [
        "ถัดมาเราจะทำการทดลองหาขนาดของ Sample Size โดยใช้กำหนดค่าที่ใช้ในการคำนวณเป็นดังนี้\n",
        "* $\\alpha = 0.05$\n",
        "* Power = 0.8\n",
        "* ES = 0.2\n",
        "\n",
        "และในการทดสอบนี้เป็นการทดสอบแบบ two-sided hypothesis testing นั้นคือ alternative = 'two-sided'\n",
        "\n",
        "สำหรับ method ที่เราจะใช้คือ solve_power โดย method นี้จะรับค่า ตัวแปรที่เกี่ยวข้อ 4 ตัวคือ effect_size, nobs1, alpha, power โดยมันจะคืนค่ากลับมาให้กับตัวที่ไม่ได้ระบุค่า ดังนั้นในกรณีเราจะละ nobs1 ซึ่งจะเป็นตัวที่กำหนดค่า sample size"
      ]
    },
    {
      "cell_type": "code",
      "metadata": {
        "id": "SZ4n5FIje46g",
        "colab": {
          "base_uri": "https://localhost:8080/"
        },
        "outputId": "f8497978-4e7e-4f3b-deae-16501716f1ab"
      },
      "source": [
        "# Initiate the power analysis\n",
        "power_analysis = TTestIndPower()\n",
        "# Calculate sample size\n",
        "sample_size = power_analysis.solve_power(effect_size = 0.2, alpha = 0.05, power = 0.8, alternative = 'two-sided', ratio = 1);\n",
        "# Print results\n",
        "print('The sample size needed for each group is', round(sample_size))"
      ],
      "execution_count": null,
      "outputs": [
        {
          "output_type": "stream",
          "name": "stdout",
          "text": [
            "The sample size needed for each group is 393\n"
          ]
        }
      ]
    },
    {
      "cell_type": "markdown",
      "metadata": {
        "id": "nzWinxzdSY2W"
      },
      "source": [
        "จะเห็นว่าค่าที่ได้มีค่าตรงกับการคำนวณที่ได้แสดงรายละเอียดก่อนมาก่อนหน้านี้"
      ]
    },
    {
      "cell_type": "markdown",
      "metadata": {
        "id": "Hjx-agj__N0v"
      },
      "source": [
        "## Step 3: Calculate Power"
      ]
    },
    {
      "cell_type": "markdown",
      "metadata": {
        "id": "XereSzz_S1U5"
      },
      "source": [
        "ในขั้นตอนนี้เราจะคำนวณ Power โดยใช้ ข้อมูลก่อนหน้านี้ โดยใช้ฟังก์ชัน power ดังตัวอย่างข้างล่าง นอกจากนั้นเรายังสามารถใช้ solve_power ได้เช่นกัน "
      ]
    },
    {
      "cell_type": "code",
      "metadata": {
        "id": "SiY8rkhY_RTc",
        "colab": {
          "base_uri": "https://localhost:8080/"
        },
        "outputId": "41a9b1a4-595f-4ab9-d522-b392ba0b7484"
      },
      "source": [
        "# Initiate the power analysis\n",
        "power_analysis = TTestIndPower()\n",
        "\n",
        "# Calculate power\n",
        "power = power_analysis.power(effect_size = 0.2, alpha = 0.05, nobs1 = 393, ratio = 1, alternative = 'two-sided')\n",
        "\n",
        "# Print results\n",
        "print('The power for the hypothesis testing is', round(power, 2))"
      ],
      "execution_count": null,
      "outputs": [
        {
          "output_type": "stream",
          "name": "stdout",
          "text": [
            "The power for the hypothesis testing is 0.8\n"
          ]
        }
      ]
    },
    {
      "cell_type": "markdown",
      "metadata": {
        "id": "UwRk1ZKrT0PZ"
      },
      "source": [
        "จะเห็นว่าเราได้ 0.8 เท่ากับที่ได้กำหนดไว้ตอนคำนวณการหาขนาด Sample Size"
      ]
    },
    {
      "cell_type": "markdown",
      "metadata": {
        "id": "q1wm-oIRkoaF"
      },
      "source": [
        "## Step 4: Calculate Effect Size"
      ]
    },
    {
      "cell_type": "markdown",
      "metadata": {
        "id": "h7tfbpdQkuXS"
      },
      "source": [
        "ในการคำนวณค่า Effect Size มีหลายวิธีด้วยกัน โดยวิธีที่นิยมกันมากคือการใช้ค่า d ของ Cohen โดยในเราจะสามารถคำนวณได้ด้วยการคำนวณค่า pooled SD \n",
        "\n",
        "\\begin{equation}\n",
        "s_p = \\sqrt{\\frac{(n_1 -1)s_1^2 + (n_2 -1)s_2^2}{(n_1 + n_2 - 2)}} \n",
        "\\end{equation}\n",
        "\n",
        "และไปเป็นตัวหารความแตกต่างของค่า mean ดังสมการ\n",
        "\n",
        "\\begin{equation}\n",
        "ES = \\frac{|\\mu_1 - \\mu_0|}{s_p} \\tag{16}\n",
        "\\end{equation}\n"
      ]
    },
    {
      "cell_type": "code",
      "metadata": {
        "id": "GEYrKuKgA63j"
      },
      "source": [
        "# Input parameters\n",
        "mu1 = 2.1 # Group 1 average value\n",
        "mu2 = 1.9 # Group 2 average value\n",
        "s1 = 0.6 # Group 1 standard deviation\n",
        "s2 = 0.5 # Group 2 standard deviation\n",
        "n1 = 400 # Group 1 sample size\n",
        "n2 = 400 # Group 2 sample size\n",
        "\n",
        "# Calculate the pooled standard deviation\n",
        "s = np.sqrt(((n1 - 1) * s1 + (n2 - 1) * s2) / (n1 + n2 - 2))\n",
        "\n",
        "# Calculate the Cohen's d effect size\n",
        "d = (mu1 - mu2) / s\n",
        "\n",
        "# Print results\n",
        "print('The effect size for the hypothesis testing is', round(d, 2))"
      ],
      "execution_count": null,
      "outputs": []
    },
    {
      "cell_type": "markdown",
      "metadata": {
        "id": "APRyyAWvYSIi"
      },
      "source": []
    },
    {
      "cell_type": "markdown",
      "metadata": {
        "id": "DjihnX25GN-N"
      },
      "source": [
        "## Step 5: Calculate Significance Level"
      ]
    },
    {
      "cell_type": "markdown",
      "metadata": {
        "id": "cJGWkZNFYnP0"
      },
      "source": [
        "การคำนวณ Significane Level หรือค่า alpha ก็สามารถทำได้ด้วยฟังก์ชัน solve_power เช่นกันดังนี้"
      ]
    },
    {
      "cell_type": "code",
      "metadata": {
        "id": "u_QIdcJDGzZX",
        "colab": {
          "base_uri": "https://localhost:8080/"
        },
        "outputId": "8e4a454d-a089-46d8-f13a-d0a663e7de16"
      },
      "source": [
        "# Initiate the power analysis\n",
        "power_analysis = TTestIndPower()\n",
        "\n",
        "# Calculate power\n",
        "alpha = power_analysis.solve_power(effect_size = 0.2, power = 0.8, nobs1 = 393, ratio = 1, alternative = 'two-sided')\n",
        "\n",
        "# Print results\n",
        "print('The significance level for the hypothesis testing is', round(alpha, 2))"
      ],
      "execution_count": null,
      "outputs": [
        {
          "output_type": "stream",
          "name": "stdout",
          "text": [
            "The significance level for the hypothesis testing is 0.05\n"
          ]
        }
      ]
    },
    {
      "cell_type": "markdown",
      "metadata": {
        "id": "bjBICCdCYz88"
      },
      "source": []
    },
    {
      "cell_type": "markdown",
      "metadata": {
        "id": "MeoY1pwqFb7m"
      },
      "source": [
        "## Step 6: Sample Size Vs Statistical Power"
      ]
    },
    {
      "cell_type": "markdown",
      "metadata": {
        "id": "rE6BYlbzZptn"
      },
      "source": [
        "ในส่วนนี้เราจะแสดงให้เห็นถึงความสัมพันธ์ของขนาด sample ที่ส่งผลต่อการค่า Power"
      ]
    },
    {
      "cell_type": "markdown",
      "metadata": {
        "id": "ZZSVhGWQ2UEU"
      },
      "source": [
        "เราสามารถทดสอบเรื่องนี้ด้วยการใช้ฟังก์ชันที่ได้มีการเตรียมไว้แล้วในไลบรารี่นี้ ทำให้เขียนโปรแกรมทดสอบได้ง่ายดังมีแปรตัวที่เกี่ยวข้องดังนี้  \n",
        "\n",
        "* `dep_var` specifies the measure for the x-axis. \n",
        " `dep_var='nobs'` means that we are using sample size as x-axis and power as the y axis. \n",
        "\n",
        "* `nobs` is the value of sample size. We used the value of 5 to 800 to plot the graph.\n",
        "\n",
        "* `effect_size` is the effect size value for the power analysis. We used the widely used Cohen's d value for small, medium, and large effect sizes. Each  `effect_size` has one curve on the graph.\n",
        "\n",
        "* `alpha` is the significance level. We used 0.05 for this plot."
      ]
    },
    {
      "cell_type": "code",
      "metadata": {
        "id": "KOfQDgo508t7",
        "colab": {
          "base_uri": "https://localhost:8080/",
          "height": 466
        },
        "outputId": "b6c6de03-9695-47f0-d286-08dd5f6b15e0"
      },
      "source": [
        "# Initiate the power analysis\n",
        "power_analysis = TTestIndPower()\n",
        "\n",
        "# Visualization\n",
        "power_analysis.plot_power(dep_var='nobs',\n",
        "                          nobs=np.arange(5, 800),\n",
        "                          effect_size=np.array([0.2, 0.5, 0.8]),\n",
        "                          alpha=0.05,\n",
        "                          title='Sample Size vs. Statistical Power')\n",
        "plt.ylabel('Power')\n",
        "plt.show()"
      ],
      "execution_count": null,
      "outputs": [
        {
          "output_type": "display_data",
          "data": {
            "text/plain": [
              "<Figure size 640x480 with 1 Axes>"
            ],
            "image/png": "[encoded data removed]"
          },
          "metadata": {}
        }
      ]
    },
    {
      "cell_type": "markdown",
      "metadata": {
        "id": "u2EkN9Nq9os1"
      },
      "source": [
        "From the graph, we can see that \n",
        "* Statistical power increases with the sample size. \n",
        "* To achieve the same statistical power, we need more samples to detect a smaller effect size."
      ]
    },
    {
      "cell_type": "markdown",
      "metadata": {
        "id": "QAeBZ1TY-Uqg"
      },
      "source": [
        "## Step 7: Effect Size Vs Statistical Power"
      ]
    },
    {
      "cell_type": "markdown",
      "metadata": {
        "id": "mMSElwzgBaAg"
      },
      "source": [
        "In step 7, we will examine how statistical power changes with effect size.\n",
        "\n",
        "The `'effect_size'` is used as x-axis. We plot the curves for three sample sizes, 50, 100, and 500. "
      ]
    },
    {
      "cell_type": "code",
      "metadata": {
        "id": "lQUsHwtcAzOW",
        "colab": {
          "base_uri": "https://localhost:8080/",
          "height": 466
        },
        "outputId": "047e8a89-cb62-4cb0-9e30-3ce4220eba7b"
      },
      "source": [
        "# Initiate the power analysis\n",
        "power_analysis = TTestIndPower()\n",
        "\n",
        "# Visualization\n",
        "power_analysis.plot_power(dep_var='effect_size',\n",
        "                          nobs=np.array([50, 100, 500]),\n",
        "                          effect_size=np.arange(0.01, 0.9, 0.02),\n",
        "                          alpha=0.05,\n",
        "                          title='Effect Size vs. Statistical Power')\n",
        "plt.ylabel('Power')\n",
        "plt.show()"
      ],
      "execution_count": null,
      "outputs": [
        {
          "output_type": "display_data",
          "data": {
            "text/plain": [
              "<Figure size 640x480 with 1 Axes>"
            ],
            "image/png": "[encoded data removed]"
          },
          "metadata": {}
        }
      ]
    },
    {
      "cell_type": "markdown",
      "metadata": {
        "id": "7xrZLsuTCekQ"
      },
      "source": [
        "โดยจากกราฟเราจะเห็นว่า \n",
        "* Power เพิ่มเมื่อค่า effect size เพิ่ม\n",
        "* เมื่อ effect size มีค่าต่ำ จะต้องการ sample size ที่มีขนาดใหญ่ขึ้นเพื่อจะให้ได้ค่า power ที่ดี  \n"
      ]
    },
    {
      "cell_type": "markdown",
      "metadata": {
        "id": "a6QcdsusL5Q9"
      },
      "source": [
        "# สรุป"
      ]
    },
    {
      "cell_type": "markdown",
      "metadata": {
        "id": "VsSUNZfqMTVP"
      },
      "source": [
        "ในเอกสารนี้ เราได้เห็นผลการวิเคราะห์ค่า Power Analysis สำหรับการทดสอบ Hypothesis Test โดยเราเห็นตั้งแต่ที่มาของ ทฤษฏีต่างๆ ที่เกี่ยวของกับการวิเคราะห์เรื่องนี้ ซึ่งจะเกี่ยวข้องโดยตรงกับการวิเคราะห์ขนาด sample size และเราสามารถใช้ library ทางด้านสติถิมาช่วยในการวิเคราะห์ให้รวดเร็วยิ่งขึ้นได้ "
      ]
    },
    {
      "cell_type": "code",
      "source": [],
      "metadata": {
        "id": "UkrMF69bOcvw"
      },
      "execution_count": null,
      "outputs": []
    },
    {
      "cell_type": "markdown",
      "source": [
        "## Credit\n",
        "\n",
        "1. ศึกษาทฤษฏีที่เกี่ยวข้องได้ที่ https://sphweb.bumc.bu.edu/otlt/mph-modules/bs/bs704_power/bs704_power_print.html\n",
        "2. เอกสารนี้พัฒนาต่อมาจาก https://pub.towardsai.net/power-analysis-for-sample-size-using-python-33da7d5f570d\n",
        "3. เวบสติถิทางแพทย์ https://sphweb.bumc.bu.edu/otlt/MPH-Modules/Menu/\n"
      ],
      "metadata": {
        "id": "ZOOkbLIaOdJu"
      }
    },
    {
      "cell_type": "markdown",
      "metadata": {
        "id": "pWxkD1mINHwe"
      },
      "source": [
        "## Recommended Tutorials"
      ]
    },
    {
      "cell_type": "markdown",
      "metadata": {
        "id": "xf6f2gHSNN94"
      },
      "source": [
        "- [GrabNGoInfo Machine Learning Tutorials Inventory](https://medium.com/grabngoinfo/grabngoinfo-machine-learning-tutorials-inventory-9b9d78ebdd67)\n",
        "- [Hierarchical Topic Model for Airbnb Reviews](https://medium.com/p/hierarchical-topic-model-for-airbnb-reviews-f772eaa30434)\n",
        "- [3 Ways for Multiple Time Series Forecasting Using Prophet in Python](https://medium.com/p/3-ways-for-multiple-time-series-forecasting-using-prophet-in-python-7a0709a117f9)\n",
        "- [Time Series Anomaly Detection Using Prophet in Python](https://medium.com/grabngoinfo/time-series-anomaly-detection-using-prophet-in-python-877d2b7b14b4)\n",
        "- [Time Series Causal Impact Analysis in Python](https://medium.com/grabngoinfo/time-series-causal-impact-analysis-in-python-63eacb1df5cc)\n",
        "- [Hyperparameter Tuning For XGBoost](https://medium.com/p/hyperparameter-tuning-for-xgboost-91449869c57e)\n",
        "- [Four Oversampling And Under-Sampling Methods For Imbalanced Classification Using Python](https://medium.com/p/four-oversampling-and-under-sampling-methods-for-imbalanced-classification-using-python-7304aedf9037)\n",
        "- [Five Ways To Create Tables In Databricks](https://medium.com/grabngoinfo/five-ways-to-create-tables-in-databricks-cd3847cfc3aa)\n",
        "- [Explainable S-Learner Uplift Model Using Python Package CausalML](https://medium.com/grabngoinfo/explainable-s-learner-uplift-model-using-python-package-causalml-a3c2bed3497c)\n",
        "- [One-Class SVM For Anomaly Detection](https://medium.com/p/one-class-svm-for-anomaly-detection-6c97fdd6d8af)\n",
        "- [Recommendation System: Item-Based Collaborative Filtering](https://medium.com/grabngoinfo/recommendation-system-item-based-collaborative-filtering-f5078504996a)\n",
        "- [Hyperparameter Tuning for Time Series Causal Impact Analysis in Python](https://medium.com/grabngoinfo/hyperparameter-tuning-for-time-series-causal-impact-analysis-in-python-c8f7246c4d22)\n",
        "- [Hyperparameter Tuning and Regularization for Time Series Model Using Prophet in Python](https://medium.com/grabngoinfo/hyperparameter-tuning-and-regularization-for-time-series-model-using-prophet-in-python-9791370a07dc)\n",
        "- [Multivariate Time Series Forecasting with Seasonality and Holiday Effect Using Prophet in Python](https://medium.com/p/multivariate-time-series-forecasting-with-seasonality-and-holiday-effect-using-prophet-in-python-d5d4150eeb57)\n",
        "- [LASSO (L1) Vs Ridge (L2) Vs Elastic Net Regularization For Classification Model](https://medium.com/towards-artificial-intelligence/lasso-l1-vs-ridge-l2-vs-elastic-net-regularization-for-classification-model-409c3d86f6e9)\n",
        "- [S Learner Uplift Model for Individual Treatment Effect and Customer Segmentation in Python](https://medium.com/grabngoinfo/s-learner-uplift-model-for-individual-treatment-effect-and-customer-segmentation-in-python-9d410746e122)\n",
        "- [How to Use R with Google Colab Notebook](https://medium.com/p/how-to-use-r-with-google-colab-notebook-610c3a2f0eab)"
      ]
    },
    {
      "cell_type": "markdown",
      "metadata": {
        "id": "td4JImfedR2W"
      },
      "source": [
        "## References"
      ]
    },
    {
      "cell_type": "markdown",
      "metadata": {
        "id": "Ewjmy7S1dUxW"
      },
      "source": [
        "* [statsmodels documentation on power analysis](https://www.statsmodels.org/dev/generated/statsmodels.stats.power.TTestIndPower.html)"
      ]
    }
  ]
}