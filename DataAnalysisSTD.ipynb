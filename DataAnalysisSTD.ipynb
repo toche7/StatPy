{
  "nbformat": 4,
  "nbformat_minor": 0,
  "metadata": {
    "colab": {
      "provenance": [],
      "authorship_tag": "ABX9TyMR9axLt5eYM/4aNx8+7T+B",
      "include_colab_link": true
    },
    "kernelspec": {
      "name": "python3",
      "display_name": "Python 3"
    },
    "language_info": {
      "name": "python"
    }
  },
  "cells": [
    {
      "cell_type": "markdown",
      "metadata": {
        "id": "view-in-github",
        "colab_type": "text"
      },
      "source": [
        "<a href=\"https://colab.research.google.com/github/toche7/StatPy/blob/main/DataAnalysisSTD.ipynb\" target=\"_parent\"><img src=\"https://colab.research.google.com/assets/colab-badge.svg\" alt=\"Open In Colab\"/></a>"
      ]
    },
    {
      "cell_type": "markdown",
      "source": [
        "# Data Analysis"
      ],
      "metadata": {
        "id": "Eyv9zgDUpKTa"
      }
    },
    {
      "cell_type": "markdown",
      "source": [
        "## 1. Introduction"
      ],
      "metadata": {
        "id": "VTIraHcnpO7M"
      }
    },
    {
      "cell_type": "markdown",
      "source": [
        "**การวิเคราะห์ข้อมูล (Data Analysis)**   คือกระบวนการในการตรวจสอบ ทำความสะอาด แปลงข้อมูล และสร้างแบบจำลองข้อมูลโดยมีเป้าหมายเพื่อสรุปข้อมูล ทำนาย หรือทำความเข้าใจรูปแบบและแนวโน้มในข้อมูล กระบวนการนี้มีความสำคัญในหลายสาขา เช่น ธุรกิจ วิทยาศาสตร์ เทคโนโลยี และการวิจัย เพื่อช่วยในการตัดสินใจ วางแผน และแก้ปัญหา"
      ],
      "metadata": {
        "id": "LPzXz9HspzS5"
      }
    },
    {
      "cell_type": "markdown",
      "source": [
        "**ประเภทของการวิเคราะห์ข้อมูล**\n",
        "- การวิเคราะห์เชิงพรรณนา (Descriptive Analysis): มุ่งเน้นการสรุปและอธิบายข้อมูล เช่น การหาค่าเฉลี่ย ค่ามัธยฐาน การกระจายข้อมูล เพื่อให้เข้าใจภาพรวมของข้อมูลเบื้องต้น\n",
        "- การวิเคราะห์เชิงสาเหตุ (Diagnostic Analysis): มุ่งเน้นการค้นหาสาเหตุของเหตุการณ์หรือผลลัพธ์บางอย่าง เช่น การวิเคราะห์ปัจจัยที่ส่งผลต่อการลดลงของยอดขาย\n",
        "- การวิเคราะห์เชิงพยากรณ์ (Predictive Analysis): ใช้ข้อมูลในอดีตในการทำนายแนวโน้มและเหตุการณ์ในอนาคต โดยใช้เทคนิคการสร้างแบบจำลองทางสถิติและการเรียนรู้ของเครื่อง (Machine Learning)\n",
        "- การวิเคราะห์เชิงสั่งการ (Prescriptive Analysis): เป็นการให้คำแนะนำหรือการตัดสินใจเชิงปฏิบัติจากข้อมูล เช่น การแนะนำกลยุทธ์ที่ดีที่สุดในการเพิ่มกำไรหรือการแก้ปัญหาที่เกิดขึ้น\n",
        "เครื่องมือที่ใช้ในกระบวนการวิเคราะห์ข้อมูล\n",
        "\n",
        "เครื่องมือที่นิยมใช้สำหรับการวิเคราะห์ข้อมูล ได้แก่:\n",
        "\n",
        "- ซอฟต์แวร์สถิติ เช่น SPSS, SAS\n",
        "- ซอฟต์แวร์การเขียนโปรแกรม เช่น Python, R\n",
        "- เครื่องมือแสดงผลข้อมูล เช่น Tableau, Power BI\n",
        "- ฐานข้อมูล เช่น SQL, NoSQL\n",
        "\n",
        "การวิเคราะห์ข้อมูลมีบทบาทสำคัญในการช่วยให้องค์กรและนักวิจัยสามารถตัดสินใจได้อย่างมีประสิทธิภาพโดยอ้างอิงจากข้อมูล"
      ],
      "metadata": {
        "id": "bKHgq8jyqEed"
      }
    },
    {
      "cell_type": "markdown",
      "source": [],
      "metadata": {
        "id": "5-wV9w-jqEZ-"
      }
    },
    {
      "cell_type": "markdown",
      "source": [],
      "metadata": {
        "id": "5uy2eGPUqEWt"
      }
    },
    {
      "cell_type": "markdown",
      "source": [
        "## 2. Descriptive Analysis"
      ],
      "metadata": {
        "id": "_x28FSeApO2g"
      }
    },
    {
      "cell_type": "markdown",
      "source": [
        "**Describing and Presenting Data**\n",
        "- หลักสำคัญในการนำเสนอข้อม ได้แก่ ความถูกต้อง, ความกระชับ และความเข้าใจง่าย\n",
        "- นักวิจัยควรนำเสนอข้อมูลในลักษณะที่สามารถสะท้อนความถูกต้องของข้อมูลได้มากที่สุด\n",
        "- ข้อมูลเชิงตัวเลขสามารถแบ่งออกเป็นข้อมูลเชิงตัวเลข (เช่น เปอร์เซ็นต์, ค่าเฉลี่ย) หรือเชิงกราฟิก (ใช้วิธีการกราฟ)"
      ],
      "metadata": {
        "id": "UIDHmYUSqXld"
      }
    },
    {
      "cell_type": "markdown",
      "source": [
        "### Measures of Central Tendency\n"
      ],
      "metadata": {
        "id": "w5no0lFnqgBg"
      }
    },
    {
      "cell_type": "markdown",
      "source": [
        "- ค่าเฉลี่ย (Mean) — ค่าเฉลี่ยทั่วไปและเป็นตัวชี้วัดของแนวโน้มเข้าสู่ศูนย์กลางที่พบบ่อยและมีประโยชน์มากที่สุด แต่อาจได้รับผลกระทบจากค่าที่สุดโต่ง (outliers)\n",
        "\n",
        "- ค่ามัธยฐาน (Median) — ค่ากลางของการแจกแจงข้อมูล ซึ่งได้รับผลกระทบน้อยกว่าจากค่าที่สุดโต่ง\n",
        "\n",
        "- ฐานนิยม (Mode) — ค่าที่พบมากที่สุดในชุดข้อมูล"
      ],
      "metadata": {
        "id": "QP88ZD-Sqm8f"
      }
    },
    {
      "cell_type": "markdown",
      "source": [
        "### Measures of Variability"
      ],
      "metadata": {
        "id": "S3fRRhVCqsiK"
      }
    },
    {
      "cell_type": "markdown",
      "source": [
        "- การวัดการกระจายตัว (Measures of Variability) — สถิติเชิงพรรณนาที่แสดงข้อมูลเกี่ยวกับการกระจายหรือความแปรปรวนของชุดข้อมูล\n",
        "\n",
        "- **ความแปรปรวน (Variance)** — ค่าดัชนีเชิงตัวเลขที่แสดงความแปรปรวนในชุดข้อมูล\n",
        "\n",
        "- **ส่วนเบี่ยงเบนมาตรฐาน (Standard Deviation)** — ค่าที่แสดงความแปรปรวนโดยมีค่าเท่ากับรากที่สองของความแปรปรวน\n",
        "\n",
        "- **พิสัย (Range)** — ค่าต่างระหว่างคะแนนที่สูงที่สุดและต่ำที่สุดในชุดข้อมูล"
      ],
      "metadata": {
        "id": "OK70viIpqtZd"
      }
    },
    {
      "cell_type": "markdown",
      "source": [
        "### Statistical graphs of data"
      ],
      "metadata": {
        "id": "I1NIi89aq3aD"
      }
    },
    {
      "cell_type": "markdown",
      "source": [
        "\n",
        "> A picture is worth a thousand words!\n",
        "\n",
        "\n",
        "**Graphs for numerical data**:\n",
        "1. Histograms\n",
        "2. Frequency polygons\n",
        "\n",
        "**Graphs for categorical data**\n",
        "1. Bar graphs\n",
        "2. Pie\n"
      ],
      "metadata": {
        "id": "6UBtd6L6q6jJ"
      }
    },
    {
      "cell_type": "code",
      "source": [],
      "metadata": {
        "id": "dPBqjtbtq_PZ"
      },
      "execution_count": null,
      "outputs": []
    },
    {
      "cell_type": "code",
      "source": [],
      "metadata": {
        "id": "Y4UvtND9q_5V"
      },
      "execution_count": null,
      "outputs": []
    },
    {
      "cell_type": "markdown",
      "source": [
        "## 3. Hypothesis Test"
      ],
      "metadata": {
        "id": "RIsugeDDpOyj"
      }
    },
    {
      "cell_type": "markdown",
      "source": [
        "การทดสอบสมมติฐานคือกระบวนการทางสถิติที่ใช้ในการตรวจสอบข้อสมมติที่เกี่ยวกับประชากร โดยพิจารณาจากตัวอย่างข้อมูล กระบวนการนี้ใช้เพื่อดูว่าข้อสมมติที่ตั้งไว้มีความเป็นไปได้หรือไม่เมื่อเปรียบเทียบกับข้อมูลที่สังเกตได้"
      ],
      "metadata": {
        "id": "bAfun5m-rF4V"
      }
    },
    {
      "cell_type": "markdown",
      "source": [
        "#### ขั้นตอนหลักในการทดสอบสมมติฐาน\n",
        "1. **ตั้งสมมติฐานศูนย์ (Null Hypothesis, $H_0$)**: เป็นข้อสมมติที่เราต้องการทดสอบ ซึ่งมักจะระบุว่าไม่มีความสัมพันธ์หรือความแตกต่างระหว่างตัวแปร เช่น สมมติว่าค่าเฉลี่ยของกลุ่มสองกลุ่มเท่ากัน\n",
        "\n",
        "2. **ตั้งสมมติฐานทางเลือก (Alternative Hypothesis, $H_a$)**: เป็นข้อสมมติที่ตรงข้ามกับสมมติฐานศูนย์ โดยมักจะระบุว่ามีความสัมพันธ์หรือความแตกต่างระหว่างตัวแปร เช่น ค่าเฉลี่ยของกลุ่มหนึ่งสูงกว่าหรือต่ำกว่ากลุ่มอื่น\n",
        "\n",
        "3. **กำหนดระดับนัยสำคัญ (Significance Level, $\\alpha$)**: มักตั้งไว้ที่ 0.05 หรือ 0.01 ซึ่งเป็นค่าความน่าจะเป็นที่เรายอมรับได้ในการปฏิเสธสมมติฐานศูนย์อย่างผิดพลาด (Type I error)\n",
        "\n",
        "4. **คำนวณค่าทดสอบ (Test Statistic)**: คำนวณค่าทางสถิติ เช่น ค่า $t$, ค่า $z$, หรือค่า $\\chi^2$ ขึ้นอยู่กับประเภทของการทดสอบและการแจกแจงข้อมูล\n",
        "\n",
        "5. **หาค่าความน่าจะเป็น (p-value)**: คำนวณค่า $p$ เพื่อตรวจสอบว่าผลลัพธ์ที่ได้มีโอกาสเกิดขึ้นได้มากน้อยเพียงใดภายใต้สมมติฐานศูนย์\n",
        "\n",
        "6. **ตัดสินใจ (Decision)**: หากค่า $p$ ต่ำกว่าระดับนัยสำคัญ $\\alpha$ ให้ปฏิเสธสมมติฐานศูนย์ แต่หาก $p$ มากกว่าหรือเท่ากับ $\\alpha $ ให้ยอมรับสมมติฐานศูนย์\n",
        "\n",
        "#### ประเภทของการทดสอบสมมติฐาน\n",
        "- **ทดสอบค่าเฉลี่ย (t-test, z-test)**: ใช้เพื่อทดสอบค่าเฉลี่ยของประชากรหรือค่าเฉลี่ยระหว่างกลุ่ม\n",
        "- **การทดสอบความสัมพันธ์ (Correlation Test)**: ตรวจสอบว่ามีความสัมพันธ์ระหว่างตัวแปรสองตัวหรือไม่\n",
        "- **การวิเคราะห์ความแปรปรวน (ANOVA)**: ใช้เพื่อทดสอบว่าค่าเฉลี่ยของกลุ่มหลายกลุ่มแตกต่างกันหรือไม่\n",
        "- **การทดสอบไคสแควร์ (Chi-square Test)**: ใช้เพื่อทดสอบความเป็นอิสระระหว่างตัวแปรสองตัวที่เป็นเชิงหมวดหมู่\n",
        "\n",
        "การทดสอบสมมติฐานเป็นขั้นตอนสำคัญในการวิจัยและการวิเคราะห์ข้อมูล ซึ่งช่วยให้เราสามารถสรุปผลได้โดยมีพื้นฐานทางสถิติรองรับ"
      ],
      "metadata": {
        "id": "DN-r78wOrL8Q"
      }
    },
    {
      "cell_type": "markdown",
      "source": [
        "**Example 1**\n",
        "\n",
        "จากการสำรวจข้อมูลความสูงของคน Gen X พบว่ามีค่าความสูงอยู่ที่ 160 cm และมีค่า SD (σ=4) ทำการสำรวจคน Gen Y มา 16 คน ได้ค่าความสูงดังเฉลี่ยเป็น 164 จงใช้วิธีการทดสอบทางสมมติฐานเพื่อบอกว่าคน Gen X และคน Gen Y ที่ได้ทำการทดสอบนี้มีความสูงเท่ากันหรือไม่ โดยสมมติให้ SD ความของคน Gen X เท่ากับ Gen Y"
      ],
      "metadata": {
        "id": "TdyaB8BErU7p"
      }
    },
    {
      "cell_type": "code",
      "source": [],
      "metadata": {
        "id": "CHY6Yl7UrUbj"
      },
      "execution_count": null,
      "outputs": []
    },
    {
      "cell_type": "markdown",
      "source": [
        "## 4. Correlation Analysis"
      ],
      "metadata": {
        "id": "keXe4MpWph5Y"
      }
    },
    {
      "cell_type": "markdown",
      "source": [
        "**ความสัมพันธ์ (Correlation)** คือการวัดระดับของการเกี่ยวข้องกันของตัวแปรต่าง ๆ ซึ่งช่วยให้ผู้วิจัยด้านธุรกิจสามารถวิเคราะห์ได้ว่าตัวแปรสองตัวมีความสัมพันธ์กันอย่างไร ตัวอย่างเช่น นักวิจัยสามารถใช้การวิเคราะห์ความสัมพันธ์เพื่อตรวจสอบว่าราคาหุ้นของสายการบินสองแห่งมีแนวโน้มเพิ่มขึ้นหรือลดลงในลักษณะที่สอดคล้องกันหรือไม่\n"
      ],
      "metadata": {
        "id": "lwxO69g6rbrY"
      }
    },
    {
      "cell_type": "markdown",
      "source": [
        "Pearson Product-Moment Correlation Coefficient\n",
        "\n",
        "$r = \\frac{\\sum_{i=1}^{n}(x_i - \\bar{x})(y_i - \\bar{y})}{\\sqrt{\\sum_{i=1}^{n}(x_i - \\bar{x})^2 \\sum_{i=1}^{n}(y_i - \\bar{y})^2}} \\tag{1}$\n",
        "\n",
        "where $-1 \\le r \\le 1$"
      ],
      "metadata": {
        "id": "H9clVVZcresS"
      }
    },
    {
      "cell_type": "markdown",
      "source": [
        "\n",
        "| $|r|$      | Correlation                 |\n",
        "|:-----------|:----------------------------|\n",
        "| 0.80 - 1   | Very strong correlation     |\n",
        "| 0.60 - 0.8 | Strong correlation          |\n",
        "| 0.40 - 0.6 | Moderate correlation        |\n",
        "| 0.20 - 0.4 | Weak correlation            |\n",
        "| 0.00 - 0.2 | Very weak or no correlation |\n",
        "\n",
        "\n",
        "\n"
      ],
      "metadata": {
        "id": "I-ofpSuYrgXl"
      }
    },
    {
      "cell_type": "markdown",
      "source": [],
      "metadata": {
        "id": "HvZD2Bpsri7r"
      }
    },
    {
      "cell_type": "code",
      "source": [],
      "metadata": {
        "id": "YLuSblaurmVp"
      },
      "execution_count": null,
      "outputs": []
    },
    {
      "cell_type": "code",
      "source": [],
      "metadata": {
        "id": "YDl5zjpbrmHJ"
      },
      "execution_count": null,
      "outputs": []
    },
    {
      "cell_type": "markdown",
      "source": [
        "## 5. Regression Analysis"
      ],
      "metadata": {
        "id": "vter39pvpaPu"
      }
    },
    {
      "cell_type": "markdown",
      "source": [
        "**การวิเคราะห์การถดถอย (Regression Analysis)**\n",
        "\n",
        "คือวิธีทางสถิติที่ใช้เพื่อศึกษาความสัมพันธ์ระหว่างตัวแปรต้น (Independent Variable) กับตัวแปรตาม (Dependent Variable) โดยเฉพาะอย่างยิ่งในกรณีที่เราต้องการทำนายค่าในอนาคตหรือวิเคราะห์ปัจจัยที่มีผลกระทบต่อตัวแปรตาม\n",
        "\n",
        "ในภาพรวม การวิเคราะห์การถดถอยมักใช้เพื่อ:\n",
        "\n",
        "- ทำนายค่า – ใช้ตัวแปรต้นในการพยากรณ์หรือคาดการณ์ค่าของตัวแปรตาม\n",
        "- หาความสัมพันธ์ – ศึกษาความสัมพันธ์เชิงสาเหตุระหว่างตัวแปรต้นและตัวแปรตาม เพื่อดูว่าตัวแปรใดมีผลอย่างมีนัยสำคัญต่อการเปลี่ยนแปลงของตัวแปรตาม\n",
        "- ประมาณค่าของผลกระทบ – ดูว่าตัวแปรต้นแต่ละตัวส่งผลต่อตัวแปรตามมากน้อยเพียงใด"
      ],
      "metadata": {
        "id": "hXIVfYsBrsHC"
      }
    },
    {
      "cell_type": "code",
      "source": [],
      "metadata": {
        "id": "4xuybnKprsvb"
      },
      "execution_count": null,
      "outputs": []
    },
    {
      "cell_type": "markdown",
      "source": [
        "The equation of a simple regression line is given by:\n",
        "\n",
        "$\n",
        "\\hat{Y} = b_0 + b_1 X \\tag{2}\n",
        "$\n",
        "\n",
        "where:\n",
        "- $ \\hat{Y} $ is the predicted (dependent) variable.\n",
        "- $ X $ is the independent variable.\n",
        "- $ b_0 $ is the intercept, representing the expected value of $ Y $ when $ X = 0 $.\n",
        "- $ b_1 $ is the slope coefficient, indicating the change in $ Y $ for a one-unit increase in $ X $.\n"
      ],
      "metadata": {
        "id": "X3XPAjiPrv7u"
      }
    },
    {
      "cell_type": "code",
      "source": [],
      "metadata": {
        "id": "b2PFI1RYr0SO"
      },
      "execution_count": null,
      "outputs": []
    },
    {
      "cell_type": "markdown",
      "source": [
        "#### Least Squares Analysis"
      ],
      "metadata": {
        "id": "t3SxYFIir3aW"
      }
    },
    {
      "cell_type": "markdown",
      "source": [
        "\n",
        "**Least Squares Analysis** is a statistical method used to develop a regression model by minimizing the sum of the squared differences between the observed values and the values predicted by the model. This approach ensures that the line of best fit, which represents the regression model, is as close as possible to all observed data points."
      ],
      "metadata": {
        "id": "i9JsiGRWr6vL"
      }
    },
    {
      "cell_type": "markdown",
      "source": [
        "The value of $b_1$, the slope of the regression line in the Least Squares Analysis, is calculated using the formula:\n",
        "\n",
        "$\n",
        "b_1 = \\frac{\\sum_{i=1}^{n} (X_i - \\bar{X})(Y_i - \\bar{Y})}{\\sum_{i=1}^{n} (X_i - \\bar{X})^2} \\tag{3}\n",
        "$\n"
      ],
      "metadata": {
        "id": "dUuG3la8r9iP"
      }
    },
    {
      "cell_type": "markdown",
      "source": [
        "The value of $b_0$, the intercept of the regression line in the Least Squares Analysis, is calculated using the formula:\n",
        "\n",
        "$b_0 = \\bar{Y} - b_1 \\bar{X} \\tag{4}$"
      ],
      "metadata": {
        "id": "lvCr9LIzr-iO"
      }
    },
    {
      "cell_type": "code",
      "source": [],
      "metadata": {
        "id": "fXj6ONLir4-f"
      },
      "execution_count": null,
      "outputs": []
    }
  ]
}