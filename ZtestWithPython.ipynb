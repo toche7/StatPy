{
  "nbformat": 4,
  "nbformat_minor": 0,
  "metadata": {
    "colab": {
      "provenance": [],
      "authorship_tag": "ABX9TyMQlujEn830seQZVAl86328",
      "include_colab_link": true
    },
    "kernelspec": {
      "name": "python3",
      "display_name": "Python 3"
    },
    "language_info": {
      "name": "python"
    }
  },
  "cells": [
    {
      "cell_type": "markdown",
      "metadata": {
        "id": "view-in-github",
        "colab_type": "text"
      },
      "source": [
        "<a href=\"https://colab.research.google.com/github/toche7/StatPy/blob/main/ZtestWithPython.ipynb\" target=\"_parent\"><img src=\"https://colab.research.google.com/assets/colab-badge.svg\" alt=\"Open In Colab\"/></a>"
      ]
    },
    {
      "cell_type": "markdown",
      "source": [
        "Hypothesis Test"
      ],
      "metadata": {
        "id": "ojaOOB_722W3"
      }
    },
    {
      "cell_type": "markdown",
      "source": [
        "จากการสำรวจข้อมูลความสูงของคน Gen X พบว่ามีค่าความสูงอยู่ที่ 160 cm และมีค่า SD (σ=4) ทำการสำรวจคน Gen Y มา 16 คน ได้ค่าความสูงดังเฉลี่ยเป็น 164 จงใช้วิธีการทดสอบทางสมมติฐานเพื่อบอกว่าคน Gen X และคน Gen Y ที่ได้ทำการทดสอบนี้มีความสูงเท่ากันหรือไม่ โดยสมมติให้ SD ความของคน Gen X เท่ากับ Gen Y"
      ],
      "metadata": {
        "id": "jgqbQK9g2v7U"
      }
    },
    {
      "cell_type": "code",
      "execution_count": null,
      "metadata": {
        "colab": {
          "base_uri": "https://localhost:8080/"
        },
        "id": "oebOcIZs2py6",
        "outputId": "15eb0b89-e903-4c57-f544-fbdf2cdfa0a7"
      },
      "outputs": [
        {
          "output_type": "stream",
          "name": "stdout",
          "text": [
            "p-value: 0.0\n",
            "Reject the null hypothesis. There is a statistically significant difference in height between Gen X and Gen Y.\n"
          ]
        },
        {
          "output_type": "stream",
          "name": "stderr",
          "text": [
            "/usr/local/lib/python3.10/dist-packages/statsmodels/stats/weightstats.py:748: RuntimeWarning: divide by zero encountered in scalar divide\n",
            "  zstat = (value1 - value2 - diff) / std_diff\n"
          ]
        }
      ],
      "source": [
        "import statsmodels.stats.weightstats as stests\n",
        "\n",
        "# Given data\n",
        "population_mean = 160  # Population mean height for Gen X\n",
        "population_sd = 4      # Population standard deviation for Gen X\n",
        "sample_size = 16       # Sample size of Gen Y\n",
        "sample_mean = 164      # Sample mean height for Gen Y\n",
        "\n",
        "# Perform one-sample z-test\n",
        "ztest ,pval = stests.ztest(x1= [sample_mean]*sample_size , x2=None, value=population_mean, alternative='two-sided')\n",
        "print(\"p-value:\", pval)\n",
        "\n",
        "# Interpret the result\n",
        "alpha = 0.05  # Significance level\n",
        "\n",
        "if pval < alpha:\n",
        "  print(\"Reject the null hypothesis. There is a statistically significant difference in height between Gen X and Gen Y.\")\n",
        "else:\n",
        "  print(\"Fail to reject the null hypothesis. There is no statistically significant difference in height between Gen X and Gen Y.\")\n"
      ]
    }
  ]
}