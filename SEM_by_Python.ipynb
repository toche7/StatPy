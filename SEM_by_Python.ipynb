{
  "nbformat": 4,
  "nbformat_minor": 0,
  "metadata": {
    "colab": {
      "provenance": [],
      "authorship_tag": "ABX9TyNIUudNhA4ZLDdPuCaYEbtD",
      "include_colab_link": true
    },
    "kernelspec": {
      "name": "python3",
      "display_name": "Python 3"
    },
    "language_info": {
      "name": "python"
    }
  },
  "cells": [
    {
      "cell_type": "markdown",
      "metadata": {
        "id": "view-in-github",
        "colab_type": "text"
      },
      "source": [
        "<a href=\"https://colab.research.google.com/github/toche7/StatPy/blob/main/SEM_by_Python.ipynb\" target=\"_parent\"><img src=\"https://colab.research.google.com/assets/colab-badge.svg\" alt=\"Open In Colab\"/></a>"
      ]
    },
    {
      "cell_type": "markdown",
      "source": [
        "Read:\n",
        "\n",
        "https://cr-c.medium.com/variance-covariance-matrices-for-structural-equation-modeling-sem-in-python-d92f5a1f9a35\n",
        "\n",
        "Data:\n",
        "\n",
        "https://www.guilford.com/companion-site/Principles-and-Practice-of-Structural-Equation-Modeling-Fourth-Edition/9781462523344/files\n"
      ],
      "metadata": {
        "id": "TlBz8bAHbnMh"
      }
    },
    {
      "cell_type": "code",
      "source": [
        "!pip install semopy"
      ],
      "metadata": {
        "colab": {
          "base_uri": "https://localhost:8080/"
        },
        "id": "A_BMxyVbYGSv",
        "outputId": "598eede8-3eec-4b50-8ec2-183d9e422c75"
      },
      "execution_count": null,
      "outputs": [
        {
          "output_type": "stream",
          "name": "stdout",
          "text": [
            "Looking in indexes: https://pypi.org/simple, https://us-python.pkg.dev/colab-wheels/public/simple/\n",
            "Requirement already satisfied: semopy in /usr/local/lib/python3.10/dist-packages (2.3.9)\n",
            "Requirement already satisfied: statsmodels in /usr/local/lib/python3.10/dist-packages (from semopy) (0.13.5)\n",
            "Requirement already satisfied: scipy in /usr/local/lib/python3.10/dist-packages (from semopy) (1.10.1)\n",
            "Requirement already satisfied: pandas in /usr/local/lib/python3.10/dist-packages (from semopy) (1.5.3)\n",
            "Requirement already satisfied: sympy in /usr/local/lib/python3.10/dist-packages (from semopy) (1.11.1)\n",
            "Requirement already satisfied: numpy in /usr/local/lib/python3.10/dist-packages (from semopy) (1.22.4)\n",
            "Requirement already satisfied: sklearn in /usr/local/lib/python3.10/dist-packages (from semopy) (0.0.post4)\n",
            "Requirement already satisfied: python-dateutil>=2.8.1 in /usr/local/lib/python3.10/dist-packages (from pandas->semopy) (2.8.2)\n",
            "Requirement already satisfied: pytz>=2020.1 in /usr/local/lib/python3.10/dist-packages (from pandas->semopy) (2022.7.1)\n",
            "Requirement already satisfied: packaging>=21.3 in /usr/local/lib/python3.10/dist-packages (from statsmodels->semopy) (23.1)\n",
            "Requirement already satisfied: patsy>=0.5.2 in /usr/local/lib/python3.10/dist-packages (from statsmodels->semopy) (0.5.3)\n",
            "Requirement already satisfied: mpmath>=0.19 in /usr/local/lib/python3.10/dist-packages (from sympy->semopy) (1.3.0)\n",
            "Requirement already satisfied: six in /usr/local/lib/python3.10/dist-packages (from patsy>=0.5.2->statsmodels->semopy) (1.16.0)\n"
          ]
        }
      ]
    },
    {
      "cell_type": "code",
      "source": [
        "import semopy as sem\n",
        "import pandas as pd\n",
        "import numpy as np\n",
        "from statsmodels.stats.moment_helpers import corr2cov\n",
        "# Data Import\n",
        "data = pd.read_csv('houghton.csv')"
      ],
      "metadata": {
        "id": "argiDl1pYTW3"
      },
      "execution_count": null,
      "outputs": []
    },
    {
      "cell_type": "code",
      "source": [
        "# Transforming correlations to Variance Covariance Matrix\n",
        "variables = [\"work1\",\"work2\",\"work3\",\"happy\",\"mood1\",\"mood2\",\"perform1\",\"perform2\",\"approval\",\"beliefs\",\"selftalk\",\"imagery\"]\n",
        "data2= data[variables]\n",
        "covMatrix = corr2cov(data2[1:13], data2[13:14])\n",
        "X = np.tril(np.array(covMatrix))\n",
        "X_low = np.tril(X)\n",
        "X_low = X_low.T\n",
        "for ind, i in enumerate(X_low):\n",
        "    for ind2, j in enumerate(i):\n",
        "        if(ind == ind2):\n",
        "            X_low[ind][ind2]=0\n",
        "covFull = X+X_low"
      ],
      "metadata": {
        "id": "rcWdTY4Gaogj"
      },
      "execution_count": null,
      "outputs": []
    },
    {
      "cell_type": "code",
      "source": [
        "# Creating Dataframe for SEM analysis in python\n",
        "dataframe = pd.DataFrame(data=covFull, index=variables, columns=variables)"
      ],
      "metadata": {
        "id": "W8TRKgCSarDS"
      },
      "execution_count": null,
      "outputs": []
    },
    {
      "cell_type": "code",
      "source": [
        "# Describing model for SEM\n",
        "mod = \"\"\"\n",
        "# measurement model\n",
        "Construc =~ beliefs + selftalk + imagery\n",
        "Dysfunc =~ perform1 + perform2 + approval\n",
        "WellBe =~ happy + mood1 + mood2\n",
        "JobSat =~ work1 + work2 + work3\n",
        "# error covariance\n",
        "happy ~~ mood2 \n",
        "# structural part\n",
        "Dysfunc ~ Construc\n",
        "WellBe ~ Construc + Dysfunc\n",
        "JobSat ~ Construc + Dysfunc + WellBe\"\"\""
      ],
      "metadata": {
        "id": "UxRgZAlZay3J"
      },
      "execution_count": null,
      "outputs": []
    },
    {
      "cell_type": "code",
      "source": [
        "model = sem.Model(mod)\n",
        "res = model.fit(data=None, obj=\"MLW\",solver='SLSQP',cov=dataframe, n_samples=263)"
      ],
      "metadata": {
        "id": "isHxCF6La8mp"
      },
      "execution_count": null,
      "outputs": []
    },
    {
      "cell_type": "code",
      "source": [
        "estimates = model.inspect(std_est=True,)\n",
        "stats =  sem.calc_stats(model)\n",
        "basic_stats = stats[['DoF','chi2', 'RMSEA', 'NFI', 'TLI', 'CFI', 'GFI']]"
      ],
      "metadata": {
        "id": "EjSAIkz0a_s6"
      },
      "execution_count": null,
      "outputs": []
    },
    {
      "cell_type": "code",
      "source": [
        "sem.semplot(model, \"model_houghton.png\")"
      ],
      "metadata": {
        "colab": {
          "base_uri": "https://localhost:8080/",
          "height": 822
        },
        "id": "xd59UTjFbDJe",
        "outputId": "c1b652a6-1e3a-45f9-eb57-178148db3f68"
      },
      "execution_count": null,
      "outputs": [
        {
          "output_type": "execute_result",
          "data": {
            "image/svg+xml": "<?xml version=\"1.0\" encoding=\"UTF-8\" standalone=\"no\"?>\n<!DOCTYPE svg PUBLIC \"-//W3C//DTD SVG 1.1//EN\"\n \"http://www.w3.org/Graphics/SVG/1.1/DTD/svg11.dtd\">\n<!-- Generated by graphviz version 2.43.0 (0)\n -->\n<!-- Title: G Pages: 1 -->\n<svg width=\"895pt\" height=\"600pt\"\n viewBox=\"0.00 0.00 895.00 600.07\" xmlns=\"http://www.w3.org/2000/svg\" xmlns:xlink=\"http://www.w3.org/1999/xlink\">\n<g id=\"graph0\" class=\"graph\" transform=\"scale(1 1) rotate(0) translate(4 596.07)\">\n<title>G</title>\n<polygon fill=\"white\" stroke=\"transparent\" points=\"-4,4 -4,-596.07 891,-596.07 891,4 -4,4\"/>\n<!-- WellBe -->\n<g id=\"node1\" class=\"node\">\n<title>WellBe</title>\n<ellipse fill=\"#cae6df\" stroke=\"black\" cx=\"181\" cy=\"-265.94\" rx=\"37.09\" ry=\"37.09\"/>\n<text text-anchor=\"middle\" x=\"181\" y=\"-262.24\" font-family=\"Times,serif\" font-size=\"14.00\">WellBe</text>\n</g>\n<!-- JobSat -->\n<g id=\"node4\" class=\"node\">\n<title>JobSat</title>\n<ellipse fill=\"#cae6df\" stroke=\"black\" cx=\"317\" cy=\"-132.45\" rx=\"34.39\" ry=\"34.39\"/>\n<text text-anchor=\"middle\" x=\"317\" y=\"-128.75\" font-family=\"Times,serif\" font-size=\"14.00\">JobSat</text>\n</g>\n<!-- WellBe&#45;&gt;JobSat -->\n<g id=\"edge6\" class=\"edge\">\n<title>WellBe&#45;&gt;JobSat</title>\n<path fill=\"none\" stroke=\"black\" d=\"M204.87,-237.53C224.64,-214.83 249.71,-186.11 251,-184.89 260.41,-176 271.28,-167.06 281.44,-159.18\"/>\n<polygon fill=\"black\" stroke=\"black\" points=\"283.56,-161.96 289.39,-153.12 279.32,-156.39 283.56,-161.96\"/>\n<text text-anchor=\"middle\" x=\"277\" y=\"-201.29\" font-family=\"Times,serif\" font-size=\"12.00\">0.794</text>\n<text text-anchor=\"middle\" x=\"277\" y=\"-188.29\" font-family=\"Times,serif\" font-size=\"12.00\">p&#45;val: 0.00</text>\n</g>\n<!-- happy -->\n<g id=\"node7\" class=\"node\">\n<title>happy</title>\n<polygon fill=\"none\" stroke=\"black\" points=\"54,-150.45 0,-150.45 0,-114.45 54,-114.45 54,-150.45\"/>\n<text text-anchor=\"middle\" x=\"27\" y=\"-128.75\" font-family=\"Times,serif\" font-size=\"14.00\">happy</text>\n</g>\n<!-- WellBe&#45;&gt;happy -->\n<g id=\"edge13\" class=\"edge\">\n<title>WellBe&#45;&gt;happy</title>\n<path fill=\"none\" stroke=\"black\" d=\"M146.1,-252.79C123.88,-243.77 95.52,-229.77 75,-210.89 59.43,-196.57 47.03,-176.07 38.73,-159.76\"/>\n<polygon fill=\"black\" stroke=\"black\" points=\"41.85,-158.18 34.33,-150.72 35.56,-161.25 41.85,-158.18\"/>\n<text text-anchor=\"middle\" x=\"89\" y=\"-194.79\" font-family=\"Times,serif\" font-size=\"12.00\">1.000</text>\n</g>\n<!-- mood1 -->\n<g id=\"node9\" class=\"node\">\n<title>mood1</title>\n<polygon fill=\"none\" stroke=\"black\" points=\"127.5,-150.45 72.5,-150.45 72.5,-114.45 127.5,-114.45 127.5,-150.45\"/>\n<text text-anchor=\"middle\" x=\"100\" y=\"-128.75\" font-family=\"Times,serif\" font-size=\"14.00\">mood1</text>\n</g>\n<!-- WellBe&#45;&gt;mood1 -->\n<g id=\"edge14\" class=\"edge\">\n<title>WellBe&#45;&gt;mood1</title>\n<path fill=\"none\" stroke=\"black\" d=\"M150.52,-244.59C139.09,-235.52 126.95,-223.94 119,-210.89 109.75,-195.72 105,-176.29 102.56,-160.68\"/>\n<polygon fill=\"black\" stroke=\"black\" points=\"106.01,-160.04 101.22,-150.59 99.07,-160.97 106.01,-160.04\"/>\n<text text-anchor=\"middle\" x=\"145\" y=\"-201.29\" font-family=\"Times,serif\" font-size=\"12.00\">1.484</text>\n<text text-anchor=\"middle\" x=\"145\" y=\"-188.29\" font-family=\"Times,serif\" font-size=\"12.00\">p&#45;val: 0.00</text>\n</g>\n<!-- mood2 -->\n<g id=\"node10\" class=\"node\">\n<title>mood2</title>\n<polygon fill=\"none\" stroke=\"black\" points=\"202.5,-150.45 147.5,-150.45 147.5,-114.45 202.5,-114.45 202.5,-150.45\"/>\n<text text-anchor=\"middle\" x=\"175\" y=\"-128.75\" font-family=\"Times,serif\" font-size=\"14.00\">mood2</text>\n</g>\n<!-- WellBe&#45;&gt;mood2 -->\n<g id=\"edge15\" class=\"edge\">\n<title>WellBe&#45;&gt;mood2</title>\n<path fill=\"none\" stroke=\"black\" d=\"M177.27,-228.92C176.76,-222.91 176.31,-216.73 176,-210.89 175.12,-194.25 174.86,-175.58 174.82,-160.73\"/>\n<polygon fill=\"black\" stroke=\"black\" points=\"178.32,-160.69 174.83,-150.69 171.32,-160.68 178.32,-160.69\"/>\n<text text-anchor=\"middle\" x=\"202\" y=\"-201.29\" font-family=\"Times,serif\" font-size=\"12.00\">0.818</text>\n<text text-anchor=\"middle\" x=\"202\" y=\"-188.29\" font-family=\"Times,serif\" font-size=\"12.00\">p&#45;val: 0.00</text>\n</g>\n<!-- Construc -->\n<g id=\"node2\" class=\"node\">\n<title>Construc</title>\n<ellipse fill=\"#cae6df\" stroke=\"black\" cx=\"678\" cy=\"-549.83\" rx=\"42.49\" ry=\"42.49\"/>\n<text text-anchor=\"middle\" x=\"678\" y=\"-546.13\" font-family=\"Times,serif\" font-size=\"14.00\">Construc</text>\n</g>\n<!-- Construc&#45;&gt;WellBe -->\n<g id=\"edge2\" class=\"edge\">\n<title>Construc&#45;&gt;WellBe</title>\n<path fill=\"none\" stroke=\"black\" d=\"M636.97,-539.7C574.74,-524.96 453.72,-492.7 359,-445.58 290.54,-411.52 267.07,-405.63 218,-346.99 209.15,-336.41 201.95,-323.38 196.33,-310.91\"/>\n<polygon fill=\"black\" stroke=\"black\" points=\"199.48,-309.38 192.34,-301.55 193.04,-312.12 199.48,-309.38\"/>\n<text text-anchor=\"middle\" x=\"385\" y=\"-408.68\" font-family=\"Times,serif\" font-size=\"12.00\">0.067</text>\n<text text-anchor=\"middle\" x=\"385\" y=\"-395.68\" font-family=\"Times,serif\" font-size=\"12.00\">p&#45;val: 0.28</text>\n</g>\n<!-- Dysfunc -->\n<g id=\"node3\" class=\"node\">\n<title>Dysfunc</title>\n<ellipse fill=\"#cae6df\" stroke=\"black\" cx=\"460\" cy=\"-405.28\" rx=\"40.09\" ry=\"40.09\"/>\n<text text-anchor=\"middle\" x=\"460\" y=\"-401.58\" font-family=\"Times,serif\" font-size=\"14.00\">Dysfunc</text>\n</g>\n<!-- Construc&#45;&gt;Dysfunc -->\n<g id=\"edge1\" class=\"edge\">\n<title>Construc&#45;&gt;Dysfunc</title>\n<path fill=\"none\" stroke=\"black\" d=\"M642.56,-526.49C625.16,-515.46 603.93,-501.91 585,-489.58 557.08,-471.38 525.88,-450.6 501.64,-434.34\"/>\n<polygon fill=\"black\" stroke=\"black\" points=\"503.29,-431.23 493.04,-428.57 499.39,-437.05 503.29,-431.23\"/>\n<text text-anchor=\"middle\" x=\"611\" y=\"-479.98\" font-family=\"Times,serif\" font-size=\"12.00\">&#45;0.131</text>\n<text text-anchor=\"middle\" x=\"611\" y=\"-466.98\" font-family=\"Times,serif\" font-size=\"12.00\">p&#45;val: 0.09</text>\n</g>\n<!-- Construc&#45;&gt;JobSat -->\n<g id=\"edge4\" class=\"edge\">\n<title>Construc&#45;&gt;JobSat</title>\n<path fill=\"none\" stroke=\"black\" d=\"M674.53,-507.47C667.32,-425.76 649.89,-249.72 632,-228.89 563.56,-149.22 431,-134.75 361.69,-132.93\"/>\n<polygon fill=\"black\" stroke=\"black\" points=\"361.59,-129.43 351.53,-132.74 361.46,-136.43 361.59,-129.43\"/>\n<text text-anchor=\"middle\" x=\"683\" y=\"-337.39\" font-family=\"Times,serif\" font-size=\"12.00\">0.161</text>\n<text text-anchor=\"middle\" x=\"683\" y=\"-324.39\" font-family=\"Times,serif\" font-size=\"12.00\">p&#45;val: 0.18</text>\n</g>\n<!-- beliefs -->\n<g id=\"node6\" class=\"node\">\n<title>beliefs</title>\n<polygon fill=\"none\" stroke=\"black\" points=\"733,-423.28 679,-423.28 679,-387.28 733,-387.28 733,-423.28\"/>\n<text text-anchor=\"middle\" x=\"706\" y=\"-401.58\" font-family=\"Times,serif\" font-size=\"14.00\">beliefs</text>\n</g>\n<!-- Construc&#45;&gt;beliefs -->\n<g id=\"edge7\" class=\"edge\">\n<title>Construc&#45;&gt;beliefs</title>\n<path fill=\"none\" stroke=\"black\" d=\"M686.02,-507.98C690.72,-484.05 696.53,-454.49 700.67,-433.42\"/>\n<polygon fill=\"black\" stroke=\"black\" points=\"704.12,-434.02 702.61,-423.53 697.25,-432.67 704.12,-434.02\"/>\n<text text-anchor=\"middle\" x=\"708\" y=\"-473.48\" font-family=\"Times,serif\" font-size=\"12.00\">1.000</text>\n</g>\n<!-- imagery -->\n<g id=\"node8\" class=\"node\">\n<title>imagery</title>\n<polygon fill=\"none\" stroke=\"black\" points=\"813,-423.28 751,-423.28 751,-387.28 813,-387.28 813,-423.28\"/>\n<text text-anchor=\"middle\" x=\"782\" y=\"-401.58\" font-family=\"Times,serif\" font-size=\"14.00\">imagery</text>\n</g>\n<!-- Construc&#45;&gt;imagery -->\n<g id=\"edge9\" class=\"edge\">\n<title>Construc&#45;&gt;imagery</title>\n<path fill=\"none\" stroke=\"black\" d=\"M704.69,-516.95C711.77,-508.2 719.31,-498.63 726,-489.58 739.89,-470.78 754.6,-448.81 765.46,-432.15\"/>\n<polygon fill=\"black\" stroke=\"black\" points=\"768.57,-433.8 771.07,-423.5 762.69,-429.99 768.57,-433.8\"/>\n<text text-anchor=\"middle\" x=\"769\" y=\"-479.98\" font-family=\"Times,serif\" font-size=\"12.00\">1.898</text>\n<text text-anchor=\"middle\" x=\"769\" y=\"-466.98\" font-family=\"Times,serif\" font-size=\"12.00\">p&#45;val: 0.00</text>\n</g>\n<!-- selftalk -->\n<g id=\"node13\" class=\"node\">\n<title>selftalk</title>\n<polygon fill=\"none\" stroke=\"black\" points=\"887,-423.28 831,-423.28 831,-387.28 887,-387.28 887,-423.28\"/>\n<text text-anchor=\"middle\" x=\"859\" y=\"-401.58\" font-family=\"Times,serif\" font-size=\"14.00\">selftalk</text>\n</g>\n<!-- Construc&#45;&gt;selftalk -->\n<g id=\"edge8\" class=\"edge\">\n<title>Construc&#45;&gt;selftalk</title>\n<path fill=\"none\" stroke=\"black\" d=\"M717.65,-535.17C742.78,-525.19 774.96,-509.87 799,-489.58 818.02,-473.53 834.15,-450.2 844.87,-432.31\"/>\n<polygon fill=\"black\" stroke=\"black\" points=\"847.98,-433.93 849.98,-423.52 841.93,-430.41 847.98,-433.93\"/>\n<text text-anchor=\"middle\" x=\"848\" y=\"-479.98\" font-family=\"Times,serif\" font-size=\"12.00\">1.058</text>\n<text text-anchor=\"middle\" x=\"848\" y=\"-466.98\" font-family=\"Times,serif\" font-size=\"12.00\">p&#45;val: 0.00</text>\n</g>\n<!-- Dysfunc&#45;&gt;WellBe -->\n<g id=\"edge3\" class=\"edge\">\n<title>Dysfunc&#45;&gt;WellBe</title>\n<path fill=\"none\" stroke=\"black\" d=\"M419.89,-400.26C375.65,-394.32 303.76,-380.06 251,-346.99 234.11,-336.4 219.01,-320.5 207.2,-305.65\"/>\n<polygon fill=\"black\" stroke=\"black\" points=\"209.85,-303.35 200.98,-297.55 204.29,-307.62 209.85,-303.35\"/>\n<text text-anchor=\"middle\" x=\"277\" y=\"-337.39\" font-family=\"Times,serif\" font-size=\"12.00\">&#45;0.366</text>\n<text text-anchor=\"middle\" x=\"277\" y=\"-324.39\" font-family=\"Times,serif\" font-size=\"12.00\">p&#45;val: 0.00</text>\n</g>\n<!-- Dysfunc&#45;&gt;JobSat -->\n<g id=\"edge5\" class=\"edge\">\n<title>Dysfunc&#45;&gt;JobSat</title>\n<path fill=\"none\" stroke=\"black\" d=\"M423.48,-387.91C391.57,-371.44 347.14,-342.78 326,-302.99 305.3,-264.01 305.73,-212.64 309.66,-176.7\"/>\n<polygon fill=\"black\" stroke=\"black\" points=\"313.16,-176.88 310.91,-166.53 306.22,-176.03 313.16,-176.88\"/>\n<text text-anchor=\"middle\" x=\"352\" y=\"-269.34\" font-family=\"Times,serif\" font-size=\"12.00\">&#45;0.243</text>\n<text text-anchor=\"middle\" x=\"352\" y=\"-256.34\" font-family=\"Times,serif\" font-size=\"12.00\">p&#45;val: 0.06</text>\n</g>\n<!-- approval -->\n<g id=\"node5\" class=\"node\">\n<title>approval</title>\n<polygon fill=\"none\" stroke=\"black\" points=\"451,-283.94 387,-283.94 387,-247.94 451,-247.94 451,-283.94\"/>\n<text text-anchor=\"middle\" x=\"419\" y=\"-262.24\" font-family=\"Times,serif\" font-size=\"14.00\">approval</text>\n</g>\n<!-- Dysfunc&#45;&gt;approval -->\n<g id=\"edge12\" class=\"edge\">\n<title>Dysfunc&#45;&gt;approval</title>\n<path fill=\"none\" stroke=\"black\" d=\"M439.15,-370.67C435.22,-363.11 431.55,-354.96 429,-346.99 423.55,-329.97 421.05,-310.04 419.91,-294.32\"/>\n<polygon fill=\"black\" stroke=\"black\" points=\"423.39,-293.98 419.32,-284.2 416.41,-294.39 423.39,-293.98\"/>\n<text text-anchor=\"middle\" x=\"455\" y=\"-337.39\" font-family=\"Times,serif\" font-size=\"12.00\">0.993</text>\n<text text-anchor=\"middle\" x=\"455\" y=\"-324.39\" font-family=\"Times,serif\" font-size=\"12.00\">p&#45;val: 0.00</text>\n</g>\n<!-- perform1 -->\n<g id=\"node11\" class=\"node\">\n<title>perform1</title>\n<polygon fill=\"none\" stroke=\"black\" points=\"537,-283.94 469,-283.94 469,-247.94 537,-247.94 537,-283.94\"/>\n<text text-anchor=\"middle\" x=\"503\" y=\"-262.24\" font-family=\"Times,serif\" font-size=\"14.00\">perform1</text>\n</g>\n<!-- Dysfunc&#45;&gt;perform1 -->\n<g id=\"edge10\" class=\"edge\">\n<title>Dysfunc&#45;&gt;perform1</title>\n<path fill=\"none\" stroke=\"black\" d=\"M474.01,-367.45C476.44,-360.68 478.87,-353.65 481,-346.99 486.57,-329.59 492.02,-309.8 496.1,-294.25\"/>\n<polygon fill=\"black\" stroke=\"black\" points=\"499.57,-294.8 498.69,-284.24 492.79,-293.04 499.57,-294.8\"/>\n<text text-anchor=\"middle\" x=\"502\" y=\"-330.89\" font-family=\"Times,serif\" font-size=\"12.00\">1.000</text>\n</g>\n<!-- perform2 -->\n<g id=\"node12\" class=\"node\">\n<title>perform2</title>\n<polygon fill=\"none\" stroke=\"black\" points=\"623,-283.94 555,-283.94 555,-247.94 623,-247.94 623,-283.94\"/>\n<text text-anchor=\"middle\" x=\"589\" y=\"-262.24\" font-family=\"Times,serif\" font-size=\"14.00\">perform2</text>\n</g>\n<!-- Dysfunc&#45;&gt;perform2 -->\n<g id=\"edge11\" class=\"edge\">\n<title>Dysfunc&#45;&gt;perform2</title>\n<path fill=\"none\" stroke=\"black\" d=\"M489.24,-377.44C499.2,-368.01 510.28,-357.22 520,-346.99 536.9,-329.21 554.97,-308.17 568.37,-292.12\"/>\n<polygon fill=\"black\" stroke=\"black\" points=\"571.23,-294.16 574.93,-284.23 565.84,-289.68 571.23,-294.16\"/>\n<text text-anchor=\"middle\" x=\"569\" y=\"-337.39\" font-family=\"Times,serif\" font-size=\"12.00\">1.133</text>\n<text text-anchor=\"middle\" x=\"569\" y=\"-324.39\" font-family=\"Times,serif\" font-size=\"12.00\">p&#45;val: 0.00</text>\n</g>\n<!-- work1 -->\n<g id=\"node14\" class=\"node\">\n<title>work1</title>\n<polygon fill=\"none\" stroke=\"black\" points=\"272,-36 218,-36 218,0 272,0 272,-36\"/>\n<text text-anchor=\"middle\" x=\"245\" y=\"-14.3\" font-family=\"Times,serif\" font-size=\"14.00\">work1</text>\n</g>\n<!-- JobSat&#45;&gt;work1 -->\n<g id=\"edge16\" class=\"edge\">\n<title>JobSat&#45;&gt;work1</title>\n<path fill=\"none\" stroke=\"black\" d=\"M298.83,-103.07C287.34,-85.12 272.6,-62.1 261.45,-44.69\"/>\n<polygon fill=\"black\" stroke=\"black\" points=\"264.32,-42.69 255.98,-36.15 258.43,-46.46 264.32,-42.69\"/>\n<text text-anchor=\"middle\" x=\"297\" y=\"-63.9\" font-family=\"Times,serif\" font-size=\"12.00\">1.000</text>\n</g>\n<!-- work2 -->\n<g id=\"node15\" class=\"node\">\n<title>work2</title>\n<polygon fill=\"none\" stroke=\"black\" points=\"344,-36 290,-36 290,0 344,0 344,-36\"/>\n<text text-anchor=\"middle\" x=\"317\" y=\"-14.3\" font-family=\"Times,serif\" font-size=\"14.00\">work2</text>\n</g>\n<!-- JobSat&#45;&gt;work2 -->\n<g id=\"edge17\" class=\"edge\">\n<title>JobSat&#45;&gt;work2</title>\n<path fill=\"none\" stroke=\"black\" d=\"M317,-97.71C317,-81.36 317,-61.98 317,-46.54\"/>\n<polygon fill=\"black\" stroke=\"black\" points=\"320.5,-46.1 317,-36.1 313.5,-46.1 320.5,-46.1\"/>\n<text text-anchor=\"middle\" x=\"343\" y=\"-70.4\" font-family=\"Times,serif\" font-size=\"12.00\">1.035</text>\n<text text-anchor=\"middle\" x=\"343\" y=\"-57.4\" font-family=\"Times,serif\" font-size=\"12.00\">p&#45;val: 0.00</text>\n</g>\n<!-- work3 -->\n<g id=\"node16\" class=\"node\">\n<title>work3</title>\n<polygon fill=\"none\" stroke=\"black\" points=\"419,-36 365,-36 365,0 419,0 419,-36\"/>\n<text text-anchor=\"middle\" x=\"392\" y=\"-14.3\" font-family=\"Times,serif\" font-size=\"14.00\">work3</text>\n</g>\n<!-- JobSat&#45;&gt;work3 -->\n<g id=\"edge18\" class=\"edge\">\n<title>JobSat&#45;&gt;work3</title>\n<path fill=\"none\" stroke=\"black\" d=\"M343.49,-110.17C352.86,-101.59 362.84,-91.1 370,-80 376.68,-69.64 381.68,-56.99 385.2,-45.9\"/>\n<polygon fill=\"black\" stroke=\"black\" points=\"388.57,-46.84 388.03,-36.26 381.85,-44.87 388.57,-46.84\"/>\n<text text-anchor=\"middle\" x=\"408\" y=\"-70.4\" font-family=\"Times,serif\" font-size=\"12.00\">0.891</text>\n<text text-anchor=\"middle\" x=\"408\" y=\"-57.4\" font-family=\"Times,serif\" font-size=\"12.00\">p&#45;val: 0.00</text>\n</g>\n</g>\n</svg>\n",
            "text/plain": [
              "<graphviz.graphs.Digraph at 0x7fb66d8c6e30>"
            ]
          },
          "metadata": {},
          "execution_count": 23
        }
      ]
    }
  ]
}